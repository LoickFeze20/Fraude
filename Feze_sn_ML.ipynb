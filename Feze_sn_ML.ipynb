{
 "cells": [
  {
   "cell_type": "markdown",
   "id": "c26e58d5",
   "metadata": {},
   "source": [
    "## PETIT PREPROCESSING"
   ]
  },
  {
   "cell_type": "markdown",
   "id": "bef11eaa",
   "metadata": {},
   "source": [
    "### *library and setup dfset*"
   ]
  },
  {
   "cell_type": "code",
   "execution_count": 281,
   "id": "63d00745",
   "metadata": {},
   "outputs": [
    {
     "data": {
      "application/vnd.microsoft.datawrangler.viewer.v0+json": {
       "columns": [
        {
         "name": "index",
         "rawType": "int64",
         "type": "integer"
        },
        {
         "name": "age",
         "rawType": "float64",
         "type": "float"
        },
        {
         "name": "salaire",
         "rawType": "float64",
         "type": "float"
        },
        {
         "name": "score_credit",
         "rawType": "float64",
         "type": "float"
        },
        {
         "name": "montant_transaction",
         "rawType": "float64",
         "type": "float"
        },
        {
         "name": "anciennete_compte",
         "rawType": "float64",
         "type": "float"
        },
        {
         "name": "type_carte",
         "rawType": "object",
         "type": "unknown"
        },
        {
         "name": "region",
         "rawType": "object",
         "type": "unknown"
        },
        {
         "name": "genre",
         "rawType": "object",
         "type": "unknown"
        },
        {
         "name": "fraude",
         "rawType": "float64",
         "type": "float"
        }
       ],
       "ref": "7796492e-5270-47f9-a5f7-8e48733cb362",
       "rows": [
        [
         "0",
         "49.54889404138071",
         "183659.04578435957",
         "48.2285786546242",
         "9649455.81898502",
         "14.0",
         "Mastercard",
         "Houston",
         "femelle",
         "0.0"
        ],
        [
         "1",
         "44.95266535510408",
         "329732.599158123",
         "67.57309700360759",
         "25000.0",
         null,
         "Mastercard",
         "Houston",
         "femelle",
         "0.0"
        ],
        [
         "2",
         "41.65991038281746",
         "75000.0",
         "77.55948667850828",
         "2724004.395371683",
         "9.0",
         "Visa",
         "Houston",
         "male",
         "0.0"
        ],
        [
         "3",
         "42.377280190465775",
         "75000.0",
         "54.28221964572267",
         "4755632.036666362",
         "9.0",
         "Mastercard",
         "Orlando",
         "femelle",
         "0.0"
        ],
        [
         "4",
         "48.125023071955766",
         "359999.48294154095",
         "71.14854574228272",
         "25000.0",
         "8.0",
         "Mastercard",
         "Orlando",
         "femelle",
         "0.0"
        ],
        [
         "5",
         "34.90494088848834",
         "397644.8518169162",
         "49.93038302853597",
         "7176256.481473299",
         "11.0",
         "Visa",
         "Miami",
         null,
         "0.0"
        ],
        [
         "6",
         "39.231994706129136",
         "428573.7582634933",
         "53.6356246517432",
         "11531961.143126665",
         "10.0",
         "Visa",
         "Orlando",
         "femelle",
         "1.0"
        ],
        [
         "7",
         "47.84919772456283",
         "245523.6661900776",
         "19.711718752037587",
         "4595029.316068816",
         "7.0",
         null,
         "Houston",
         "male",
         "0.0"
        ],
        [
         "8",
         "36.53889986933177",
         "380458.3828271364",
         "23.3510043800359",
         "25000.0",
         "6.0",
         "Mastercard",
         "Houston",
         "male",
         "0.0"
        ],
        [
         "9",
         "45.67679583506853",
         "215836.6303528504",
         "99.0",
         "1514746.0994707665",
         "9.0",
         "Mastercard",
         "Houston",
         "male",
         "0.0"
        ],
        [
         "10",
         "44.18659026182871",
         "230620.0550529932",
         "41.75159860300186",
         "5899384.622489492",
         "12.0",
         "Visa",
         "Miami",
         "male",
         "0.0"
        ],
        [
         "11",
         "26.78205858117208",
         "292086.73379988514",
         "83.71403508069943",
         "8850063.731864616",
         "1.0",
         "Visa",
         "Houston",
         "male",
         "0.0"
        ],
        [
         "12",
         "29.07041329864866",
         "458193.09427309775",
         "45.8567662181192",
         "25000.0",
         "11.0",
         "Mastercard",
         "Orlando",
         "femelle",
         "0.0"
        ],
        [
         "13",
         "31.55110744650331",
         "524056.4638508301",
         "42.19181627156733",
         "3990365.236372667",
         "3.0",
         "Visa",
         "Miami",
         "femelle",
         "0.0"
        ],
        [
         "14",
         "37.587789633845226",
         "134332.22582175056",
         "75.4206019886228",
         "1866000.4081062705",
         "9.0",
         "Visa",
         "Orlando",
         "male",
         "0.0"
        ],
        [
         "15",
         "52.342454190157454",
         "326351.0568737669",
         null,
         "1497497.528357857",
         "6.0",
         "Visa",
         "Orlando",
         "femelle",
         "0.0"
        ],
        [
         "16",
         "38.62803519689409",
         "209866.9236219281",
         "74.45615844266817",
         "7608717.555960263",
         "16.0",
         "Visa",
         "Houston",
         "femelle",
         "0.0"
        ],
        [
         "17",
         "42.65897866579188",
         "269787.01498845394",
         "68.98592996750631",
         "1322323.2096801624",
         "14.0",
         "Visa",
         "Orlando",
         "male",
         "0.0"
        ],
        [
         "18",
         "56.43611911523808",
         "389863.4638895714",
         "38.05442128307504",
         "6391169.172671343",
         "23.0",
         "Visa",
         "Houston",
         "femelle",
         "0.0"
        ],
        [
         "19",
         "38.84106595883125",
         "472423.1046015553",
         "56.72150825010693",
         "3367176.7012263853",
         "10.0",
         "Visa",
         "Miami",
         "femelle",
         "0.0"
        ],
        [
         "20",
         "40.15996388965135",
         "174619.46165725414",
         "41.46800727427926",
         "10667847.362750756",
         "11.0",
         null,
         "Houston",
         "femelle",
         "0.0"
        ],
        [
         "21",
         "43.378598379599",
         "320973.2037777316",
         "36.04916115049771",
         "8776658.617228465",
         "7.0",
         "Mastercard",
         "Miami",
         "male",
         "0.0"
        ],
        [
         "22",
         "38.82815463417471",
         "343822.3263178198",
         "41.55008209135132",
         "4941408.8315986935",
         "9.0",
         "Visa",
         "Orlando",
         "femelle",
         "0.0"
        ],
        [
         "23",
         "60.0",
         "75000.0",
         "41.774791390330336",
         "1345471.7995780432",
         "5.0",
         "Visa",
         "Houston",
         "femelle",
         "0.0"
        ],
        [
         "24",
         "43.3880629921763",
         "297279.86347378773",
         "60.4243158237745",
         "8379180.349166197",
         "19.0",
         "Visa",
         "Miami",
         null,
         "0.0"
        ],
        [
         "25",
         "43.48169222631682",
         "214597.28646282936",
         "48.99838802287066",
         "3930718.638424764",
         "10.0",
         "Mastercard",
         "Orlando",
         "femelle",
         "0.0"
        ],
        [
         "26",
         "44.676983619893925",
         "597370.5675253391",
         "39.47035290410154",
         "8332033.052162276",
         "2.0",
         "Visa",
         "Orlando",
         "male",
         null
        ],
        [
         "27",
         "29.637931034663037",
         "342568.204175712",
         "17.37864749610042",
         "9515587.99663712",
         "4.0",
         "Visa",
         "Orlando",
         "femelle",
         "0.0"
        ],
        [
         "28",
         "39.76518638307444",
         "175755.93594774016",
         "66.52906221717525",
         "7020286.4382610805",
         "10.0",
         "Visa",
         "Miami",
         "male",
         "0.0"
        ],
        [
         "29",
         "48.46368571071034",
         "306894.1404073401",
         "51.65729683737992",
         null,
         "10.0",
         "Visa",
         "Houston",
         "femelle",
         "0.0"
        ],
        [
         "30",
         "50.19747079743589",
         "375285.0350551008",
         "78.68002007460922",
         "7528322.090297081",
         "13.0",
         "Mastercard",
         "Orlando",
         "male",
         "0.0"
        ],
        [
         "31",
         "37.703123961101255",
         "203726.7894083488",
         "43.4335811461888",
         "2416135.692842297",
         "10.0",
         null,
         "Houston",
         "femelle",
         "0.0"
        ],
        [
         "32",
         "36.29714971428496",
         "375163.50139631575",
         "60.20504444810037",
         "10766673.680808358",
         "2.0",
         "Visa",
         "Houston",
         "male",
         "0.0"
        ],
        [
         "33",
         "37.6009802040271",
         "190741.4530137435",
         "57.64067411432021",
         "10136914.062312797",
         "3.0",
         "Mastercard",
         "Miami",
         "male",
         null
        ],
        [
         "34",
         "39.24877145029562",
         "623452.4447593947",
         null,
         "4077267.8313087686",
         "13.0",
         "Mastercard",
         "Houston",
         "femelle",
         "0.0"
        ],
        [
         "35",
         "37.58184486333979",
         "440198.2061004936",
         null,
         "7143649.2843905175",
         "6.0",
         "Visa",
         "Miami",
         "femelle",
         "0.0"
        ],
        [
         "36",
         "36.51278824727654",
         "349655.835422582",
         "51.99976327531104",
         "25000.0",
         "13.0",
         "Visa",
         "Houston",
         "femelle",
         "0.0"
        ],
        [
         "37",
         "28.14082570403385",
         "472852.2958442889",
         "31.93413778441781",
         "1751478.41339497",
         null,
         "Mastercard",
         "Houston",
         "femelle",
         "0.0"
        ],
        [
         "38",
         "41.85384753624314",
         "177091.9754251814",
         "25.73073279694154",
         "8888770.129244005",
         "2.0",
         "Mastercard",
         "Miami",
         "male",
         "0.0"
        ],
        [
         "39",
         "50.27283756143118",
         "346357.0252536052",
         "85.29651767583472",
         "5170119.946517796",
         "9.0",
         "Mastercard",
         "Orlando",
         "femelle",
         "0.0"
        ],
        [
         "40",
         "45.034885067431134",
         "292273.6209369108",
         "38.49627100712967",
         "7669570.855356484",
         "10.0",
         "Mastercard",
         "Miami",
         "femelle",
         "0.0"
        ],
        [
         "41",
         "49.2579563818482",
         "75000.0",
         "50.87420793983968",
         "8220099.747334917",
         "4.0",
         "Visa",
         "Houston",
         "femelle",
         "0.0"
        ],
        [
         "42",
         "45.004676749400005",
         "152857.99094799458",
         "65.82280008711767",
         "3895825.153568958",
         "8.0",
         "Mastercard",
         "Houston",
         "femelle",
         "0.0"
        ],
        [
         "43",
         "55.16118889687176",
         "446888.9616430444",
         "12.159328550286602",
         "3109303.7790606827",
         "8.0",
         "Mastercard",
         "Houston",
         "male",
         "0.0"
        ],
        [
         "44",
         "29.21832615752477",
         "340327.6179601488",
         "52.70982744633524",
         "8184527.471527533",
         "9.0",
         "Visa",
         "Orlando",
         "femelle",
         "0.0"
        ],
        [
         "45",
         "56.1084343571896",
         "412933.6622240677",
         "41.81359570826629",
         "7115445.97681453",
         "15.0",
         "Visa",
         "Houston",
         "male",
         "0.0"
        ],
        [
         "46",
         "35.086851750022525",
         "194202.4914126228",
         "35.26197295536402",
         "2817638.2258306453",
         "9.0",
         "Visa",
         "Orlando",
         "femelle",
         "0.0"
        ],
        [
         "47",
         "33.30095368254027",
         "393528.8698238788",
         "50.071652036655664",
         "1539552.4073340693",
         "6.0",
         "Visa",
         "Miami",
         "male",
         "0.0"
        ],
        [
         "48",
         "41.26107646752755",
         "179966.58969001443",
         "39.36136983415816",
         "4022783.32045214",
         "8.0",
         "Mastercard",
         "Orlando",
         "femelle",
         "0.0"
        ],
        [
         "49",
         "44.08480552328251",
         "411018.8496157866",
         "83.5525088431227",
         "5368186.723116451",
         "1.0",
         "Mastercard",
         "Orlando",
         "male",
         "1.0"
        ]
       ],
       "shape": {
        "columns": 9,
        "rows": 1020
       }
      },
      "text/html": [
       "<div>\n",
       "<style scoped>\n",
       "    .dataframe tbody tr th:only-of-type {\n",
       "        vertical-align: middle;\n",
       "    }\n",
       "\n",
       "    .dataframe tbody tr th {\n",
       "        vertical-align: top;\n",
       "    }\n",
       "\n",
       "    .dataframe thead th {\n",
       "        text-align: right;\n",
       "    }\n",
       "</style>\n",
       "<table border=\"1\" class=\"dataframe\">\n",
       "  <thead>\n",
       "    <tr style=\"text-align: right;\">\n",
       "      <th></th>\n",
       "      <th>age</th>\n",
       "      <th>salaire</th>\n",
       "      <th>score_credit</th>\n",
       "      <th>montant_transaction</th>\n",
       "      <th>anciennete_compte</th>\n",
       "      <th>type_carte</th>\n",
       "      <th>region</th>\n",
       "      <th>genre</th>\n",
       "      <th>fraude</th>\n",
       "    </tr>\n",
       "  </thead>\n",
       "  <tbody>\n",
       "    <tr>\n",
       "      <th>0</th>\n",
       "      <td>49.548894</td>\n",
       "      <td>183659.045784</td>\n",
       "      <td>48.228579</td>\n",
       "      <td>9.649456e+06</td>\n",
       "      <td>14.0</td>\n",
       "      <td>Mastercard</td>\n",
       "      <td>Houston</td>\n",
       "      <td>femelle</td>\n",
       "      <td>0.0</td>\n",
       "    </tr>\n",
       "    <tr>\n",
       "      <th>1</th>\n",
       "      <td>44.952665</td>\n",
       "      <td>329732.599158</td>\n",
       "      <td>67.573097</td>\n",
       "      <td>2.500000e+04</td>\n",
       "      <td>NaN</td>\n",
       "      <td>Mastercard</td>\n",
       "      <td>Houston</td>\n",
       "      <td>femelle</td>\n",
       "      <td>0.0</td>\n",
       "    </tr>\n",
       "    <tr>\n",
       "      <th>2</th>\n",
       "      <td>41.659910</td>\n",
       "      <td>75000.000000</td>\n",
       "      <td>77.559487</td>\n",
       "      <td>2.724004e+06</td>\n",
       "      <td>9.0</td>\n",
       "      <td>Visa</td>\n",
       "      <td>Houston</td>\n",
       "      <td>male</td>\n",
       "      <td>0.0</td>\n",
       "    </tr>\n",
       "    <tr>\n",
       "      <th>3</th>\n",
       "      <td>42.377280</td>\n",
       "      <td>75000.000000</td>\n",
       "      <td>54.282220</td>\n",
       "      <td>4.755632e+06</td>\n",
       "      <td>9.0</td>\n",
       "      <td>Mastercard</td>\n",
       "      <td>Orlando</td>\n",
       "      <td>femelle</td>\n",
       "      <td>0.0</td>\n",
       "    </tr>\n",
       "    <tr>\n",
       "      <th>4</th>\n",
       "      <td>48.125023</td>\n",
       "      <td>359999.482942</td>\n",
       "      <td>71.148546</td>\n",
       "      <td>2.500000e+04</td>\n",
       "      <td>8.0</td>\n",
       "      <td>Mastercard</td>\n",
       "      <td>Orlando</td>\n",
       "      <td>femelle</td>\n",
       "      <td>0.0</td>\n",
       "    </tr>\n",
       "    <tr>\n",
       "      <th>...</th>\n",
       "      <td>...</td>\n",
       "      <td>...</td>\n",
       "      <td>...</td>\n",
       "      <td>...</td>\n",
       "      <td>...</td>\n",
       "      <td>...</td>\n",
       "      <td>...</td>\n",
       "      <td>...</td>\n",
       "      <td>...</td>\n",
       "    </tr>\n",
       "    <tr>\n",
       "      <th>1015</th>\n",
       "      <td>48.973513</td>\n",
       "      <td>262962.250877</td>\n",
       "      <td>52.367001</td>\n",
       "      <td>3.428887e+06</td>\n",
       "      <td>8.0</td>\n",
       "      <td>Visa</td>\n",
       "      <td>Orlando</td>\n",
       "      <td>male</td>\n",
       "      <td>0.0</td>\n",
       "    </tr>\n",
       "    <tr>\n",
       "      <th>1016</th>\n",
       "      <td>42.298180</td>\n",
       "      <td>429413.188793</td>\n",
       "      <td>43.633980</td>\n",
       "      <td>3.255258e+06</td>\n",
       "      <td>2.0</td>\n",
       "      <td>NaN</td>\n",
       "      <td>Houston</td>\n",
       "      <td>male</td>\n",
       "      <td>0.0</td>\n",
       "    </tr>\n",
       "    <tr>\n",
       "      <th>1017</th>\n",
       "      <td>42.734031</td>\n",
       "      <td>531726.219363</td>\n",
       "      <td>37.934063</td>\n",
       "      <td>5.980733e+06</td>\n",
       "      <td>11.0</td>\n",
       "      <td>Mastercard</td>\n",
       "      <td>Houston</td>\n",
       "      <td>femelle</td>\n",
       "      <td>0.0</td>\n",
       "    </tr>\n",
       "    <tr>\n",
       "      <th>1018</th>\n",
       "      <td>44.454998</td>\n",
       "      <td>232283.191451</td>\n",
       "      <td>12.925355</td>\n",
       "      <td>5.094767e+06</td>\n",
       "      <td>12.0</td>\n",
       "      <td>Mastercard</td>\n",
       "      <td>Orlando</td>\n",
       "      <td>male</td>\n",
       "      <td>0.0</td>\n",
       "    </tr>\n",
       "    <tr>\n",
       "      <th>1019</th>\n",
       "      <td>24.957693</td>\n",
       "      <td>391660.635767</td>\n",
       "      <td>89.375146</td>\n",
       "      <td>4.075352e+06</td>\n",
       "      <td>15.0</td>\n",
       "      <td>Visa</td>\n",
       "      <td>Orlando</td>\n",
       "      <td>femelle</td>\n",
       "      <td>0.0</td>\n",
       "    </tr>\n",
       "  </tbody>\n",
       "</table>\n",
       "<p>1020 rows × 9 columns</p>\n",
       "</div>"
      ],
      "text/plain": [
       "            age        salaire  score_credit  montant_transaction  \\\n",
       "0     49.548894  183659.045784     48.228579         9.649456e+06   \n",
       "1     44.952665  329732.599158     67.573097         2.500000e+04   \n",
       "2     41.659910   75000.000000     77.559487         2.724004e+06   \n",
       "3     42.377280   75000.000000     54.282220         4.755632e+06   \n",
       "4     48.125023  359999.482942     71.148546         2.500000e+04   \n",
       "...         ...            ...           ...                  ...   \n",
       "1015  48.973513  262962.250877     52.367001         3.428887e+06   \n",
       "1016  42.298180  429413.188793     43.633980         3.255258e+06   \n",
       "1017  42.734031  531726.219363     37.934063         5.980733e+06   \n",
       "1018  44.454998  232283.191451     12.925355         5.094767e+06   \n",
       "1019  24.957693  391660.635767     89.375146         4.075352e+06   \n",
       "\n",
       "      anciennete_compte  type_carte   region    genre  fraude  \n",
       "0                  14.0  Mastercard  Houston  femelle     0.0  \n",
       "1                   NaN  Mastercard  Houston  femelle     0.0  \n",
       "2                   9.0        Visa  Houston     male     0.0  \n",
       "3                   9.0  Mastercard  Orlando  femelle     0.0  \n",
       "4                   8.0  Mastercard  Orlando  femelle     0.0  \n",
       "...                 ...         ...      ...      ...     ...  \n",
       "1015                8.0        Visa  Orlando     male     0.0  \n",
       "1016                2.0         NaN  Houston     male     0.0  \n",
       "1017               11.0  Mastercard  Houston  femelle     0.0  \n",
       "1018               12.0  Mastercard  Orlando     male     0.0  \n",
       "1019               15.0        Visa  Orlando  femelle     0.0  \n",
       "\n",
       "[1020 rows x 9 columns]"
      ]
     },
     "execution_count": 281,
     "metadata": {},
     "output_type": "execute_result"
    }
   ],
   "source": [
    "import pandas as pd\n",
    "import numpy as np\n",
    "import matplotlib.pyplot as plt\n",
    "import seaborn as sns\n",
    "\n",
    "df = pd.read_csv('fraude_bancaire_synthetique_final.csv')\n",
    "df "
   ]
  },
  {
   "cell_type": "markdown",
   "id": "18433cf9",
   "metadata": {},
   "source": [
    "### *checking target*"
   ]
  },
  {
   "cell_type": "code",
   "execution_count": 282,
   "id": "7171fb32",
   "metadata": {},
   "outputs": [
    {
     "data": {
      "application/vnd.plotly.v1+json": {
       "config": {
        "plotlyServerURL": "https://plot.ly"
       },
       "data": [
        {
         "domain": {
          "x": [
           0,
           1
          ],
          "y": [
           0,
           1
          ]
         },
         "hovertemplate": "fraude=%{label}<br>Pourcentage=%{value}<extra></extra>",
         "labels": [
          0,
          1
         ],
         "legendgroup": "",
         "name": "",
         "pull": [
          0.05,
          0.05
         ],
         "showlegend": true,
         "textinfo": "percent+label",
         "type": "pie",
         "values": [
          95.41751527494908,
          4.582484725050916
         ]
        }
       ],
       "layout": {
        "legend": {
         "tracegroupgap": 0
        },
        "piecolorway": [
         "rgb(103,0,31)",
         "rgb(178,24,43)",
         "rgb(214,96,77)",
         "rgb(244,165,130)",
         "rgb(253,219,199)",
         "rgb(247,247,247)",
         "rgb(209,229,240)",
         "rgb(146,197,222)",
         "rgb(67,147,195)",
         "rgb(33,102,172)",
         "rgb(5,48,97)"
        ],
        "template": {
         "data": {
          "bar": [
           {
            "error_x": {
             "color": "#2a3f5f"
            },
            "error_y": {
             "color": "#2a3f5f"
            },
            "marker": {
             "line": {
              "color": "#E5ECF6",
              "width": 0.5
             },
             "pattern": {
              "fillmode": "overlay",
              "size": 10,
              "solidity": 0.2
             }
            },
            "type": "bar"
           }
          ],
          "barpolar": [
           {
            "marker": {
             "line": {
              "color": "#E5ECF6",
              "width": 0.5
             },
             "pattern": {
              "fillmode": "overlay",
              "size": 10,
              "solidity": 0.2
             }
            },
            "type": "barpolar"
           }
          ],
          "carpet": [
           {
            "aaxis": {
             "endlinecolor": "#2a3f5f",
             "gridcolor": "white",
             "linecolor": "white",
             "minorgridcolor": "white",
             "startlinecolor": "#2a3f5f"
            },
            "baxis": {
             "endlinecolor": "#2a3f5f",
             "gridcolor": "white",
             "linecolor": "white",
             "minorgridcolor": "white",
             "startlinecolor": "#2a3f5f"
            },
            "type": "carpet"
           }
          ],
          "choropleth": [
           {
            "colorbar": {
             "outlinewidth": 0,
             "ticks": ""
            },
            "type": "choropleth"
           }
          ],
          "contour": [
           {
            "colorbar": {
             "outlinewidth": 0,
             "ticks": ""
            },
            "colorscale": [
             [
              0,
              "#0d0887"
             ],
             [
              0.1111111111111111,
              "#46039f"
             ],
             [
              0.2222222222222222,
              "#7201a8"
             ],
             [
              0.3333333333333333,
              "#9c179e"
             ],
             [
              0.4444444444444444,
              "#bd3786"
             ],
             [
              0.5555555555555556,
              "#d8576b"
             ],
             [
              0.6666666666666666,
              "#ed7953"
             ],
             [
              0.7777777777777778,
              "#fb9f3a"
             ],
             [
              0.8888888888888888,
              "#fdca26"
             ],
             [
              1,
              "#f0f921"
             ]
            ],
            "type": "contour"
           }
          ],
          "contourcarpet": [
           {
            "colorbar": {
             "outlinewidth": 0,
             "ticks": ""
            },
            "type": "contourcarpet"
           }
          ],
          "heatmap": [
           {
            "colorbar": {
             "outlinewidth": 0,
             "ticks": ""
            },
            "colorscale": [
             [
              0,
              "#0d0887"
             ],
             [
              0.1111111111111111,
              "#46039f"
             ],
             [
              0.2222222222222222,
              "#7201a8"
             ],
             [
              0.3333333333333333,
              "#9c179e"
             ],
             [
              0.4444444444444444,
              "#bd3786"
             ],
             [
              0.5555555555555556,
              "#d8576b"
             ],
             [
              0.6666666666666666,
              "#ed7953"
             ],
             [
              0.7777777777777778,
              "#fb9f3a"
             ],
             [
              0.8888888888888888,
              "#fdca26"
             ],
             [
              1,
              "#f0f921"
             ]
            ],
            "type": "heatmap"
           }
          ],
          "heatmapgl": [
           {
            "colorbar": {
             "outlinewidth": 0,
             "ticks": ""
            },
            "colorscale": [
             [
              0,
              "#0d0887"
             ],
             [
              0.1111111111111111,
              "#46039f"
             ],
             [
              0.2222222222222222,
              "#7201a8"
             ],
             [
              0.3333333333333333,
              "#9c179e"
             ],
             [
              0.4444444444444444,
              "#bd3786"
             ],
             [
              0.5555555555555556,
              "#d8576b"
             ],
             [
              0.6666666666666666,
              "#ed7953"
             ],
             [
              0.7777777777777778,
              "#fb9f3a"
             ],
             [
              0.8888888888888888,
              "#fdca26"
             ],
             [
              1,
              "#f0f921"
             ]
            ],
            "type": "heatmapgl"
           }
          ],
          "histogram": [
           {
            "marker": {
             "pattern": {
              "fillmode": "overlay",
              "size": 10,
              "solidity": 0.2
             }
            },
            "type": "histogram"
           }
          ],
          "histogram2d": [
           {
            "colorbar": {
             "outlinewidth": 0,
             "ticks": ""
            },
            "colorscale": [
             [
              0,
              "#0d0887"
             ],
             [
              0.1111111111111111,
              "#46039f"
             ],
             [
              0.2222222222222222,
              "#7201a8"
             ],
             [
              0.3333333333333333,
              "#9c179e"
             ],
             [
              0.4444444444444444,
              "#bd3786"
             ],
             [
              0.5555555555555556,
              "#d8576b"
             ],
             [
              0.6666666666666666,
              "#ed7953"
             ],
             [
              0.7777777777777778,
              "#fb9f3a"
             ],
             [
              0.8888888888888888,
              "#fdca26"
             ],
             [
              1,
              "#f0f921"
             ]
            ],
            "type": "histogram2d"
           }
          ],
          "histogram2dcontour": [
           {
            "colorbar": {
             "outlinewidth": 0,
             "ticks": ""
            },
            "colorscale": [
             [
              0,
              "#0d0887"
             ],
             [
              0.1111111111111111,
              "#46039f"
             ],
             [
              0.2222222222222222,
              "#7201a8"
             ],
             [
              0.3333333333333333,
              "#9c179e"
             ],
             [
              0.4444444444444444,
              "#bd3786"
             ],
             [
              0.5555555555555556,
              "#d8576b"
             ],
             [
              0.6666666666666666,
              "#ed7953"
             ],
             [
              0.7777777777777778,
              "#fb9f3a"
             ],
             [
              0.8888888888888888,
              "#fdca26"
             ],
             [
              1,
              "#f0f921"
             ]
            ],
            "type": "histogram2dcontour"
           }
          ],
          "mesh3d": [
           {
            "colorbar": {
             "outlinewidth": 0,
             "ticks": ""
            },
            "type": "mesh3d"
           }
          ],
          "parcoords": [
           {
            "line": {
             "colorbar": {
              "outlinewidth": 0,
              "ticks": ""
             }
            },
            "type": "parcoords"
           }
          ],
          "pie": [
           {
            "automargin": true,
            "type": "pie"
           }
          ],
          "scatter": [
           {
            "fillpattern": {
             "fillmode": "overlay",
             "size": 10,
             "solidity": 0.2
            },
            "type": "scatter"
           }
          ],
          "scatter3d": [
           {
            "line": {
             "colorbar": {
              "outlinewidth": 0,
              "ticks": ""
             }
            },
            "marker": {
             "colorbar": {
              "outlinewidth": 0,
              "ticks": ""
             }
            },
            "type": "scatter3d"
           }
          ],
          "scattercarpet": [
           {
            "marker": {
             "colorbar": {
              "outlinewidth": 0,
              "ticks": ""
             }
            },
            "type": "scattercarpet"
           }
          ],
          "scattergeo": [
           {
            "marker": {
             "colorbar": {
              "outlinewidth": 0,
              "ticks": ""
             }
            },
            "type": "scattergeo"
           }
          ],
          "scattergl": [
           {
            "marker": {
             "colorbar": {
              "outlinewidth": 0,
              "ticks": ""
             }
            },
            "type": "scattergl"
           }
          ],
          "scattermapbox": [
           {
            "marker": {
             "colorbar": {
              "outlinewidth": 0,
              "ticks": ""
             }
            },
            "type": "scattermapbox"
           }
          ],
          "scatterpolar": [
           {
            "marker": {
             "colorbar": {
              "outlinewidth": 0,
              "ticks": ""
             }
            },
            "type": "scatterpolar"
           }
          ],
          "scatterpolargl": [
           {
            "marker": {
             "colorbar": {
              "outlinewidth": 0,
              "ticks": ""
             }
            },
            "type": "scatterpolargl"
           }
          ],
          "scatterternary": [
           {
            "marker": {
             "colorbar": {
              "outlinewidth": 0,
              "ticks": ""
             }
            },
            "type": "scatterternary"
           }
          ],
          "surface": [
           {
            "colorbar": {
             "outlinewidth": 0,
             "ticks": ""
            },
            "colorscale": [
             [
              0,
              "#0d0887"
             ],
             [
              0.1111111111111111,
              "#46039f"
             ],
             [
              0.2222222222222222,
              "#7201a8"
             ],
             [
              0.3333333333333333,
              "#9c179e"
             ],
             [
              0.4444444444444444,
              "#bd3786"
             ],
             [
              0.5555555555555556,
              "#d8576b"
             ],
             [
              0.6666666666666666,
              "#ed7953"
             ],
             [
              0.7777777777777778,
              "#fb9f3a"
             ],
             [
              0.8888888888888888,
              "#fdca26"
             ],
             [
              1,
              "#f0f921"
             ]
            ],
            "type": "surface"
           }
          ],
          "table": [
           {
            "cells": {
             "fill": {
              "color": "#EBF0F8"
             },
             "line": {
              "color": "white"
             }
            },
            "header": {
             "fill": {
              "color": "#C8D4E3"
             },
             "line": {
              "color": "white"
             }
            },
            "type": "table"
           }
          ]
         },
         "layout": {
          "annotationdefaults": {
           "arrowcolor": "#2a3f5f",
           "arrowhead": 0,
           "arrowwidth": 1
          },
          "autotypenumbers": "strict",
          "coloraxis": {
           "colorbar": {
            "outlinewidth": 0,
            "ticks": ""
           }
          },
          "colorscale": {
           "diverging": [
            [
             0,
             "#8e0152"
            ],
            [
             0.1,
             "#c51b7d"
            ],
            [
             0.2,
             "#de77ae"
            ],
            [
             0.3,
             "#f1b6da"
            ],
            [
             0.4,
             "#fde0ef"
            ],
            [
             0.5,
             "#f7f7f7"
            ],
            [
             0.6,
             "#e6f5d0"
            ],
            [
             0.7,
             "#b8e186"
            ],
            [
             0.8,
             "#7fbc41"
            ],
            [
             0.9,
             "#4d9221"
            ],
            [
             1,
             "#276419"
            ]
           ],
           "sequential": [
            [
             0,
             "#0d0887"
            ],
            [
             0.1111111111111111,
             "#46039f"
            ],
            [
             0.2222222222222222,
             "#7201a8"
            ],
            [
             0.3333333333333333,
             "#9c179e"
            ],
            [
             0.4444444444444444,
             "#bd3786"
            ],
            [
             0.5555555555555556,
             "#d8576b"
            ],
            [
             0.6666666666666666,
             "#ed7953"
            ],
            [
             0.7777777777777778,
             "#fb9f3a"
            ],
            [
             0.8888888888888888,
             "#fdca26"
            ],
            [
             1,
             "#f0f921"
            ]
           ],
           "sequentialminus": [
            [
             0,
             "#0d0887"
            ],
            [
             0.1111111111111111,
             "#46039f"
            ],
            [
             0.2222222222222222,
             "#7201a8"
            ],
            [
             0.3333333333333333,
             "#9c179e"
            ],
            [
             0.4444444444444444,
             "#bd3786"
            ],
            [
             0.5555555555555556,
             "#d8576b"
            ],
            [
             0.6666666666666666,
             "#ed7953"
            ],
            [
             0.7777777777777778,
             "#fb9f3a"
            ],
            [
             0.8888888888888888,
             "#fdca26"
            ],
            [
             1,
             "#f0f921"
            ]
           ]
          },
          "colorway": [
           "#636efa",
           "#EF553B",
           "#00cc96",
           "#ab63fa",
           "#FFA15A",
           "#19d3f3",
           "#FF6692",
           "#B6E880",
           "#FF97FF",
           "#FECB52"
          ],
          "font": {
           "color": "#2a3f5f"
          },
          "geo": {
           "bgcolor": "white",
           "lakecolor": "white",
           "landcolor": "#E5ECF6",
           "showlakes": true,
           "showland": true,
           "subunitcolor": "white"
          },
          "hoverlabel": {
           "align": "left"
          },
          "hovermode": "closest",
          "mapbox": {
           "style": "light"
          },
          "paper_bgcolor": "white",
          "plot_bgcolor": "#E5ECF6",
          "polar": {
           "angularaxis": {
            "gridcolor": "white",
            "linecolor": "white",
            "ticks": ""
           },
           "bgcolor": "#E5ECF6",
           "radialaxis": {
            "gridcolor": "white",
            "linecolor": "white",
            "ticks": ""
           }
          },
          "scene": {
           "xaxis": {
            "backgroundcolor": "#E5ECF6",
            "gridcolor": "white",
            "gridwidth": 2,
            "linecolor": "white",
            "showbackground": true,
            "ticks": "",
            "zerolinecolor": "white"
           },
           "yaxis": {
            "backgroundcolor": "#E5ECF6",
            "gridcolor": "white",
            "gridwidth": 2,
            "linecolor": "white",
            "showbackground": true,
            "ticks": "",
            "zerolinecolor": "white"
           },
           "zaxis": {
            "backgroundcolor": "#E5ECF6",
            "gridcolor": "white",
            "gridwidth": 2,
            "linecolor": "white",
            "showbackground": true,
            "ticks": "",
            "zerolinecolor": "white"
           }
          },
          "shapedefaults": {
           "line": {
            "color": "#2a3f5f"
           }
          },
          "ternary": {
           "aaxis": {
            "gridcolor": "white",
            "linecolor": "white",
            "ticks": ""
           },
           "baxis": {
            "gridcolor": "white",
            "linecolor": "white",
            "ticks": ""
           },
           "bgcolor": "#E5ECF6",
           "caxis": {
            "gridcolor": "white",
            "linecolor": "white",
            "ticks": ""
           }
          },
          "title": {
           "x": 0.05
          },
          "xaxis": {
           "automargin": true,
           "gridcolor": "white",
           "linecolor": "white",
           "ticks": "",
           "title": {
            "standoff": 15
           },
           "zerolinecolor": "white",
           "zerolinewidth": 2
          },
          "yaxis": {
           "automargin": true,
           "gridcolor": "white",
           "linecolor": "white",
           "ticks": "",
           "title": {
            "standoff": 15
           },
           "zerolinecolor": "white",
           "zerolinewidth": 2
          }
         }
        },
        "title": {
         "text": "pourcentage de fraude (en %)"
        }
       }
      }
     },
     "metadata": {},
     "output_type": "display_data"
    }
   ],
   "source": [
    "import plotly.express as px\n",
    "freq = df['fraude'].value_counts(normalize=True).reset_index()\n",
    "freq.columns = ['fraude', 'Pourcentage']\n",
    "freq['Pourcentage'] *= 100\n",
    "\n",
    "# Graphique circulaire interactif\n",
    "fig = px.pie(freq, names='fraude', values='Pourcentage', \n",
    "             title='pourcentage de fraude (en %)', \n",
    "             color_discrete_sequence=px.colors.sequential.RdBu)\n",
    "\n",
    "fig.update_traces(textinfo='percent+label', pull=[0.05]*len(freq))\n",
    "fig.show()"
   ]
  },
  {
   "cell_type": "markdown",
   "id": "eaec4c56",
   "metadata": {},
   "source": [
    "nous avons donc une classification car le target est constitué ce de 0 et 1 ce pendant on a un important déséquilibre de données car nous voyons une classe majoritaire 0.0 et minoritaire 1.0"
   ]
  },
  {
   "cell_type": "markdown",
   "id": "2a3ce090",
   "metadata": {},
   "source": [
    "### *description des données*\n"
   ]
  },
  {
   "cell_type": "code",
   "execution_count": 283,
   "id": "1860e1ce",
   "metadata": {},
   "outputs": [
    {
     "data": {
      "application/vnd.microsoft.datawrangler.viewer.v0+json": {
       "columns": [
        {
         "name": "index",
         "rawType": "object",
         "type": "string"
        },
        {
         "name": "age",
         "rawType": "float64",
         "type": "float"
        },
        {
         "name": "salaire",
         "rawType": "float64",
         "type": "float"
        },
        {
         "name": "score_credit",
         "rawType": "float64",
         "type": "float"
        },
        {
         "name": "montant_transaction",
         "rawType": "float64",
         "type": "float"
        },
        {
         "name": "anciennete_compte",
         "rawType": "float64",
         "type": "float"
        },
        {
         "name": "fraude",
         "rawType": "float64",
         "type": "float"
        }
       ],
       "ref": "5660c9bb-1993-42ab-99f0-4d99cc985da6",
       "rows": [
        [
         "count",
         "1003.0",
         "1002.0",
         "998.0",
         "996.0",
         "999.0",
         "982.0"
        ],
        [
         "mean",
         "40.40805052080957",
         "297164.6367682809",
         "49.56780992159034",
         "5088725.017080135",
         "9.655655655655655",
         "0.045824847250509164"
        ],
        [
         "std",
         "7.805954340617532",
         "136089.16667174053",
         "19.1421239226634",
         "2843704.0744040566",
         "4.815799975534102",
         "0.20921162113922215"
        ],
        [
         "min",
         "24.0",
         "75000.0",
         "3.0",
         "25000.0",
         "1.0",
         "0.0"
        ],
        [
         "25%",
         "35.20552802718266",
         "195695.6824490716",
         "36.33560546351225",
         "3118899.199296099",
         "6.0",
         "0.0"
        ],
        [
         "50%",
         "40.45208518772445",
         "294562.12426313816",
         "49.64209876862468",
         "4982902.574885277",
         "10.0",
         "0.0"
        ],
        [
         "75%",
         "45.61497403975026",
         "391034.624076237",
         "62.795183346828665",
         "6926265.752798595",
         "13.0",
         "0.0"
        ],
        [
         "max",
         "60.0",
         "715256.0408438914",
         "99.0",
         "15133304.723868083",
         "25.0",
         "1.0"
        ]
       ],
       "shape": {
        "columns": 6,
        "rows": 8
       }
      },
      "text/html": [
       "<div>\n",
       "<style scoped>\n",
       "    .dataframe tbody tr th:only-of-type {\n",
       "        vertical-align: middle;\n",
       "    }\n",
       "\n",
       "    .dataframe tbody tr th {\n",
       "        vertical-align: top;\n",
       "    }\n",
       "\n",
       "    .dataframe thead th {\n",
       "        text-align: right;\n",
       "    }\n",
       "</style>\n",
       "<table border=\"1\" class=\"dataframe\">\n",
       "  <thead>\n",
       "    <tr style=\"text-align: right;\">\n",
       "      <th></th>\n",
       "      <th>age</th>\n",
       "      <th>salaire</th>\n",
       "      <th>score_credit</th>\n",
       "      <th>montant_transaction</th>\n",
       "      <th>anciennete_compte</th>\n",
       "      <th>fraude</th>\n",
       "    </tr>\n",
       "  </thead>\n",
       "  <tbody>\n",
       "    <tr>\n",
       "      <th>count</th>\n",
       "      <td>1003.000000</td>\n",
       "      <td>1002.000000</td>\n",
       "      <td>998.000000</td>\n",
       "      <td>9.960000e+02</td>\n",
       "      <td>999.000000</td>\n",
       "      <td>982.000000</td>\n",
       "    </tr>\n",
       "    <tr>\n",
       "      <th>mean</th>\n",
       "      <td>40.408051</td>\n",
       "      <td>297164.636768</td>\n",
       "      <td>49.567810</td>\n",
       "      <td>5.088725e+06</td>\n",
       "      <td>9.655656</td>\n",
       "      <td>0.045825</td>\n",
       "    </tr>\n",
       "    <tr>\n",
       "      <th>std</th>\n",
       "      <td>7.805954</td>\n",
       "      <td>136089.166672</td>\n",
       "      <td>19.142124</td>\n",
       "      <td>2.843704e+06</td>\n",
       "      <td>4.815800</td>\n",
       "      <td>0.209212</td>\n",
       "    </tr>\n",
       "    <tr>\n",
       "      <th>min</th>\n",
       "      <td>24.000000</td>\n",
       "      <td>75000.000000</td>\n",
       "      <td>3.000000</td>\n",
       "      <td>2.500000e+04</td>\n",
       "      <td>1.000000</td>\n",
       "      <td>0.000000</td>\n",
       "    </tr>\n",
       "    <tr>\n",
       "      <th>25%</th>\n",
       "      <td>35.205528</td>\n",
       "      <td>195695.682449</td>\n",
       "      <td>36.335605</td>\n",
       "      <td>3.118899e+06</td>\n",
       "      <td>6.000000</td>\n",
       "      <td>0.000000</td>\n",
       "    </tr>\n",
       "    <tr>\n",
       "      <th>50%</th>\n",
       "      <td>40.452085</td>\n",
       "      <td>294562.124263</td>\n",
       "      <td>49.642099</td>\n",
       "      <td>4.982903e+06</td>\n",
       "      <td>10.000000</td>\n",
       "      <td>0.000000</td>\n",
       "    </tr>\n",
       "    <tr>\n",
       "      <th>75%</th>\n",
       "      <td>45.614974</td>\n",
       "      <td>391034.624076</td>\n",
       "      <td>62.795183</td>\n",
       "      <td>6.926266e+06</td>\n",
       "      <td>13.000000</td>\n",
       "      <td>0.000000</td>\n",
       "    </tr>\n",
       "    <tr>\n",
       "      <th>max</th>\n",
       "      <td>60.000000</td>\n",
       "      <td>715256.040844</td>\n",
       "      <td>99.000000</td>\n",
       "      <td>1.513330e+07</td>\n",
       "      <td>25.000000</td>\n",
       "      <td>1.000000</td>\n",
       "    </tr>\n",
       "  </tbody>\n",
       "</table>\n",
       "</div>"
      ],
      "text/plain": [
       "               age        salaire  score_credit  montant_transaction  \\\n",
       "count  1003.000000    1002.000000    998.000000         9.960000e+02   \n",
       "mean     40.408051  297164.636768     49.567810         5.088725e+06   \n",
       "std       7.805954  136089.166672     19.142124         2.843704e+06   \n",
       "min      24.000000   75000.000000      3.000000         2.500000e+04   \n",
       "25%      35.205528  195695.682449     36.335605         3.118899e+06   \n",
       "50%      40.452085  294562.124263     49.642099         4.982903e+06   \n",
       "75%      45.614974  391034.624076     62.795183         6.926266e+06   \n",
       "max      60.000000  715256.040844     99.000000         1.513330e+07   \n",
       "\n",
       "       anciennete_compte      fraude  \n",
       "count         999.000000  982.000000  \n",
       "mean            9.655656    0.045825  \n",
       "std             4.815800    0.209212  \n",
       "min             1.000000    0.000000  \n",
       "25%             6.000000    0.000000  \n",
       "50%            10.000000    0.000000  \n",
       "75%            13.000000    0.000000  \n",
       "max            25.000000    1.000000  "
      ]
     },
     "execution_count": 283,
     "metadata": {},
     "output_type": "execute_result"
    }
   ],
   "source": [
    "df.describe()"
   ]
  },
  {
   "cell_type": "markdown",
   "id": "2316d34c",
   "metadata": {},
   "source": [
    "d'après le describe nous avons les valeurs min et max de toutes nos colonnes, les 3 quartiles et l'éloignement des données par rapport à la moyenne"
   ]
  },
  {
   "cell_type": "markdown",
   "id": "17b99b1c",
   "metadata": {},
   "source": [
    "### *type de colonnes*"
   ]
  },
  {
   "cell_type": "code",
   "execution_count": 284,
   "id": "168ac078",
   "metadata": {},
   "outputs": [
    {
     "data": {
      "application/vnd.microsoft.datawrangler.viewer.v0+json": {
       "columns": [
        {
         "name": "index",
         "rawType": "object",
         "type": "string"
        },
        {
         "name": "0",
         "rawType": "object",
         "type": "unknown"
        }
       ],
       "ref": "fcd9f88b-82e5-4648-b9f7-8f458ea2109c",
       "rows": [
        [
         "age",
         "float64"
        ],
        [
         "salaire",
         "float64"
        ],
        [
         "score_credit",
         "float64"
        ],
        [
         "montant_transaction",
         "float64"
        ],
        [
         "anciennete_compte",
         "float64"
        ],
        [
         "type_carte",
         "object"
        ],
        [
         "region",
         "object"
        ],
        [
         "genre",
         "object"
        ],
        [
         "fraude",
         "float64"
        ]
       ],
       "shape": {
        "columns": 1,
        "rows": 9
       }
      },
      "text/plain": [
       "age                    float64\n",
       "salaire                float64\n",
       "score_credit           float64\n",
       "montant_transaction    float64\n",
       "anciennete_compte      float64\n",
       "type_carte              object\n",
       "region                  object\n",
       "genre                   object\n",
       "fraude                 float64\n",
       "dtype: object"
      ]
     },
     "execution_count": 284,
     "metadata": {},
     "output_type": "execute_result"
    }
   ],
   "source": [
    "df.dtypes"
   ]
  },
  {
   "cell_type": "markdown",
   "id": "c6786e38",
   "metadata": {},
   "source": [
    "la colonne fraude qui est notre target est initiliser comme un float64 hors pour notre entrainement il faudra le passer en valeur catégorielle ou integer"
   ]
  },
  {
   "cell_type": "markdown",
   "id": "0b0108c8",
   "metadata": {},
   "source": [
    "### *visualisation claire*"
   ]
  },
  {
   "cell_type": "code",
   "execution_count": 285,
   "id": "d157d901",
   "metadata": {},
   "outputs": [
    {
     "name": "stdout",
     "output_type": "stream",
     "text": [
      "<class 'pandas.core.frame.DataFrame'>\n",
      "RangeIndex: 1020 entries, 0 to 1019\n",
      "Data columns (total 9 columns):\n",
      " #   Column               Non-Null Count  Dtype  \n",
      "---  ------               --------------  -----  \n",
      " 0   age                  1003 non-null   float64\n",
      " 1   salaire              1002 non-null   float64\n",
      " 2   score_credit         998 non-null    float64\n",
      " 3   montant_transaction  996 non-null    float64\n",
      " 4   anciennete_compte    999 non-null    float64\n",
      " 5   type_carte           997 non-null    object \n",
      " 6   region               1003 non-null   object \n",
      " 7   genre                997 non-null    object \n",
      " 8   fraude               982 non-null    float64\n",
      "dtypes: float64(6), object(3)\n",
      "memory usage: 71.8+ KB\n"
     ]
    }
   ],
   "source": [
    "df.info()"
   ]
  },
  {
   "cell_type": "markdown",
   "id": "36d0408b",
   "metadata": {},
   "source": [
    "### *visualisation des valeurs catégorielle*"
   ]
  },
  {
   "cell_type": "code",
   "execution_count": 286,
   "id": "9e0b6d2b",
   "metadata": {},
   "outputs": [
    {
     "name": "stdout",
     "output_type": "stream",
     "text": [
      "region\n",
      "Houston    386\n",
      "Orlando    322\n",
      "Miami      295\n",
      "Name: count, dtype: int64\n",
      "type_carte\n",
      "Visa          573\n",
      "Mastercard    424\n",
      "Name: count, dtype: int64\n",
      "genre\n",
      "male       499\n",
      "femelle    498\n",
      "Name: count, dtype: int64\n"
     ]
    }
   ],
   "source": [
    "print(df.region.value_counts())\n",
    "print(df.type_carte.value_counts())\n",
    "print(df.genre.value_counts())"
   ]
  },
  {
   "cell_type": "markdown",
   "id": "4bf11c04",
   "metadata": {},
   "source": [
    "nos colonnes catégorielle sont bien équilibré par contre"
   ]
  },
  {
   "cell_type": "markdown",
   "id": "f3bc353c",
   "metadata": {},
   "source": [
    "### *check and replace mixing value*"
   ]
  },
  {
   "cell_type": "code",
   "execution_count": 287,
   "id": "04c94938",
   "metadata": {},
   "outputs": [
    {
     "data": {
      "application/vnd.microsoft.datawrangler.viewer.v0+json": {
       "columns": [
        {
         "name": "index",
         "rawType": "object",
         "type": "string"
        },
        {
         "name": "0",
         "rawType": "int64",
         "type": "integer"
        }
       ],
       "ref": "0b122b69-226c-4ce4-81ef-e86cc08ff470",
       "rows": [
        [
         "age",
         "17"
        ],
        [
         "salaire",
         "18"
        ],
        [
         "score_credit",
         "22"
        ],
        [
         "montant_transaction",
         "24"
        ],
        [
         "anciennete_compte",
         "21"
        ],
        [
         "type_carte",
         "23"
        ],
        [
         "region",
         "17"
        ],
        [
         "genre",
         "23"
        ],
        [
         "fraude",
         "38"
        ]
       ],
       "shape": {
        "columns": 1,
        "rows": 9
       }
      },
      "text/plain": [
       "age                    17\n",
       "salaire                18\n",
       "score_credit           22\n",
       "montant_transaction    24\n",
       "anciennete_compte      21\n",
       "type_carte             23\n",
       "region                 17\n",
       "genre                  23\n",
       "fraude                 38\n",
       "dtype: int64"
      ]
     },
     "execution_count": 287,
     "metadata": {},
     "output_type": "execute_result"
    }
   ],
   "source": [
    "df.isnull().sum()"
   ]
  },
  {
   "cell_type": "code",
   "execution_count": 288,
   "id": "3a8aea78",
   "metadata": {},
   "outputs": [],
   "source": [
    "def replace_value(df):\n",
    "    for col in df.columns:\n",
    "        if col == \"fraude\":\n",
    "            continue\n",
    "\n",
    "        if pd.api.types.is_numeric_dtype(df[col]):\n",
    "            df[col] = df[col].fillna(df[col].mean())\n",
    "\n",
    "        else:\n",
    "            if df[col].isna().sum() > 0:\n",
    "                df[col] = df[col].fillna(df[col].mode()[0])\n",
    "\n",
    "    return df\n"
   ]
  },
  {
   "cell_type": "code",
   "execution_count": 289,
   "id": "2d063a78",
   "metadata": {},
   "outputs": [
    {
     "data": {
      "application/vnd.microsoft.datawrangler.viewer.v0+json": {
       "columns": [
        {
         "name": "index",
         "rawType": "int64",
         "type": "integer"
        },
        {
         "name": "age",
         "rawType": "float64",
         "type": "float"
        },
        {
         "name": "salaire",
         "rawType": "float64",
         "type": "float"
        },
        {
         "name": "score_credit",
         "rawType": "float64",
         "type": "float"
        },
        {
         "name": "montant_transaction",
         "rawType": "float64",
         "type": "float"
        },
        {
         "name": "anciennete_compte",
         "rawType": "float64",
         "type": "float"
        },
        {
         "name": "type_carte",
         "rawType": "object",
         "type": "string"
        },
        {
         "name": "region",
         "rawType": "object",
         "type": "string"
        },
        {
         "name": "genre",
         "rawType": "object",
         "type": "string"
        },
        {
         "name": "fraude",
         "rawType": "float64",
         "type": "float"
        }
       ],
       "ref": "3b1a3c58-4f25-4ec2-b188-3840e09db3f1",
       "rows": [
        [
         "0",
         "49.54889404138071",
         "183659.04578435957",
         "48.2285786546242",
         "9649455.81898502",
         "14.0",
         "Mastercard",
         "Houston",
         "femelle",
         "0.0"
        ],
        [
         "1",
         "44.95266535510408",
         "329732.599158123",
         "67.57309700360759",
         "25000.0",
         "9.655655655655655",
         "Mastercard",
         "Houston",
         "femelle",
         "0.0"
        ],
        [
         "2",
         "41.65991038281746",
         "75000.0",
         "77.55948667850828",
         "2724004.395371683",
         "9.0",
         "Visa",
         "Houston",
         "male",
         "0.0"
        ],
        [
         "3",
         "42.377280190465775",
         "75000.0",
         "54.28221964572267",
         "4755632.036666362",
         "9.0",
         "Mastercard",
         "Orlando",
         "femelle",
         "0.0"
        ],
        [
         "4",
         "48.125023071955766",
         "359999.48294154095",
         "71.14854574228272",
         "25000.0",
         "8.0",
         "Mastercard",
         "Orlando",
         "femelle",
         "0.0"
        ],
        [
         "5",
         "34.90494088848834",
         "397644.8518169162",
         "49.93038302853597",
         "7176256.481473299",
         "11.0",
         "Visa",
         "Miami",
         "male",
         "0.0"
        ],
        [
         "6",
         "39.231994706129136",
         "428573.7582634933",
         "53.6356246517432",
         "11531961.143126665",
         "10.0",
         "Visa",
         "Orlando",
         "femelle",
         "1.0"
        ],
        [
         "7",
         "47.84919772456283",
         "245523.6661900776",
         "19.711718752037587",
         "4595029.316068816",
         "7.0",
         "Visa",
         "Houston",
         "male",
         "0.0"
        ],
        [
         "8",
         "36.53889986933177",
         "380458.3828271364",
         "23.3510043800359",
         "25000.0",
         "6.0",
         "Mastercard",
         "Houston",
         "male",
         "0.0"
        ],
        [
         "9",
         "45.67679583506853",
         "215836.6303528504",
         "99.0",
         "1514746.0994707665",
         "9.0",
         "Mastercard",
         "Houston",
         "male",
         "0.0"
        ],
        [
         "10",
         "44.18659026182871",
         "230620.0550529932",
         "41.75159860300186",
         "5899384.622489492",
         "12.0",
         "Visa",
         "Miami",
         "male",
         "0.0"
        ],
        [
         "11",
         "26.78205858117208",
         "292086.73379988514",
         "83.71403508069943",
         "8850063.731864616",
         "1.0",
         "Visa",
         "Houston",
         "male",
         "0.0"
        ],
        [
         "12",
         "29.07041329864866",
         "458193.09427309775",
         "45.8567662181192",
         "25000.0",
         "11.0",
         "Mastercard",
         "Orlando",
         "femelle",
         "0.0"
        ],
        [
         "13",
         "31.55110744650331",
         "524056.4638508301",
         "42.19181627156733",
         "3990365.236372667",
         "3.0",
         "Visa",
         "Miami",
         "femelle",
         "0.0"
        ],
        [
         "14",
         "37.587789633845226",
         "134332.22582175056",
         "75.4206019886228",
         "1866000.4081062705",
         "9.0",
         "Visa",
         "Orlando",
         "male",
         "0.0"
        ],
        [
         "15",
         "52.342454190157454",
         "326351.0568737669",
         "49.56780992159034",
         "1497497.528357857",
         "6.0",
         "Visa",
         "Orlando",
         "femelle",
         "0.0"
        ],
        [
         "16",
         "38.62803519689409",
         "209866.9236219281",
         "74.45615844266817",
         "7608717.555960263",
         "16.0",
         "Visa",
         "Houston",
         "femelle",
         "0.0"
        ],
        [
         "17",
         "42.65897866579188",
         "269787.01498845394",
         "68.98592996750631",
         "1322323.2096801624",
         "14.0",
         "Visa",
         "Orlando",
         "male",
         "0.0"
        ],
        [
         "18",
         "56.43611911523808",
         "389863.4638895714",
         "38.05442128307504",
         "6391169.172671343",
         "23.0",
         "Visa",
         "Houston",
         "femelle",
         "0.0"
        ],
        [
         "19",
         "38.84106595883125",
         "472423.1046015553",
         "56.72150825010693",
         "3367176.7012263853",
         "10.0",
         "Visa",
         "Miami",
         "femelle",
         "0.0"
        ],
        [
         "20",
         "40.15996388965135",
         "174619.46165725414",
         "41.46800727427926",
         "10667847.362750756",
         "11.0",
         "Visa",
         "Houston",
         "femelle",
         "0.0"
        ],
        [
         "21",
         "43.378598379599",
         "320973.2037777316",
         "36.04916115049771",
         "8776658.617228465",
         "7.0",
         "Mastercard",
         "Miami",
         "male",
         "0.0"
        ],
        [
         "22",
         "38.82815463417471",
         "343822.3263178198",
         "41.55008209135132",
         "4941408.8315986935",
         "9.0",
         "Visa",
         "Orlando",
         "femelle",
         "0.0"
        ],
        [
         "23",
         "60.0",
         "75000.0",
         "41.774791390330336",
         "1345471.7995780432",
         "5.0",
         "Visa",
         "Houston",
         "femelle",
         "0.0"
        ],
        [
         "24",
         "43.3880629921763",
         "297279.86347378773",
         "60.4243158237745",
         "8379180.349166197",
         "19.0",
         "Visa",
         "Miami",
         "male",
         "0.0"
        ],
        [
         "25",
         "43.48169222631682",
         "214597.28646282936",
         "48.99838802287066",
         "3930718.638424764",
         "10.0",
         "Mastercard",
         "Orlando",
         "femelle",
         "0.0"
        ],
        [
         "26",
         "44.676983619893925",
         "597370.5675253391",
         "39.47035290410154",
         "8332033.052162276",
         "2.0",
         "Visa",
         "Orlando",
         "male",
         null
        ],
        [
         "27",
         "29.637931034663037",
         "342568.204175712",
         "17.37864749610042",
         "9515587.99663712",
         "4.0",
         "Visa",
         "Orlando",
         "femelle",
         "0.0"
        ],
        [
         "28",
         "39.76518638307444",
         "175755.93594774016",
         "66.52906221717525",
         "7020286.4382610805",
         "10.0",
         "Visa",
         "Miami",
         "male",
         "0.0"
        ],
        [
         "29",
         "48.46368571071034",
         "306894.1404073401",
         "51.65729683737992",
         "5088725.017080135",
         "10.0",
         "Visa",
         "Houston",
         "femelle",
         "0.0"
        ],
        [
         "30",
         "50.19747079743589",
         "375285.0350551008",
         "78.68002007460922",
         "7528322.090297081",
         "13.0",
         "Mastercard",
         "Orlando",
         "male",
         "0.0"
        ],
        [
         "31",
         "37.703123961101255",
         "203726.7894083488",
         "43.4335811461888",
         "2416135.692842297",
         "10.0",
         "Visa",
         "Houston",
         "femelle",
         "0.0"
        ],
        [
         "32",
         "36.29714971428496",
         "375163.50139631575",
         "60.20504444810037",
         "10766673.680808358",
         "2.0",
         "Visa",
         "Houston",
         "male",
         "0.0"
        ],
        [
         "33",
         "37.6009802040271",
         "190741.4530137435",
         "57.64067411432021",
         "10136914.062312797",
         "3.0",
         "Mastercard",
         "Miami",
         "male",
         null
        ],
        [
         "34",
         "39.24877145029562",
         "623452.4447593947",
         "49.56780992159034",
         "4077267.8313087686",
         "13.0",
         "Mastercard",
         "Houston",
         "femelle",
         "0.0"
        ],
        [
         "35",
         "37.58184486333979",
         "440198.2061004936",
         "49.56780992159034",
         "7143649.2843905175",
         "6.0",
         "Visa",
         "Miami",
         "femelle",
         "0.0"
        ],
        [
         "36",
         "36.51278824727654",
         "349655.835422582",
         "51.99976327531104",
         "25000.0",
         "13.0",
         "Visa",
         "Houston",
         "femelle",
         "0.0"
        ],
        [
         "37",
         "28.14082570403385",
         "472852.2958442889",
         "31.93413778441781",
         "1751478.41339497",
         "9.655655655655655",
         "Mastercard",
         "Houston",
         "femelle",
         "0.0"
        ],
        [
         "38",
         "41.85384753624314",
         "177091.9754251814",
         "25.73073279694154",
         "8888770.129244005",
         "2.0",
         "Mastercard",
         "Miami",
         "male",
         "0.0"
        ],
        [
         "39",
         "50.27283756143118",
         "346357.0252536052",
         "85.29651767583472",
         "5170119.946517796",
         "9.0",
         "Mastercard",
         "Orlando",
         "femelle",
         "0.0"
        ],
        [
         "40",
         "45.034885067431134",
         "292273.6209369108",
         "38.49627100712967",
         "7669570.855356484",
         "10.0",
         "Mastercard",
         "Miami",
         "femelle",
         "0.0"
        ],
        [
         "41",
         "49.2579563818482",
         "75000.0",
         "50.87420793983968",
         "8220099.747334917",
         "4.0",
         "Visa",
         "Houston",
         "femelle",
         "0.0"
        ],
        [
         "42",
         "45.004676749400005",
         "152857.99094799458",
         "65.82280008711767",
         "3895825.153568958",
         "8.0",
         "Mastercard",
         "Houston",
         "femelle",
         "0.0"
        ],
        [
         "43",
         "55.16118889687176",
         "446888.9616430444",
         "12.159328550286602",
         "3109303.7790606827",
         "8.0",
         "Mastercard",
         "Houston",
         "male",
         "0.0"
        ],
        [
         "44",
         "29.21832615752477",
         "340327.6179601488",
         "52.70982744633524",
         "8184527.471527533",
         "9.0",
         "Visa",
         "Orlando",
         "femelle",
         "0.0"
        ],
        [
         "45",
         "56.1084343571896",
         "412933.6622240677",
         "41.81359570826629",
         "7115445.97681453",
         "15.0",
         "Visa",
         "Houston",
         "male",
         "0.0"
        ],
        [
         "46",
         "35.086851750022525",
         "194202.4914126228",
         "35.26197295536402",
         "2817638.2258306453",
         "9.0",
         "Visa",
         "Orlando",
         "femelle",
         "0.0"
        ],
        [
         "47",
         "33.30095368254027",
         "393528.8698238788",
         "50.071652036655664",
         "1539552.4073340693",
         "6.0",
         "Visa",
         "Miami",
         "male",
         "0.0"
        ],
        [
         "48",
         "41.26107646752755",
         "179966.58969001443",
         "39.36136983415816",
         "4022783.32045214",
         "8.0",
         "Mastercard",
         "Orlando",
         "femelle",
         "0.0"
        ],
        [
         "49",
         "44.08480552328251",
         "411018.8496157866",
         "83.5525088431227",
         "5368186.723116451",
         "1.0",
         "Mastercard",
         "Orlando",
         "male",
         "1.0"
        ]
       ],
       "shape": {
        "columns": 9,
        "rows": 1020
       }
      },
      "text/html": [
       "<div>\n",
       "<style scoped>\n",
       "    .dataframe tbody tr th:only-of-type {\n",
       "        vertical-align: middle;\n",
       "    }\n",
       "\n",
       "    .dataframe tbody tr th {\n",
       "        vertical-align: top;\n",
       "    }\n",
       "\n",
       "    .dataframe thead th {\n",
       "        text-align: right;\n",
       "    }\n",
       "</style>\n",
       "<table border=\"1\" class=\"dataframe\">\n",
       "  <thead>\n",
       "    <tr style=\"text-align: right;\">\n",
       "      <th></th>\n",
       "      <th>age</th>\n",
       "      <th>salaire</th>\n",
       "      <th>score_credit</th>\n",
       "      <th>montant_transaction</th>\n",
       "      <th>anciennete_compte</th>\n",
       "      <th>type_carte</th>\n",
       "      <th>region</th>\n",
       "      <th>genre</th>\n",
       "      <th>fraude</th>\n",
       "    </tr>\n",
       "  </thead>\n",
       "  <tbody>\n",
       "    <tr>\n",
       "      <th>0</th>\n",
       "      <td>49.548894</td>\n",
       "      <td>183659.045784</td>\n",
       "      <td>48.228579</td>\n",
       "      <td>9.649456e+06</td>\n",
       "      <td>14.000000</td>\n",
       "      <td>Mastercard</td>\n",
       "      <td>Houston</td>\n",
       "      <td>femelle</td>\n",
       "      <td>0.0</td>\n",
       "    </tr>\n",
       "    <tr>\n",
       "      <th>1</th>\n",
       "      <td>44.952665</td>\n",
       "      <td>329732.599158</td>\n",
       "      <td>67.573097</td>\n",
       "      <td>2.500000e+04</td>\n",
       "      <td>9.655656</td>\n",
       "      <td>Mastercard</td>\n",
       "      <td>Houston</td>\n",
       "      <td>femelle</td>\n",
       "      <td>0.0</td>\n",
       "    </tr>\n",
       "    <tr>\n",
       "      <th>2</th>\n",
       "      <td>41.659910</td>\n",
       "      <td>75000.000000</td>\n",
       "      <td>77.559487</td>\n",
       "      <td>2.724004e+06</td>\n",
       "      <td>9.000000</td>\n",
       "      <td>Visa</td>\n",
       "      <td>Houston</td>\n",
       "      <td>male</td>\n",
       "      <td>0.0</td>\n",
       "    </tr>\n",
       "    <tr>\n",
       "      <th>3</th>\n",
       "      <td>42.377280</td>\n",
       "      <td>75000.000000</td>\n",
       "      <td>54.282220</td>\n",
       "      <td>4.755632e+06</td>\n",
       "      <td>9.000000</td>\n",
       "      <td>Mastercard</td>\n",
       "      <td>Orlando</td>\n",
       "      <td>femelle</td>\n",
       "      <td>0.0</td>\n",
       "    </tr>\n",
       "    <tr>\n",
       "      <th>4</th>\n",
       "      <td>48.125023</td>\n",
       "      <td>359999.482942</td>\n",
       "      <td>71.148546</td>\n",
       "      <td>2.500000e+04</td>\n",
       "      <td>8.000000</td>\n",
       "      <td>Mastercard</td>\n",
       "      <td>Orlando</td>\n",
       "      <td>femelle</td>\n",
       "      <td>0.0</td>\n",
       "    </tr>\n",
       "    <tr>\n",
       "      <th>...</th>\n",
       "      <td>...</td>\n",
       "      <td>...</td>\n",
       "      <td>...</td>\n",
       "      <td>...</td>\n",
       "      <td>...</td>\n",
       "      <td>...</td>\n",
       "      <td>...</td>\n",
       "      <td>...</td>\n",
       "      <td>...</td>\n",
       "    </tr>\n",
       "    <tr>\n",
       "      <th>1015</th>\n",
       "      <td>48.973513</td>\n",
       "      <td>262962.250877</td>\n",
       "      <td>52.367001</td>\n",
       "      <td>3.428887e+06</td>\n",
       "      <td>8.000000</td>\n",
       "      <td>Visa</td>\n",
       "      <td>Orlando</td>\n",
       "      <td>male</td>\n",
       "      <td>0.0</td>\n",
       "    </tr>\n",
       "    <tr>\n",
       "      <th>1016</th>\n",
       "      <td>42.298180</td>\n",
       "      <td>429413.188793</td>\n",
       "      <td>43.633980</td>\n",
       "      <td>3.255258e+06</td>\n",
       "      <td>2.000000</td>\n",
       "      <td>Visa</td>\n",
       "      <td>Houston</td>\n",
       "      <td>male</td>\n",
       "      <td>0.0</td>\n",
       "    </tr>\n",
       "    <tr>\n",
       "      <th>1017</th>\n",
       "      <td>42.734031</td>\n",
       "      <td>531726.219363</td>\n",
       "      <td>37.934063</td>\n",
       "      <td>5.980733e+06</td>\n",
       "      <td>11.000000</td>\n",
       "      <td>Mastercard</td>\n",
       "      <td>Houston</td>\n",
       "      <td>femelle</td>\n",
       "      <td>0.0</td>\n",
       "    </tr>\n",
       "    <tr>\n",
       "      <th>1018</th>\n",
       "      <td>44.454998</td>\n",
       "      <td>232283.191451</td>\n",
       "      <td>12.925355</td>\n",
       "      <td>5.094767e+06</td>\n",
       "      <td>12.000000</td>\n",
       "      <td>Mastercard</td>\n",
       "      <td>Orlando</td>\n",
       "      <td>male</td>\n",
       "      <td>0.0</td>\n",
       "    </tr>\n",
       "    <tr>\n",
       "      <th>1019</th>\n",
       "      <td>24.957693</td>\n",
       "      <td>391660.635767</td>\n",
       "      <td>89.375146</td>\n",
       "      <td>4.075352e+06</td>\n",
       "      <td>15.000000</td>\n",
       "      <td>Visa</td>\n",
       "      <td>Orlando</td>\n",
       "      <td>femelle</td>\n",
       "      <td>0.0</td>\n",
       "    </tr>\n",
       "  </tbody>\n",
       "</table>\n",
       "<p>1020 rows × 9 columns</p>\n",
       "</div>"
      ],
      "text/plain": [
       "            age        salaire  score_credit  montant_transaction  \\\n",
       "0     49.548894  183659.045784     48.228579         9.649456e+06   \n",
       "1     44.952665  329732.599158     67.573097         2.500000e+04   \n",
       "2     41.659910   75000.000000     77.559487         2.724004e+06   \n",
       "3     42.377280   75000.000000     54.282220         4.755632e+06   \n",
       "4     48.125023  359999.482942     71.148546         2.500000e+04   \n",
       "...         ...            ...           ...                  ...   \n",
       "1015  48.973513  262962.250877     52.367001         3.428887e+06   \n",
       "1016  42.298180  429413.188793     43.633980         3.255258e+06   \n",
       "1017  42.734031  531726.219363     37.934063         5.980733e+06   \n",
       "1018  44.454998  232283.191451     12.925355         5.094767e+06   \n",
       "1019  24.957693  391660.635767     89.375146         4.075352e+06   \n",
       "\n",
       "      anciennete_compte  type_carte   region    genre  fraude  \n",
       "0             14.000000  Mastercard  Houston  femelle     0.0  \n",
       "1              9.655656  Mastercard  Houston  femelle     0.0  \n",
       "2              9.000000        Visa  Houston     male     0.0  \n",
       "3              9.000000  Mastercard  Orlando  femelle     0.0  \n",
       "4              8.000000  Mastercard  Orlando  femelle     0.0  \n",
       "...                 ...         ...      ...      ...     ...  \n",
       "1015           8.000000        Visa  Orlando     male     0.0  \n",
       "1016           2.000000        Visa  Houston     male     0.0  \n",
       "1017          11.000000  Mastercard  Houston  femelle     0.0  \n",
       "1018          12.000000  Mastercard  Orlando     male     0.0  \n",
       "1019          15.000000        Visa  Orlando  femelle     0.0  \n",
       "\n",
       "[1020 rows x 9 columns]"
      ]
     },
     "execution_count": 289,
     "metadata": {},
     "output_type": "execute_result"
    }
   ],
   "source": [
    "replace_value(df)"
   ]
  },
  {
   "cell_type": "markdown",
   "id": "1942d969",
   "metadata": {},
   "source": [
    "### *checking*"
   ]
  },
  {
   "cell_type": "code",
   "execution_count": 290,
   "id": "a0cc38e5",
   "metadata": {},
   "outputs": [
    {
     "data": {
      "application/vnd.microsoft.datawrangler.viewer.v0+json": {
       "columns": [
        {
         "name": "index",
         "rawType": "object",
         "type": "string"
        },
        {
         "name": "0",
         "rawType": "int64",
         "type": "integer"
        }
       ],
       "ref": "16e66b64-9344-4ee9-ab99-dd2e2a367731",
       "rows": [
        [
         "age",
         "0"
        ],
        [
         "salaire",
         "0"
        ],
        [
         "score_credit",
         "0"
        ],
        [
         "montant_transaction",
         "0"
        ],
        [
         "anciennete_compte",
         "0"
        ],
        [
         "type_carte",
         "0"
        ],
        [
         "region",
         "0"
        ],
        [
         "genre",
         "0"
        ],
        [
         "fraude",
         "38"
        ]
       ],
       "shape": {
        "columns": 1,
        "rows": 9
       }
      },
      "text/plain": [
       "age                     0\n",
       "salaire                 0\n",
       "score_credit            0\n",
       "montant_transaction     0\n",
       "anciennete_compte       0\n",
       "type_carte              0\n",
       "region                  0\n",
       "genre                   0\n",
       "fraude                 38\n",
       "dtype: int64"
      ]
     },
     "execution_count": 290,
     "metadata": {},
     "output_type": "execute_result"
    }
   ],
   "source": [
    "df.isnull().sum()"
   ]
  },
  {
   "cell_type": "markdown",
   "id": "cabc3df4",
   "metadata": {},
   "source": [
    "en vérifians vous voyez bien que j'ai évité de remplacer par la moyenne les valeurs manquante de fraude car vu quil y'a un important déséquilibre dans la colonne elle va juste augmenter la classe majoritaire "
   ]
  },
  {
   "cell_type": "markdown",
   "id": "2c6daeb4",
   "metadata": {},
   "source": [
    "### *check and replace duplicates values*"
   ]
  },
  {
   "cell_type": "code",
   "execution_count": 291,
   "id": "15626561",
   "metadata": {},
   "outputs": [
    {
     "data": {
      "application/vnd.microsoft.datawrangler.viewer.v0+json": {
       "columns": [
        {
         "name": "index",
         "rawType": "bool",
         "type": "boolean"
        },
        {
         "name": "count",
         "rawType": "int64",
         "type": "integer"
        }
       ],
       "ref": "a5b3c5c9-999a-4fb8-b883-39ecb0c2a53c",
       "rows": [
        [
         "False",
         "1010"
        ],
        [
         "True",
         "10"
        ]
       ],
       "shape": {
        "columns": 1,
        "rows": 2
       }
      },
      "text/plain": [
       "False    1010\n",
       "True       10\n",
       "Name: count, dtype: int64"
      ]
     },
     "execution_count": 291,
     "metadata": {},
     "output_type": "execute_result"
    }
   ],
   "source": [
    "duplicate = df.duplicated().value_counts()\n",
    "duplicate"
   ]
  },
  {
   "cell_type": "code",
   "execution_count": 292,
   "id": "f64b2686",
   "metadata": {},
   "outputs": [],
   "source": [
    "df = df.drop_duplicates()"
   ]
  },
  {
   "cell_type": "markdown",
   "id": "21d5da11",
   "metadata": {},
   "source": [
    "### *Encoding categorial columns*"
   ]
  },
  {
   "cell_type": "code",
   "execution_count": 293,
   "id": "930c2044",
   "metadata": {},
   "outputs": [],
   "source": [
    "from sklearn.preprocessing import LabelEncoder\n",
    "le = LabelEncoder()\n",
    "def label_encoding(df):\n",
    "    for col in df.columns:\n",
    "        if df[col].dtype == 'object' and df[col].nunique() == 2:\n",
    "            df[col] = le.fit_transform(df[col])"
   ]
  },
  {
   "cell_type": "code",
   "execution_count": 294,
   "id": "f1f92985",
   "metadata": {},
   "outputs": [],
   "source": [
    "label_encoding(df)"
   ]
  },
  {
   "cell_type": "code",
   "execution_count": 295,
   "id": "23554ecd",
   "metadata": {},
   "outputs": [],
   "source": [
    "def frequency_encoding(df, column):\n",
    "    fe = df[column].value_counts()/len(df)\n",
    "    df[column] = df[column].map(fe)\n",
    "    \n",
    "    return df"
   ]
  },
  {
   "cell_type": "code",
   "execution_count": 296,
   "id": "592b4411",
   "metadata": {},
   "outputs": [
    {
     "data": {
      "application/vnd.microsoft.datawrangler.viewer.v0+json": {
       "columns": [
        {
         "name": "index",
         "rawType": "int64",
         "type": "integer"
        },
        {
         "name": "age",
         "rawType": "float64",
         "type": "float"
        },
        {
         "name": "salaire",
         "rawType": "float64",
         "type": "float"
        },
        {
         "name": "score_credit",
         "rawType": "float64",
         "type": "float"
        },
        {
         "name": "montant_transaction",
         "rawType": "float64",
         "type": "float"
        },
        {
         "name": "anciennete_compte",
         "rawType": "float64",
         "type": "float"
        },
        {
         "name": "type_carte",
         "rawType": "int32",
         "type": "integer"
        },
        {
         "name": "region",
         "rawType": "float64",
         "type": "float"
        },
        {
         "name": "genre",
         "rawType": "int32",
         "type": "integer"
        },
        {
         "name": "fraude",
         "rawType": "float64",
         "type": "float"
        }
       ],
       "ref": "98af1bde-d387-4a3c-9b8a-903f9aa7ef95",
       "rows": [
        [
         "0",
         "49.54889404138071",
         "183659.04578435957",
         "48.2285786546242",
         "9649455.81898502",
         "14.0",
         "0",
         "0.39504950495049507",
         "0",
         "0.0"
        ],
        [
         "1",
         "44.95266535510408",
         "329732.599158123",
         "67.57309700360759",
         "25000.0",
         "9.655655655655655",
         "0",
         "0.39504950495049507",
         "0",
         "0.0"
        ],
        [
         "2",
         "41.65991038281746",
         "75000.0",
         "77.55948667850828",
         "2724004.395371683",
         "9.0",
         "1",
         "0.39504950495049507",
         "1",
         "0.0"
        ],
        [
         "3",
         "42.377280190465775",
         "75000.0",
         "54.28221964572267",
         "4755632.036666362",
         "9.0",
         "0",
         "0.31683168316831684",
         "0",
         "0.0"
        ],
        [
         "4",
         "48.125023071955766",
         "359999.48294154095",
         "71.14854574228272",
         "25000.0",
         "8.0",
         "0",
         "0.31683168316831684",
         "0",
         "0.0"
        ],
        [
         "5",
         "34.90494088848834",
         "397644.8518169162",
         "49.93038302853597",
         "7176256.481473299",
         "11.0",
         "1",
         "0.2881188118811881",
         "1",
         "0.0"
        ],
        [
         "6",
         "39.231994706129136",
         "428573.7582634933",
         "53.6356246517432",
         "11531961.143126665",
         "10.0",
         "1",
         "0.31683168316831684",
         "0",
         "1.0"
        ],
        [
         "7",
         "47.84919772456283",
         "245523.6661900776",
         "19.711718752037587",
         "4595029.316068816",
         "7.0",
         "1",
         "0.39504950495049507",
         "1",
         "0.0"
        ],
        [
         "8",
         "36.53889986933177",
         "380458.3828271364",
         "23.3510043800359",
         "25000.0",
         "6.0",
         "0",
         "0.39504950495049507",
         "1",
         "0.0"
        ],
        [
         "9",
         "45.67679583506853",
         "215836.6303528504",
         "99.0",
         "1514746.0994707665",
         "9.0",
         "0",
         "0.39504950495049507",
         "1",
         "0.0"
        ],
        [
         "10",
         "44.18659026182871",
         "230620.0550529932",
         "41.75159860300186",
         "5899384.622489492",
         "12.0",
         "1",
         "0.2881188118811881",
         "1",
         "0.0"
        ],
        [
         "11",
         "26.78205858117208",
         "292086.73379988514",
         "83.71403508069943",
         "8850063.731864616",
         "1.0",
         "1",
         "0.39504950495049507",
         "1",
         "0.0"
        ],
        [
         "12",
         "29.07041329864866",
         "458193.09427309775",
         "45.8567662181192",
         "25000.0",
         "11.0",
         "0",
         "0.31683168316831684",
         "0",
         "0.0"
        ],
        [
         "13",
         "31.55110744650331",
         "524056.4638508301",
         "42.19181627156733",
         "3990365.236372667",
         "3.0",
         "1",
         "0.2881188118811881",
         "0",
         "0.0"
        ],
        [
         "14",
         "37.587789633845226",
         "134332.22582175056",
         "75.4206019886228",
         "1866000.4081062705",
         "9.0",
         "1",
         "0.31683168316831684",
         "1",
         "0.0"
        ],
        [
         "15",
         "52.342454190157454",
         "326351.0568737669",
         "49.56780992159034",
         "1497497.528357857",
         "6.0",
         "1",
         "0.31683168316831684",
         "0",
         "0.0"
        ],
        [
         "16",
         "38.62803519689409",
         "209866.9236219281",
         "74.45615844266817",
         "7608717.555960263",
         "16.0",
         "1",
         "0.39504950495049507",
         "0",
         "0.0"
        ],
        [
         "17",
         "42.65897866579188",
         "269787.01498845394",
         "68.98592996750631",
         "1322323.2096801624",
         "14.0",
         "1",
         "0.31683168316831684",
         "1",
         "0.0"
        ],
        [
         "18",
         "56.43611911523808",
         "389863.4638895714",
         "38.05442128307504",
         "6391169.172671343",
         "23.0",
         "1",
         "0.39504950495049507",
         "0",
         "0.0"
        ],
        [
         "19",
         "38.84106595883125",
         "472423.1046015553",
         "56.72150825010693",
         "3367176.7012263853",
         "10.0",
         "1",
         "0.2881188118811881",
         "0",
         "0.0"
        ],
        [
         "20",
         "40.15996388965135",
         "174619.46165725414",
         "41.46800727427926",
         "10667847.362750756",
         "11.0",
         "1",
         "0.39504950495049507",
         "0",
         "0.0"
        ],
        [
         "21",
         "43.378598379599",
         "320973.2037777316",
         "36.04916115049771",
         "8776658.617228465",
         "7.0",
         "0",
         "0.2881188118811881",
         "1",
         "0.0"
        ],
        [
         "22",
         "38.82815463417471",
         "343822.3263178198",
         "41.55008209135132",
         "4941408.8315986935",
         "9.0",
         "1",
         "0.31683168316831684",
         "0",
         "0.0"
        ],
        [
         "23",
         "60.0",
         "75000.0",
         "41.774791390330336",
         "1345471.7995780432",
         "5.0",
         "1",
         "0.39504950495049507",
         "0",
         "0.0"
        ],
        [
         "24",
         "43.3880629921763",
         "297279.86347378773",
         "60.4243158237745",
         "8379180.349166197",
         "19.0",
         "1",
         "0.2881188118811881",
         "1",
         "0.0"
        ],
        [
         "25",
         "43.48169222631682",
         "214597.28646282936",
         "48.99838802287066",
         "3930718.638424764",
         "10.0",
         "0",
         "0.31683168316831684",
         "0",
         "0.0"
        ],
        [
         "26",
         "44.676983619893925",
         "597370.5675253391",
         "39.47035290410154",
         "8332033.052162276",
         "2.0",
         "1",
         "0.31683168316831684",
         "1",
         null
        ],
        [
         "27",
         "29.637931034663037",
         "342568.204175712",
         "17.37864749610042",
         "9515587.99663712",
         "4.0",
         "1",
         "0.31683168316831684",
         "0",
         "0.0"
        ],
        [
         "28",
         "39.76518638307444",
         "175755.93594774016",
         "66.52906221717525",
         "7020286.4382610805",
         "10.0",
         "1",
         "0.2881188118811881",
         "1",
         "0.0"
        ],
        [
         "29",
         "48.46368571071034",
         "306894.1404073401",
         "51.65729683737992",
         "5088725.017080135",
         "10.0",
         "1",
         "0.39504950495049507",
         "0",
         "0.0"
        ],
        [
         "30",
         "50.19747079743589",
         "375285.0350551008",
         "78.68002007460922",
         "7528322.090297081",
         "13.0",
         "0",
         "0.31683168316831684",
         "1",
         "0.0"
        ],
        [
         "31",
         "37.703123961101255",
         "203726.7894083488",
         "43.4335811461888",
         "2416135.692842297",
         "10.0",
         "1",
         "0.39504950495049507",
         "0",
         "0.0"
        ],
        [
         "32",
         "36.29714971428496",
         "375163.50139631575",
         "60.20504444810037",
         "10766673.680808358",
         "2.0",
         "1",
         "0.39504950495049507",
         "1",
         "0.0"
        ],
        [
         "33",
         "37.6009802040271",
         "190741.4530137435",
         "57.64067411432021",
         "10136914.062312797",
         "3.0",
         "0",
         "0.2881188118811881",
         "1",
         null
        ],
        [
         "34",
         "39.24877145029562",
         "623452.4447593947",
         "49.56780992159034",
         "4077267.8313087686",
         "13.0",
         "0",
         "0.39504950495049507",
         "0",
         "0.0"
        ],
        [
         "35",
         "37.58184486333979",
         "440198.2061004936",
         "49.56780992159034",
         "7143649.2843905175",
         "6.0",
         "1",
         "0.2881188118811881",
         "0",
         "0.0"
        ],
        [
         "36",
         "36.51278824727654",
         "349655.835422582",
         "51.99976327531104",
         "25000.0",
         "13.0",
         "1",
         "0.39504950495049507",
         "0",
         "0.0"
        ],
        [
         "37",
         "28.14082570403385",
         "472852.2958442889",
         "31.93413778441781",
         "1751478.41339497",
         "9.655655655655655",
         "0",
         "0.39504950495049507",
         "0",
         "0.0"
        ],
        [
         "38",
         "41.85384753624314",
         "177091.9754251814",
         "25.73073279694154",
         "8888770.129244005",
         "2.0",
         "0",
         "0.2881188118811881",
         "1",
         "0.0"
        ],
        [
         "39",
         "50.27283756143118",
         "346357.0252536052",
         "85.29651767583472",
         "5170119.946517796",
         "9.0",
         "0",
         "0.31683168316831684",
         "0",
         "0.0"
        ],
        [
         "40",
         "45.034885067431134",
         "292273.6209369108",
         "38.49627100712967",
         "7669570.855356484",
         "10.0",
         "0",
         "0.2881188118811881",
         "0",
         "0.0"
        ],
        [
         "41",
         "49.2579563818482",
         "75000.0",
         "50.87420793983968",
         "8220099.747334917",
         "4.0",
         "1",
         "0.39504950495049507",
         "0",
         "0.0"
        ],
        [
         "42",
         "45.004676749400005",
         "152857.99094799458",
         "65.82280008711767",
         "3895825.153568958",
         "8.0",
         "0",
         "0.39504950495049507",
         "0",
         "0.0"
        ],
        [
         "43",
         "55.16118889687176",
         "446888.9616430444",
         "12.159328550286602",
         "3109303.7790606827",
         "8.0",
         "0",
         "0.39504950495049507",
         "1",
         "0.0"
        ],
        [
         "44",
         "29.21832615752477",
         "340327.6179601488",
         "52.70982744633524",
         "8184527.471527533",
         "9.0",
         "1",
         "0.31683168316831684",
         "0",
         "0.0"
        ],
        [
         "45",
         "56.1084343571896",
         "412933.6622240677",
         "41.81359570826629",
         "7115445.97681453",
         "15.0",
         "1",
         "0.39504950495049507",
         "1",
         "0.0"
        ],
        [
         "46",
         "35.086851750022525",
         "194202.4914126228",
         "35.26197295536402",
         "2817638.2258306453",
         "9.0",
         "1",
         "0.31683168316831684",
         "0",
         "0.0"
        ],
        [
         "47",
         "33.30095368254027",
         "393528.8698238788",
         "50.071652036655664",
         "1539552.4073340693",
         "6.0",
         "1",
         "0.2881188118811881",
         "1",
         "0.0"
        ],
        [
         "48",
         "41.26107646752755",
         "179966.58969001443",
         "39.36136983415816",
         "4022783.32045214",
         "8.0",
         "0",
         "0.31683168316831684",
         "0",
         "0.0"
        ],
        [
         "49",
         "44.08480552328251",
         "411018.8496157866",
         "83.5525088431227",
         "5368186.723116451",
         "1.0",
         "0",
         "0.31683168316831684",
         "1",
         "1.0"
        ]
       ],
       "shape": {
        "columns": 9,
        "rows": 1010
       }
      },
      "text/html": [
       "<div>\n",
       "<style scoped>\n",
       "    .dataframe tbody tr th:only-of-type {\n",
       "        vertical-align: middle;\n",
       "    }\n",
       "\n",
       "    .dataframe tbody tr th {\n",
       "        vertical-align: top;\n",
       "    }\n",
       "\n",
       "    .dataframe thead th {\n",
       "        text-align: right;\n",
       "    }\n",
       "</style>\n",
       "<table border=\"1\" class=\"dataframe\">\n",
       "  <thead>\n",
       "    <tr style=\"text-align: right;\">\n",
       "      <th></th>\n",
       "      <th>age</th>\n",
       "      <th>salaire</th>\n",
       "      <th>score_credit</th>\n",
       "      <th>montant_transaction</th>\n",
       "      <th>anciennete_compte</th>\n",
       "      <th>type_carte</th>\n",
       "      <th>region</th>\n",
       "      <th>genre</th>\n",
       "      <th>fraude</th>\n",
       "    </tr>\n",
       "  </thead>\n",
       "  <tbody>\n",
       "    <tr>\n",
       "      <th>0</th>\n",
       "      <td>49.548894</td>\n",
       "      <td>183659.045784</td>\n",
       "      <td>48.228579</td>\n",
       "      <td>9.649456e+06</td>\n",
       "      <td>14.000000</td>\n",
       "      <td>0</td>\n",
       "      <td>0.395050</td>\n",
       "      <td>0</td>\n",
       "      <td>0.0</td>\n",
       "    </tr>\n",
       "    <tr>\n",
       "      <th>1</th>\n",
       "      <td>44.952665</td>\n",
       "      <td>329732.599158</td>\n",
       "      <td>67.573097</td>\n",
       "      <td>2.500000e+04</td>\n",
       "      <td>9.655656</td>\n",
       "      <td>0</td>\n",
       "      <td>0.395050</td>\n",
       "      <td>0</td>\n",
       "      <td>0.0</td>\n",
       "    </tr>\n",
       "    <tr>\n",
       "      <th>2</th>\n",
       "      <td>41.659910</td>\n",
       "      <td>75000.000000</td>\n",
       "      <td>77.559487</td>\n",
       "      <td>2.724004e+06</td>\n",
       "      <td>9.000000</td>\n",
       "      <td>1</td>\n",
       "      <td>0.395050</td>\n",
       "      <td>1</td>\n",
       "      <td>0.0</td>\n",
       "    </tr>\n",
       "    <tr>\n",
       "      <th>3</th>\n",
       "      <td>42.377280</td>\n",
       "      <td>75000.000000</td>\n",
       "      <td>54.282220</td>\n",
       "      <td>4.755632e+06</td>\n",
       "      <td>9.000000</td>\n",
       "      <td>0</td>\n",
       "      <td>0.316832</td>\n",
       "      <td>0</td>\n",
       "      <td>0.0</td>\n",
       "    </tr>\n",
       "    <tr>\n",
       "      <th>4</th>\n",
       "      <td>48.125023</td>\n",
       "      <td>359999.482942</td>\n",
       "      <td>71.148546</td>\n",
       "      <td>2.500000e+04</td>\n",
       "      <td>8.000000</td>\n",
       "      <td>0</td>\n",
       "      <td>0.316832</td>\n",
       "      <td>0</td>\n",
       "      <td>0.0</td>\n",
       "    </tr>\n",
       "    <tr>\n",
       "      <th>...</th>\n",
       "      <td>...</td>\n",
       "      <td>...</td>\n",
       "      <td>...</td>\n",
       "      <td>...</td>\n",
       "      <td>...</td>\n",
       "      <td>...</td>\n",
       "      <td>...</td>\n",
       "      <td>...</td>\n",
       "      <td>...</td>\n",
       "    </tr>\n",
       "    <tr>\n",
       "      <th>1015</th>\n",
       "      <td>48.973513</td>\n",
       "      <td>262962.250877</td>\n",
       "      <td>52.367001</td>\n",
       "      <td>3.428887e+06</td>\n",
       "      <td>8.000000</td>\n",
       "      <td>1</td>\n",
       "      <td>0.316832</td>\n",
       "      <td>1</td>\n",
       "      <td>0.0</td>\n",
       "    </tr>\n",
       "    <tr>\n",
       "      <th>1016</th>\n",
       "      <td>42.298180</td>\n",
       "      <td>429413.188793</td>\n",
       "      <td>43.633980</td>\n",
       "      <td>3.255258e+06</td>\n",
       "      <td>2.000000</td>\n",
       "      <td>1</td>\n",
       "      <td>0.395050</td>\n",
       "      <td>1</td>\n",
       "      <td>0.0</td>\n",
       "    </tr>\n",
       "    <tr>\n",
       "      <th>1017</th>\n",
       "      <td>42.734031</td>\n",
       "      <td>531726.219363</td>\n",
       "      <td>37.934063</td>\n",
       "      <td>5.980733e+06</td>\n",
       "      <td>11.000000</td>\n",
       "      <td>0</td>\n",
       "      <td>0.395050</td>\n",
       "      <td>0</td>\n",
       "      <td>0.0</td>\n",
       "    </tr>\n",
       "    <tr>\n",
       "      <th>1018</th>\n",
       "      <td>44.454998</td>\n",
       "      <td>232283.191451</td>\n",
       "      <td>12.925355</td>\n",
       "      <td>5.094767e+06</td>\n",
       "      <td>12.000000</td>\n",
       "      <td>0</td>\n",
       "      <td>0.316832</td>\n",
       "      <td>1</td>\n",
       "      <td>0.0</td>\n",
       "    </tr>\n",
       "    <tr>\n",
       "      <th>1019</th>\n",
       "      <td>24.957693</td>\n",
       "      <td>391660.635767</td>\n",
       "      <td>89.375146</td>\n",
       "      <td>4.075352e+06</td>\n",
       "      <td>15.000000</td>\n",
       "      <td>1</td>\n",
       "      <td>0.316832</td>\n",
       "      <td>0</td>\n",
       "      <td>0.0</td>\n",
       "    </tr>\n",
       "  </tbody>\n",
       "</table>\n",
       "<p>1010 rows × 9 columns</p>\n",
       "</div>"
      ],
      "text/plain": [
       "            age        salaire  score_credit  montant_transaction  \\\n",
       "0     49.548894  183659.045784     48.228579         9.649456e+06   \n",
       "1     44.952665  329732.599158     67.573097         2.500000e+04   \n",
       "2     41.659910   75000.000000     77.559487         2.724004e+06   \n",
       "3     42.377280   75000.000000     54.282220         4.755632e+06   \n",
       "4     48.125023  359999.482942     71.148546         2.500000e+04   \n",
       "...         ...            ...           ...                  ...   \n",
       "1015  48.973513  262962.250877     52.367001         3.428887e+06   \n",
       "1016  42.298180  429413.188793     43.633980         3.255258e+06   \n",
       "1017  42.734031  531726.219363     37.934063         5.980733e+06   \n",
       "1018  44.454998  232283.191451     12.925355         5.094767e+06   \n",
       "1019  24.957693  391660.635767     89.375146         4.075352e+06   \n",
       "\n",
       "      anciennete_compte  type_carte    region  genre  fraude  \n",
       "0             14.000000           0  0.395050      0     0.0  \n",
       "1              9.655656           0  0.395050      0     0.0  \n",
       "2              9.000000           1  0.395050      1     0.0  \n",
       "3              9.000000           0  0.316832      0     0.0  \n",
       "4              8.000000           0  0.316832      0     0.0  \n",
       "...                 ...         ...       ...    ...     ...  \n",
       "1015           8.000000           1  0.316832      1     0.0  \n",
       "1016           2.000000           1  0.395050      1     0.0  \n",
       "1017          11.000000           0  0.395050      0     0.0  \n",
       "1018          12.000000           0  0.316832      1     0.0  \n",
       "1019          15.000000           1  0.316832      0     0.0  \n",
       "\n",
       "[1010 rows x 9 columns]"
      ]
     },
     "execution_count": 296,
     "metadata": {},
     "output_type": "execute_result"
    }
   ],
   "source": [
    "frequency_encoding(df, 'region')"
   ]
  },
  {
   "cell_type": "markdown",
   "id": "5c3e1230",
   "metadata": {},
   "source": [
    "### *gestion des valeurs manquante dans le target*"
   ]
  },
  {
   "cell_type": "markdown",
   "id": "b748632c",
   "metadata": {},
   "source": [
    "nous allons séparer les valeurs manquante et non manquate pour avoir une bonne moyenne pour la réaffectation des valeurs, entrainer avec KNN faire une prediction et affecter les données aux valeurs manquantes"
   ]
  },
  {
   "cell_type": "code",
   "execution_count": 297,
   "id": "9586eb8c",
   "metadata": {},
   "outputs": [],
   "source": [
    "complete_data = df[df['fraude'].notna()]\n",
    "incomplete_data = df[df['fraude'].isna()]\n",
    "features = complete_data.drop('fraude', axis=1)\n",
    "target = complete_data['fraude']\n",
    "features_incomplete = incomplete_data.drop('fraude', axis=1)"
   ]
  },
  {
   "cell_type": "code",
   "execution_count": 298,
   "id": "f0dd8fce",
   "metadata": {},
   "outputs": [
    {
     "data": {
      "text/html": [
       "<style>#sk-container-id-8 {\n",
       "  /* Definition of color scheme common for light and dark mode */\n",
       "  --sklearn-color-text: black;\n",
       "  --sklearn-color-line: gray;\n",
       "  /* Definition of color scheme for unfitted estimators */\n",
       "  --sklearn-color-unfitted-level-0: #fff5e6;\n",
       "  --sklearn-color-unfitted-level-1: #f6e4d2;\n",
       "  --sklearn-color-unfitted-level-2: #ffe0b3;\n",
       "  --sklearn-color-unfitted-level-3: chocolate;\n",
       "  /* Definition of color scheme for fitted estimators */\n",
       "  --sklearn-color-fitted-level-0: #f0f8ff;\n",
       "  --sklearn-color-fitted-level-1: #d4ebff;\n",
       "  --sklearn-color-fitted-level-2: #b3dbfd;\n",
       "  --sklearn-color-fitted-level-3: cornflowerblue;\n",
       "\n",
       "  /* Specific color for light theme */\n",
       "  --sklearn-color-text-on-default-background: var(--sg-text-color, var(--theme-code-foreground, var(--jp-content-font-color1, black)));\n",
       "  --sklearn-color-background: var(--sg-background-color, var(--theme-background, var(--jp-layout-color0, white)));\n",
       "  --sklearn-color-border-box: var(--sg-text-color, var(--theme-code-foreground, var(--jp-content-font-color1, black)));\n",
       "  --sklearn-color-icon: #696969;\n",
       "\n",
       "  @media (prefers-color-scheme: dark) {\n",
       "    /* Redefinition of color scheme for dark theme */\n",
       "    --sklearn-color-text-on-default-background: var(--sg-text-color, var(--theme-code-foreground, var(--jp-content-font-color1, white)));\n",
       "    --sklearn-color-background: var(--sg-background-color, var(--theme-background, var(--jp-layout-color0, #111)));\n",
       "    --sklearn-color-border-box: var(--sg-text-color, var(--theme-code-foreground, var(--jp-content-font-color1, white)));\n",
       "    --sklearn-color-icon: #878787;\n",
       "  }\n",
       "}\n",
       "\n",
       "#sk-container-id-8 {\n",
       "  color: var(--sklearn-color-text);\n",
       "}\n",
       "\n",
       "#sk-container-id-8 pre {\n",
       "  padding: 0;\n",
       "}\n",
       "\n",
       "#sk-container-id-8 input.sk-hidden--visually {\n",
       "  border: 0;\n",
       "  clip: rect(1px 1px 1px 1px);\n",
       "  clip: rect(1px, 1px, 1px, 1px);\n",
       "  height: 1px;\n",
       "  margin: -1px;\n",
       "  overflow: hidden;\n",
       "  padding: 0;\n",
       "  position: absolute;\n",
       "  width: 1px;\n",
       "}\n",
       "\n",
       "#sk-container-id-8 div.sk-dashed-wrapped {\n",
       "  border: 1px dashed var(--sklearn-color-line);\n",
       "  margin: 0 0.4em 0.5em 0.4em;\n",
       "  box-sizing: border-box;\n",
       "  padding-bottom: 0.4em;\n",
       "  background-color: var(--sklearn-color-background);\n",
       "}\n",
       "\n",
       "#sk-container-id-8 div.sk-container {\n",
       "  /* jupyter's `normalize.less` sets `[hidden] { display: none; }`\n",
       "     but bootstrap.min.css set `[hidden] { display: none !important; }`\n",
       "     so we also need the `!important` here to be able to override the\n",
       "     default hidden behavior on the sphinx rendered scikit-learn.org.\n",
       "     See: https://github.com/scikit-learn/scikit-learn/issues/21755 */\n",
       "  display: inline-block !important;\n",
       "  position: relative;\n",
       "}\n",
       "\n",
       "#sk-container-id-8 div.sk-text-repr-fallback {\n",
       "  display: none;\n",
       "}\n",
       "\n",
       "div.sk-parallel-item,\n",
       "div.sk-serial,\n",
       "div.sk-item {\n",
       "  /* draw centered vertical line to link estimators */\n",
       "  background-image: linear-gradient(var(--sklearn-color-text-on-default-background), var(--sklearn-color-text-on-default-background));\n",
       "  background-size: 2px 100%;\n",
       "  background-repeat: no-repeat;\n",
       "  background-position: center center;\n",
       "}\n",
       "\n",
       "/* Parallel-specific style estimator block */\n",
       "\n",
       "#sk-container-id-8 div.sk-parallel-item::after {\n",
       "  content: \"\";\n",
       "  width: 100%;\n",
       "  border-bottom: 2px solid var(--sklearn-color-text-on-default-background);\n",
       "  flex-grow: 1;\n",
       "}\n",
       "\n",
       "#sk-container-id-8 div.sk-parallel {\n",
       "  display: flex;\n",
       "  align-items: stretch;\n",
       "  justify-content: center;\n",
       "  background-color: var(--sklearn-color-background);\n",
       "  position: relative;\n",
       "}\n",
       "\n",
       "#sk-container-id-8 div.sk-parallel-item {\n",
       "  display: flex;\n",
       "  flex-direction: column;\n",
       "}\n",
       "\n",
       "#sk-container-id-8 div.sk-parallel-item:first-child::after {\n",
       "  align-self: flex-end;\n",
       "  width: 50%;\n",
       "}\n",
       "\n",
       "#sk-container-id-8 div.sk-parallel-item:last-child::after {\n",
       "  align-self: flex-start;\n",
       "  width: 50%;\n",
       "}\n",
       "\n",
       "#sk-container-id-8 div.sk-parallel-item:only-child::after {\n",
       "  width: 0;\n",
       "}\n",
       "\n",
       "/* Serial-specific style estimator block */\n",
       "\n",
       "#sk-container-id-8 div.sk-serial {\n",
       "  display: flex;\n",
       "  flex-direction: column;\n",
       "  align-items: center;\n",
       "  background-color: var(--sklearn-color-background);\n",
       "  padding-right: 1em;\n",
       "  padding-left: 1em;\n",
       "}\n",
       "\n",
       "\n",
       "/* Toggleable style: style used for estimator/Pipeline/ColumnTransformer box that is\n",
       "clickable and can be expanded/collapsed.\n",
       "- Pipeline and ColumnTransformer use this feature and define the default style\n",
       "- Estimators will overwrite some part of the style using the `sk-estimator` class\n",
       "*/\n",
       "\n",
       "/* Pipeline and ColumnTransformer style (default) */\n",
       "\n",
       "#sk-container-id-8 div.sk-toggleable {\n",
       "  /* Default theme specific background. It is overwritten whether we have a\n",
       "  specific estimator or a Pipeline/ColumnTransformer */\n",
       "  background-color: var(--sklearn-color-background);\n",
       "}\n",
       "\n",
       "/* Toggleable label */\n",
       "#sk-container-id-8 label.sk-toggleable__label {\n",
       "  cursor: pointer;\n",
       "  display: block;\n",
       "  width: 100%;\n",
       "  margin-bottom: 0;\n",
       "  padding: 0.5em;\n",
       "  box-sizing: border-box;\n",
       "  text-align: center;\n",
       "}\n",
       "\n",
       "#sk-container-id-8 label.sk-toggleable__label-arrow:before {\n",
       "  /* Arrow on the left of the label */\n",
       "  content: \"▸\";\n",
       "  float: left;\n",
       "  margin-right: 0.25em;\n",
       "  color: var(--sklearn-color-icon);\n",
       "}\n",
       "\n",
       "#sk-container-id-8 label.sk-toggleable__label-arrow:hover:before {\n",
       "  color: var(--sklearn-color-text);\n",
       "}\n",
       "\n",
       "/* Toggleable content - dropdown */\n",
       "\n",
       "#sk-container-id-8 div.sk-toggleable__content {\n",
       "  max-height: 0;\n",
       "  max-width: 0;\n",
       "  overflow: hidden;\n",
       "  text-align: left;\n",
       "  /* unfitted */\n",
       "  background-color: var(--sklearn-color-unfitted-level-0);\n",
       "}\n",
       "\n",
       "#sk-container-id-8 div.sk-toggleable__content.fitted {\n",
       "  /* fitted */\n",
       "  background-color: var(--sklearn-color-fitted-level-0);\n",
       "}\n",
       "\n",
       "#sk-container-id-8 div.sk-toggleable__content pre {\n",
       "  margin: 0.2em;\n",
       "  border-radius: 0.25em;\n",
       "  color: var(--sklearn-color-text);\n",
       "  /* unfitted */\n",
       "  background-color: var(--sklearn-color-unfitted-level-0);\n",
       "}\n",
       "\n",
       "#sk-container-id-8 div.sk-toggleable__content.fitted pre {\n",
       "  /* unfitted */\n",
       "  background-color: var(--sklearn-color-fitted-level-0);\n",
       "}\n",
       "\n",
       "#sk-container-id-8 input.sk-toggleable__control:checked~div.sk-toggleable__content {\n",
       "  /* Expand drop-down */\n",
       "  max-height: 200px;\n",
       "  max-width: 100%;\n",
       "  overflow: auto;\n",
       "}\n",
       "\n",
       "#sk-container-id-8 input.sk-toggleable__control:checked~label.sk-toggleable__label-arrow:before {\n",
       "  content: \"▾\";\n",
       "}\n",
       "\n",
       "/* Pipeline/ColumnTransformer-specific style */\n",
       "\n",
       "#sk-container-id-8 div.sk-label input.sk-toggleable__control:checked~label.sk-toggleable__label {\n",
       "  color: var(--sklearn-color-text);\n",
       "  background-color: var(--sklearn-color-unfitted-level-2);\n",
       "}\n",
       "\n",
       "#sk-container-id-8 div.sk-label.fitted input.sk-toggleable__control:checked~label.sk-toggleable__label {\n",
       "  background-color: var(--sklearn-color-fitted-level-2);\n",
       "}\n",
       "\n",
       "/* Estimator-specific style */\n",
       "\n",
       "/* Colorize estimator box */\n",
       "#sk-container-id-8 div.sk-estimator input.sk-toggleable__control:checked~label.sk-toggleable__label {\n",
       "  /* unfitted */\n",
       "  background-color: var(--sklearn-color-unfitted-level-2);\n",
       "}\n",
       "\n",
       "#sk-container-id-8 div.sk-estimator.fitted input.sk-toggleable__control:checked~label.sk-toggleable__label {\n",
       "  /* fitted */\n",
       "  background-color: var(--sklearn-color-fitted-level-2);\n",
       "}\n",
       "\n",
       "#sk-container-id-8 div.sk-label label.sk-toggleable__label,\n",
       "#sk-container-id-8 div.sk-label label {\n",
       "  /* The background is the default theme color */\n",
       "  color: var(--sklearn-color-text-on-default-background);\n",
       "}\n",
       "\n",
       "/* On hover, darken the color of the background */\n",
       "#sk-container-id-8 div.sk-label:hover label.sk-toggleable__label {\n",
       "  color: var(--sklearn-color-text);\n",
       "  background-color: var(--sklearn-color-unfitted-level-2);\n",
       "}\n",
       "\n",
       "/* Label box, darken color on hover, fitted */\n",
       "#sk-container-id-8 div.sk-label.fitted:hover label.sk-toggleable__label.fitted {\n",
       "  color: var(--sklearn-color-text);\n",
       "  background-color: var(--sklearn-color-fitted-level-2);\n",
       "}\n",
       "\n",
       "/* Estimator label */\n",
       "\n",
       "#sk-container-id-8 div.sk-label label {\n",
       "  font-family: monospace;\n",
       "  font-weight: bold;\n",
       "  display: inline-block;\n",
       "  line-height: 1.2em;\n",
       "}\n",
       "\n",
       "#sk-container-id-8 div.sk-label-container {\n",
       "  text-align: center;\n",
       "}\n",
       "\n",
       "/* Estimator-specific */\n",
       "#sk-container-id-8 div.sk-estimator {\n",
       "  font-family: monospace;\n",
       "  border: 1px dotted var(--sklearn-color-border-box);\n",
       "  border-radius: 0.25em;\n",
       "  box-sizing: border-box;\n",
       "  margin-bottom: 0.5em;\n",
       "  /* unfitted */\n",
       "  background-color: var(--sklearn-color-unfitted-level-0);\n",
       "}\n",
       "\n",
       "#sk-container-id-8 div.sk-estimator.fitted {\n",
       "  /* fitted */\n",
       "  background-color: var(--sklearn-color-fitted-level-0);\n",
       "}\n",
       "\n",
       "/* on hover */\n",
       "#sk-container-id-8 div.sk-estimator:hover {\n",
       "  /* unfitted */\n",
       "  background-color: var(--sklearn-color-unfitted-level-2);\n",
       "}\n",
       "\n",
       "#sk-container-id-8 div.sk-estimator.fitted:hover {\n",
       "  /* fitted */\n",
       "  background-color: var(--sklearn-color-fitted-level-2);\n",
       "}\n",
       "\n",
       "/* Specification for estimator info (e.g. \"i\" and \"?\") */\n",
       "\n",
       "/* Common style for \"i\" and \"?\" */\n",
       "\n",
       ".sk-estimator-doc-link,\n",
       "a:link.sk-estimator-doc-link,\n",
       "a:visited.sk-estimator-doc-link {\n",
       "  float: right;\n",
       "  font-size: smaller;\n",
       "  line-height: 1em;\n",
       "  font-family: monospace;\n",
       "  background-color: var(--sklearn-color-background);\n",
       "  border-radius: 1em;\n",
       "  height: 1em;\n",
       "  width: 1em;\n",
       "  text-decoration: none !important;\n",
       "  margin-left: 1ex;\n",
       "  /* unfitted */\n",
       "  border: var(--sklearn-color-unfitted-level-1) 1pt solid;\n",
       "  color: var(--sklearn-color-unfitted-level-1);\n",
       "}\n",
       "\n",
       ".sk-estimator-doc-link.fitted,\n",
       "a:link.sk-estimator-doc-link.fitted,\n",
       "a:visited.sk-estimator-doc-link.fitted {\n",
       "  /* fitted */\n",
       "  border: var(--sklearn-color-fitted-level-1) 1pt solid;\n",
       "  color: var(--sklearn-color-fitted-level-1);\n",
       "}\n",
       "\n",
       "/* On hover */\n",
       "div.sk-estimator:hover .sk-estimator-doc-link:hover,\n",
       ".sk-estimator-doc-link:hover,\n",
       "div.sk-label-container:hover .sk-estimator-doc-link:hover,\n",
       ".sk-estimator-doc-link:hover {\n",
       "  /* unfitted */\n",
       "  background-color: var(--sklearn-color-unfitted-level-3);\n",
       "  color: var(--sklearn-color-background);\n",
       "  text-decoration: none;\n",
       "}\n",
       "\n",
       "div.sk-estimator.fitted:hover .sk-estimator-doc-link.fitted:hover,\n",
       ".sk-estimator-doc-link.fitted:hover,\n",
       "div.sk-label-container:hover .sk-estimator-doc-link.fitted:hover,\n",
       ".sk-estimator-doc-link.fitted:hover {\n",
       "  /* fitted */\n",
       "  background-color: var(--sklearn-color-fitted-level-3);\n",
       "  color: var(--sklearn-color-background);\n",
       "  text-decoration: none;\n",
       "}\n",
       "\n",
       "/* Span, style for the box shown on hovering the info icon */\n",
       ".sk-estimator-doc-link span {\n",
       "  display: none;\n",
       "  z-index: 9999;\n",
       "  position: relative;\n",
       "  font-weight: normal;\n",
       "  right: .2ex;\n",
       "  padding: .5ex;\n",
       "  margin: .5ex;\n",
       "  width: min-content;\n",
       "  min-width: 20ex;\n",
       "  max-width: 50ex;\n",
       "  color: var(--sklearn-color-text);\n",
       "  box-shadow: 2pt 2pt 4pt #999;\n",
       "  /* unfitted */\n",
       "  background: var(--sklearn-color-unfitted-level-0);\n",
       "  border: .5pt solid var(--sklearn-color-unfitted-level-3);\n",
       "}\n",
       "\n",
       ".sk-estimator-doc-link.fitted span {\n",
       "  /* fitted */\n",
       "  background: var(--sklearn-color-fitted-level-0);\n",
       "  border: var(--sklearn-color-fitted-level-3);\n",
       "}\n",
       "\n",
       ".sk-estimator-doc-link:hover span {\n",
       "  display: block;\n",
       "}\n",
       "\n",
       "/* \"?\"-specific style due to the `<a>` HTML tag */\n",
       "\n",
       "#sk-container-id-8 a.estimator_doc_link {\n",
       "  float: right;\n",
       "  font-size: 1rem;\n",
       "  line-height: 1em;\n",
       "  font-family: monospace;\n",
       "  background-color: var(--sklearn-color-background);\n",
       "  border-radius: 1rem;\n",
       "  height: 1rem;\n",
       "  width: 1rem;\n",
       "  text-decoration: none;\n",
       "  /* unfitted */\n",
       "  color: var(--sklearn-color-unfitted-level-1);\n",
       "  border: var(--sklearn-color-unfitted-level-1) 1pt solid;\n",
       "}\n",
       "\n",
       "#sk-container-id-8 a.estimator_doc_link.fitted {\n",
       "  /* fitted */\n",
       "  border: var(--sklearn-color-fitted-level-1) 1pt solid;\n",
       "  color: var(--sklearn-color-fitted-level-1);\n",
       "}\n",
       "\n",
       "/* On hover */\n",
       "#sk-container-id-8 a.estimator_doc_link:hover {\n",
       "  /* unfitted */\n",
       "  background-color: var(--sklearn-color-unfitted-level-3);\n",
       "  color: var(--sklearn-color-background);\n",
       "  text-decoration: none;\n",
       "}\n",
       "\n",
       "#sk-container-id-8 a.estimator_doc_link.fitted:hover {\n",
       "  /* fitted */\n",
       "  background-color: var(--sklearn-color-fitted-level-3);\n",
       "}\n",
       "</style><div id=\"sk-container-id-8\" class=\"sk-top-container\"><div class=\"sk-text-repr-fallback\"><pre>KNeighborsClassifier(algorithm=&#x27;auto&#x27;, leaf_size=30, metric=&#x27;minkowski&#x27;,\n",
       "                     metric_params=None, n_jobs=None, n_neighbors=5, p=2,\n",
       "                     weights=&#x27;uniform&#x27;)</pre><b>In a Jupyter environment, please rerun this cell to show the HTML representation or trust the notebook. <br />On GitHub, the HTML representation is unable to render, please try loading this page with nbviewer.org.</b></div><div class=\"sk-container\" hidden><div class=\"sk-item\"><div class=\"sk-estimator fitted sk-toggleable\"><input class=\"sk-toggleable__control sk-hidden--visually\" id=\"sk-estimator-id-8\" type=\"checkbox\" checked><label for=\"sk-estimator-id-8\" class=\"sk-toggleable__label fitted sk-toggleable__label-arrow fitted\">&nbsp;&nbsp;KNeighborsClassifier<a class=\"sk-estimator-doc-link fitted\" rel=\"noreferrer\" target=\"_blank\" href=\"https://scikit-learn.org/1.4/modules/generated/sklearn.neighbors.KNeighborsClassifier.html\">?<span>Documentation for KNeighborsClassifier</span></a><span class=\"sk-estimator-doc-link fitted\">i<span>Fitted</span></span></label><div class=\"sk-toggleable__content fitted\"><pre>KNeighborsClassifier(algorithm=&#x27;auto&#x27;, leaf_size=30, metric=&#x27;minkowski&#x27;,\n",
       "                     metric_params=None, n_jobs=None, n_neighbors=5, p=2,\n",
       "                     weights=&#x27;uniform&#x27;)</pre></div> </div></div></div></div>"
      ],
      "text/plain": [
       "KNeighborsClassifier(algorithm='auto', leaf_size=30, metric='minkowski',\n",
       "                     metric_params=None, n_jobs=None, n_neighbors=5, p=2,\n",
       "                     weights='uniform')"
      ]
     },
     "execution_count": 298,
     "metadata": {},
     "output_type": "execute_result"
    }
   ],
   "source": [
    "from sklearn.neighbors import KNeighborsClassifier\n",
    "knn = KNeighborsClassifier(n_neighbors=5)\n",
    "knn.fit(features, target)"
   ]
  },
  {
   "cell_type": "code",
   "execution_count": 299,
   "id": "d9986cae",
   "metadata": {},
   "outputs": [],
   "source": [
    "preds = knn.predict(features_incomplete)"
   ]
  },
  {
   "cell_type": "code",
   "execution_count": 300,
   "id": "55827030",
   "metadata": {},
   "outputs": [],
   "source": [
    "df.loc[df['fraude'].isna(), 'fraude'] = preds"
   ]
  },
  {
   "cell_type": "code",
   "execution_count": 301,
   "id": "5e675853",
   "metadata": {},
   "outputs": [
    {
     "data": {
      "application/vnd.microsoft.datawrangler.viewer.v0+json": {
       "columns": [
        {
         "name": "index",
         "rawType": "object",
         "type": "string"
        },
        {
         "name": "0",
         "rawType": "int64",
         "type": "integer"
        }
       ],
       "ref": "8666c291-7d39-4295-a25a-5b9be5bd9289",
       "rows": [
        [
         "age",
         "0"
        ],
        [
         "salaire",
         "0"
        ],
        [
         "score_credit",
         "0"
        ],
        [
         "montant_transaction",
         "0"
        ],
        [
         "anciennete_compte",
         "0"
        ],
        [
         "type_carte",
         "0"
        ],
        [
         "region",
         "0"
        ],
        [
         "genre",
         "0"
        ],
        [
         "fraude",
         "0"
        ]
       ],
       "shape": {
        "columns": 1,
        "rows": 9
       }
      },
      "text/plain": [
       "age                    0\n",
       "salaire                0\n",
       "score_credit           0\n",
       "montant_transaction    0\n",
       "anciennete_compte      0\n",
       "type_carte             0\n",
       "region                 0\n",
       "genre                  0\n",
       "fraude                 0\n",
       "dtype: int64"
      ]
     },
     "execution_count": 301,
     "metadata": {},
     "output_type": "execute_result"
    }
   ],
   "source": [
    "df.isna().sum()"
   ]
  },
  {
   "cell_type": "markdown",
   "id": "1a6e8617",
   "metadata": {},
   "source": [
    "### *rééquilibrons les données avec SMOTE*"
   ]
  },
  {
   "cell_type": "code",
   "execution_count": 302,
   "id": "49fa3817",
   "metadata": {},
   "outputs": [],
   "source": [
    "from imblearn.over_sampling import SMOTE\n",
    "smote = SMOTE(random_state=42)\n",
    "X_res, y_res = smote.fit_resample(df.drop('fraude', axis=1), df['fraude'].astype(int))"
   ]
  },
  {
   "cell_type": "code",
   "execution_count": 303,
   "id": "64274e90",
   "metadata": {},
   "outputs": [
    {
     "name": "stdout",
     "output_type": "stream",
     "text": [
      "fraude\n",
      "0    965\n",
      "1    965\n",
      "Name: count, dtype: int64\n"
     ]
    }
   ],
   "source": [
    "df_res = pd.DataFrame(X_res, columns=df.drop('fraude', axis=1).columns)\n",
    "df_res['fraude'] = y_res\n",
    "print(df_res.fraude.value_counts())"
   ]
  },
  {
   "cell_type": "code",
   "execution_count": 304,
   "id": "0038c41d",
   "metadata": {},
   "outputs": [
    {
     "data": {
      "application/vnd.microsoft.datawrangler.viewer.v0+json": {
       "columns": [
        {
         "name": "index",
         "rawType": "int64",
         "type": "integer"
        },
        {
         "name": "age",
         "rawType": "float64",
         "type": "float"
        },
        {
         "name": "salaire",
         "rawType": "float64",
         "type": "float"
        },
        {
         "name": "score_credit",
         "rawType": "float64",
         "type": "float"
        },
        {
         "name": "montant_transaction",
         "rawType": "float64",
         "type": "float"
        },
        {
         "name": "anciennete_compte",
         "rawType": "float64",
         "type": "float"
        },
        {
         "name": "type_carte",
         "rawType": "int32",
         "type": "integer"
        },
        {
         "name": "region",
         "rawType": "float64",
         "type": "float"
        },
        {
         "name": "genre",
         "rawType": "int32",
         "type": "integer"
        },
        {
         "name": "fraude",
         "rawType": "int32",
         "type": "integer"
        }
       ],
       "ref": "f2d15e93-3a76-4209-a6fb-cfffc004caad",
       "rows": [
        [
         "0",
         "49.54889404138071",
         "183659.04578435957",
         "48.2285786546242",
         "9649455.81898502",
         "14.0",
         "0",
         "0.39504950495049507",
         "0",
         "0"
        ],
        [
         "1",
         "44.95266535510408",
         "329732.599158123",
         "67.57309700360759",
         "25000.0",
         "9.655655655655655",
         "0",
         "0.39504950495049507",
         "0",
         "0"
        ],
        [
         "2",
         "41.65991038281746",
         "75000.0",
         "77.55948667850828",
         "2724004.395371683",
         "9.0",
         "1",
         "0.39504950495049507",
         "1",
         "0"
        ],
        [
         "3",
         "42.377280190465775",
         "75000.0",
         "54.28221964572267",
         "4755632.036666362",
         "9.0",
         "0",
         "0.31683168316831684",
         "0",
         "0"
        ],
        [
         "4",
         "48.125023071955766",
         "359999.48294154095",
         "71.14854574228272",
         "25000.0",
         "8.0",
         "0",
         "0.31683168316831684",
         "0",
         "0"
        ],
        [
         "5",
         "34.90494088848834",
         "397644.8518169162",
         "49.93038302853597",
         "7176256.481473299",
         "11.0",
         "1",
         "0.2881188118811881",
         "1",
         "0"
        ],
        [
         "6",
         "39.231994706129136",
         "428573.7582634933",
         "53.6356246517432",
         "11531961.143126665",
         "10.0",
         "1",
         "0.31683168316831684",
         "0",
         "1"
        ],
        [
         "7",
         "47.84919772456283",
         "245523.6661900776",
         "19.711718752037587",
         "4595029.316068816",
         "7.0",
         "1",
         "0.39504950495049507",
         "1",
         "0"
        ],
        [
         "8",
         "36.53889986933177",
         "380458.3828271364",
         "23.3510043800359",
         "25000.0",
         "6.0",
         "0",
         "0.39504950495049507",
         "1",
         "0"
        ],
        [
         "9",
         "45.67679583506853",
         "215836.6303528504",
         "99.0",
         "1514746.0994707665",
         "9.0",
         "0",
         "0.39504950495049507",
         "1",
         "0"
        ],
        [
         "10",
         "44.18659026182871",
         "230620.0550529932",
         "41.75159860300186",
         "5899384.622489492",
         "12.0",
         "1",
         "0.2881188118811881",
         "1",
         "0"
        ],
        [
         "11",
         "26.78205858117208",
         "292086.73379988514",
         "83.71403508069943",
         "8850063.731864616",
         "1.0",
         "1",
         "0.39504950495049507",
         "1",
         "0"
        ],
        [
         "12",
         "29.07041329864866",
         "458193.09427309775",
         "45.8567662181192",
         "25000.0",
         "11.0",
         "0",
         "0.31683168316831684",
         "0",
         "0"
        ],
        [
         "13",
         "31.55110744650331",
         "524056.4638508301",
         "42.19181627156733",
         "3990365.236372667",
         "3.0",
         "1",
         "0.2881188118811881",
         "0",
         "0"
        ],
        [
         "14",
         "37.587789633845226",
         "134332.22582175056",
         "75.4206019886228",
         "1866000.4081062705",
         "9.0",
         "1",
         "0.31683168316831684",
         "1",
         "0"
        ],
        [
         "15",
         "52.342454190157454",
         "326351.0568737669",
         "49.56780992159034",
         "1497497.528357857",
         "6.0",
         "1",
         "0.31683168316831684",
         "0",
         "0"
        ],
        [
         "16",
         "38.62803519689409",
         "209866.9236219281",
         "74.45615844266817",
         "7608717.555960263",
         "16.0",
         "1",
         "0.39504950495049507",
         "0",
         "0"
        ],
        [
         "17",
         "42.65897866579188",
         "269787.01498845394",
         "68.98592996750631",
         "1322323.2096801624",
         "14.0",
         "1",
         "0.31683168316831684",
         "1",
         "0"
        ],
        [
         "18",
         "56.43611911523808",
         "389863.4638895714",
         "38.05442128307504",
         "6391169.172671343",
         "23.0",
         "1",
         "0.39504950495049507",
         "0",
         "0"
        ],
        [
         "19",
         "38.84106595883125",
         "472423.1046015553",
         "56.72150825010693",
         "3367176.7012263853",
         "10.0",
         "1",
         "0.2881188118811881",
         "0",
         "0"
        ],
        [
         "20",
         "40.15996388965135",
         "174619.46165725414",
         "41.46800727427926",
         "10667847.362750756",
         "11.0",
         "1",
         "0.39504950495049507",
         "0",
         "0"
        ],
        [
         "21",
         "43.378598379599",
         "320973.2037777316",
         "36.04916115049771",
         "8776658.617228465",
         "7.0",
         "0",
         "0.2881188118811881",
         "1",
         "0"
        ],
        [
         "22",
         "38.82815463417471",
         "343822.3263178198",
         "41.55008209135132",
         "4941408.8315986935",
         "9.0",
         "1",
         "0.31683168316831684",
         "0",
         "0"
        ],
        [
         "23",
         "60.0",
         "75000.0",
         "41.774791390330336",
         "1345471.7995780432",
         "5.0",
         "1",
         "0.39504950495049507",
         "0",
         "0"
        ],
        [
         "24",
         "43.3880629921763",
         "297279.86347378773",
         "60.4243158237745",
         "8379180.349166197",
         "19.0",
         "1",
         "0.2881188118811881",
         "1",
         "0"
        ],
        [
         "25",
         "43.48169222631682",
         "214597.28646282936",
         "48.99838802287066",
         "3930718.638424764",
         "10.0",
         "0",
         "0.31683168316831684",
         "0",
         "0"
        ],
        [
         "26",
         "44.676983619893925",
         "597370.5675253391",
         "39.47035290410154",
         "8332033.052162276",
         "2.0",
         "1",
         "0.31683168316831684",
         "1",
         "0"
        ],
        [
         "27",
         "29.637931034663037",
         "342568.204175712",
         "17.37864749610042",
         "9515587.99663712",
         "4.0",
         "1",
         "0.31683168316831684",
         "0",
         "0"
        ],
        [
         "28",
         "39.76518638307444",
         "175755.93594774016",
         "66.52906221717525",
         "7020286.4382610805",
         "10.0",
         "1",
         "0.2881188118811881",
         "1",
         "0"
        ],
        [
         "29",
         "48.46368571071034",
         "306894.1404073401",
         "51.65729683737992",
         "5088725.017080135",
         "10.0",
         "1",
         "0.39504950495049507",
         "0",
         "0"
        ],
        [
         "30",
         "50.19747079743589",
         "375285.0350551008",
         "78.68002007460922",
         "7528322.090297081",
         "13.0",
         "0",
         "0.31683168316831684",
         "1",
         "0"
        ],
        [
         "31",
         "37.703123961101255",
         "203726.7894083488",
         "43.4335811461888",
         "2416135.692842297",
         "10.0",
         "1",
         "0.39504950495049507",
         "0",
         "0"
        ],
        [
         "32",
         "36.29714971428496",
         "375163.50139631575",
         "60.20504444810037",
         "10766673.680808358",
         "2.0",
         "1",
         "0.39504950495049507",
         "1",
         "0"
        ],
        [
         "33",
         "37.6009802040271",
         "190741.4530137435",
         "57.64067411432021",
         "10136914.062312797",
         "3.0",
         "0",
         "0.2881188118811881",
         "1",
         "0"
        ],
        [
         "34",
         "39.24877145029562",
         "623452.4447593947",
         "49.56780992159034",
         "4077267.8313087686",
         "13.0",
         "0",
         "0.39504950495049507",
         "0",
         "0"
        ],
        [
         "35",
         "37.58184486333979",
         "440198.2061004936",
         "49.56780992159034",
         "7143649.2843905175",
         "6.0",
         "1",
         "0.2881188118811881",
         "0",
         "0"
        ],
        [
         "36",
         "36.51278824727654",
         "349655.835422582",
         "51.99976327531104",
         "25000.0",
         "13.0",
         "1",
         "0.39504950495049507",
         "0",
         "0"
        ],
        [
         "37",
         "28.14082570403385",
         "472852.2958442889",
         "31.93413778441781",
         "1751478.41339497",
         "9.655655655655655",
         "0",
         "0.39504950495049507",
         "0",
         "0"
        ],
        [
         "38",
         "41.85384753624314",
         "177091.9754251814",
         "25.73073279694154",
         "8888770.129244005",
         "2.0",
         "0",
         "0.2881188118811881",
         "1",
         "0"
        ],
        [
         "39",
         "50.27283756143118",
         "346357.0252536052",
         "85.29651767583472",
         "5170119.946517796",
         "9.0",
         "0",
         "0.31683168316831684",
         "0",
         "0"
        ],
        [
         "40",
         "45.034885067431134",
         "292273.6209369108",
         "38.49627100712967",
         "7669570.855356484",
         "10.0",
         "0",
         "0.2881188118811881",
         "0",
         "0"
        ],
        [
         "41",
         "49.2579563818482",
         "75000.0",
         "50.87420793983968",
         "8220099.747334917",
         "4.0",
         "1",
         "0.39504950495049507",
         "0",
         "0"
        ],
        [
         "42",
         "45.004676749400005",
         "152857.99094799458",
         "65.82280008711767",
         "3895825.153568958",
         "8.0",
         "0",
         "0.39504950495049507",
         "0",
         "0"
        ],
        [
         "43",
         "55.16118889687176",
         "446888.9616430444",
         "12.159328550286602",
         "3109303.7790606827",
         "8.0",
         "0",
         "0.39504950495049507",
         "1",
         "0"
        ],
        [
         "44",
         "29.21832615752477",
         "340327.6179601488",
         "52.70982744633524",
         "8184527.471527533",
         "9.0",
         "1",
         "0.31683168316831684",
         "0",
         "0"
        ],
        [
         "45",
         "56.1084343571896",
         "412933.6622240677",
         "41.81359570826629",
         "7115445.97681453",
         "15.0",
         "1",
         "0.39504950495049507",
         "1",
         "0"
        ],
        [
         "46",
         "35.086851750022525",
         "194202.4914126228",
         "35.26197295536402",
         "2817638.2258306453",
         "9.0",
         "1",
         "0.31683168316831684",
         "0",
         "0"
        ],
        [
         "47",
         "33.30095368254027",
         "393528.8698238788",
         "50.071652036655664",
         "1539552.4073340693",
         "6.0",
         "1",
         "0.2881188118811881",
         "1",
         "0"
        ],
        [
         "48",
         "41.26107646752755",
         "179966.58969001443",
         "39.36136983415816",
         "4022783.32045214",
         "8.0",
         "0",
         "0.31683168316831684",
         "0",
         "0"
        ],
        [
         "49",
         "44.08480552328251",
         "411018.8496157866",
         "83.5525088431227",
         "5368186.723116451",
         "1.0",
         "0",
         "0.31683168316831684",
         "1",
         "1"
        ]
       ],
       "shape": {
        "columns": 9,
        "rows": 1930
       }
      },
      "text/html": [
       "<div>\n",
       "<style scoped>\n",
       "    .dataframe tbody tr th:only-of-type {\n",
       "        vertical-align: middle;\n",
       "    }\n",
       "\n",
       "    .dataframe tbody tr th {\n",
       "        vertical-align: top;\n",
       "    }\n",
       "\n",
       "    .dataframe thead th {\n",
       "        text-align: right;\n",
       "    }\n",
       "</style>\n",
       "<table border=\"1\" class=\"dataframe\">\n",
       "  <thead>\n",
       "    <tr style=\"text-align: right;\">\n",
       "      <th></th>\n",
       "      <th>age</th>\n",
       "      <th>salaire</th>\n",
       "      <th>score_credit</th>\n",
       "      <th>montant_transaction</th>\n",
       "      <th>anciennete_compte</th>\n",
       "      <th>type_carte</th>\n",
       "      <th>region</th>\n",
       "      <th>genre</th>\n",
       "      <th>fraude</th>\n",
       "    </tr>\n",
       "  </thead>\n",
       "  <tbody>\n",
       "    <tr>\n",
       "      <th>0</th>\n",
       "      <td>49.548894</td>\n",
       "      <td>183659.045784</td>\n",
       "      <td>48.228579</td>\n",
       "      <td>9.649456e+06</td>\n",
       "      <td>14.000000</td>\n",
       "      <td>0</td>\n",
       "      <td>0.395050</td>\n",
       "      <td>0</td>\n",
       "      <td>0</td>\n",
       "    </tr>\n",
       "    <tr>\n",
       "      <th>1</th>\n",
       "      <td>44.952665</td>\n",
       "      <td>329732.599158</td>\n",
       "      <td>67.573097</td>\n",
       "      <td>2.500000e+04</td>\n",
       "      <td>9.655656</td>\n",
       "      <td>0</td>\n",
       "      <td>0.395050</td>\n",
       "      <td>0</td>\n",
       "      <td>0</td>\n",
       "    </tr>\n",
       "    <tr>\n",
       "      <th>2</th>\n",
       "      <td>41.659910</td>\n",
       "      <td>75000.000000</td>\n",
       "      <td>77.559487</td>\n",
       "      <td>2.724004e+06</td>\n",
       "      <td>9.000000</td>\n",
       "      <td>1</td>\n",
       "      <td>0.395050</td>\n",
       "      <td>1</td>\n",
       "      <td>0</td>\n",
       "    </tr>\n",
       "    <tr>\n",
       "      <th>3</th>\n",
       "      <td>42.377280</td>\n",
       "      <td>75000.000000</td>\n",
       "      <td>54.282220</td>\n",
       "      <td>4.755632e+06</td>\n",
       "      <td>9.000000</td>\n",
       "      <td>0</td>\n",
       "      <td>0.316832</td>\n",
       "      <td>0</td>\n",
       "      <td>0</td>\n",
       "    </tr>\n",
       "    <tr>\n",
       "      <th>4</th>\n",
       "      <td>48.125023</td>\n",
       "      <td>359999.482942</td>\n",
       "      <td>71.148546</td>\n",
       "      <td>2.500000e+04</td>\n",
       "      <td>8.000000</td>\n",
       "      <td>0</td>\n",
       "      <td>0.316832</td>\n",
       "      <td>0</td>\n",
       "      <td>0</td>\n",
       "    </tr>\n",
       "    <tr>\n",
       "      <th>...</th>\n",
       "      <td>...</td>\n",
       "      <td>...</td>\n",
       "      <td>...</td>\n",
       "      <td>...</td>\n",
       "      <td>...</td>\n",
       "      <td>...</td>\n",
       "      <td>...</td>\n",
       "      <td>...</td>\n",
       "      <td>...</td>\n",
       "    </tr>\n",
       "    <tr>\n",
       "      <th>1925</th>\n",
       "      <td>45.597241</td>\n",
       "      <td>298542.011574</td>\n",
       "      <td>85.246862</td>\n",
       "      <td>5.284009e+06</td>\n",
       "      <td>7.616324</td>\n",
       "      <td>0</td>\n",
       "      <td>0.368583</td>\n",
       "      <td>1</td>\n",
       "      <td>1</td>\n",
       "    </tr>\n",
       "    <tr>\n",
       "      <th>1926</th>\n",
       "      <td>43.876065</td>\n",
       "      <td>154884.988653</td>\n",
       "      <td>61.960407</td>\n",
       "      <td>4.682180e+06</td>\n",
       "      <td>13.085475</td>\n",
       "      <td>1</td>\n",
       "      <td>0.393378</td>\n",
       "      <td>1</td>\n",
       "      <td>1</td>\n",
       "    </tr>\n",
       "    <tr>\n",
       "      <th>1927</th>\n",
       "      <td>37.003946</td>\n",
       "      <td>356817.861161</td>\n",
       "      <td>64.005850</td>\n",
       "      <td>5.961519e+06</td>\n",
       "      <td>13.754219</td>\n",
       "      <td>1</td>\n",
       "      <td>0.316832</td>\n",
       "      <td>0</td>\n",
       "      <td>1</td>\n",
       "    </tr>\n",
       "    <tr>\n",
       "      <th>1928</th>\n",
       "      <td>49.699669</td>\n",
       "      <td>296987.130115</td>\n",
       "      <td>49.886796</td>\n",
       "      <td>5.745819e+06</td>\n",
       "      <td>13.929936</td>\n",
       "      <td>0</td>\n",
       "      <td>0.393679</td>\n",
       "      <td>1</td>\n",
       "      <td>1</td>\n",
       "    </tr>\n",
       "    <tr>\n",
       "      <th>1929</th>\n",
       "      <td>48.805776</td>\n",
       "      <td>428833.163391</td>\n",
       "      <td>47.203568</td>\n",
       "      <td>5.019270e+06</td>\n",
       "      <td>9.953178</td>\n",
       "      <td>0</td>\n",
       "      <td>0.295129</td>\n",
       "      <td>1</td>\n",
       "      <td>1</td>\n",
       "    </tr>\n",
       "  </tbody>\n",
       "</table>\n",
       "<p>1930 rows × 9 columns</p>\n",
       "</div>"
      ],
      "text/plain": [
       "            age        salaire  score_credit  montant_transaction  \\\n",
       "0     49.548894  183659.045784     48.228579         9.649456e+06   \n",
       "1     44.952665  329732.599158     67.573097         2.500000e+04   \n",
       "2     41.659910   75000.000000     77.559487         2.724004e+06   \n",
       "3     42.377280   75000.000000     54.282220         4.755632e+06   \n",
       "4     48.125023  359999.482942     71.148546         2.500000e+04   \n",
       "...         ...            ...           ...                  ...   \n",
       "1925  45.597241  298542.011574     85.246862         5.284009e+06   \n",
       "1926  43.876065  154884.988653     61.960407         4.682180e+06   \n",
       "1927  37.003946  356817.861161     64.005850         5.961519e+06   \n",
       "1928  49.699669  296987.130115     49.886796         5.745819e+06   \n",
       "1929  48.805776  428833.163391     47.203568         5.019270e+06   \n",
       "\n",
       "      anciennete_compte  type_carte    region  genre  fraude  \n",
       "0             14.000000           0  0.395050      0       0  \n",
       "1              9.655656           0  0.395050      0       0  \n",
       "2              9.000000           1  0.395050      1       0  \n",
       "3              9.000000           0  0.316832      0       0  \n",
       "4              8.000000           0  0.316832      0       0  \n",
       "...                 ...         ...       ...    ...     ...  \n",
       "1925           7.616324           0  0.368583      1       1  \n",
       "1926          13.085475           1  0.393378      1       1  \n",
       "1927          13.754219           1  0.316832      0       1  \n",
       "1928          13.929936           0  0.393679      1       1  \n",
       "1929           9.953178           0  0.295129      1       1  \n",
       "\n",
       "[1930 rows x 9 columns]"
      ]
     },
     "execution_count": 304,
     "metadata": {},
     "output_type": "execute_result"
    }
   ],
   "source": [
    "df = df_res\n",
    "df"
   ]
  },
  {
   "cell_type": "code",
   "execution_count": 305,
   "id": "76284435",
   "metadata": {},
   "outputs": [],
   "source": [
    "data = df.drop([\"genre\",\"type_carte\",\"region\"],axis=1)"
   ]
  },
  {
   "cell_type": "code",
   "execution_count": 306,
   "id": "19e7fc0b",
   "metadata": {},
   "outputs": [
    {
     "data": {
      "text/plain": [
       "<Axes: >"
      ]
     },
     "execution_count": 306,
     "metadata": {},
     "output_type": "execute_result"
    },
    {
     "data": {
      "image/png": "[encoded data removed]",
      "text/plain": [
       "<Figure size 3000x2800 with 2 Axes>"
      ]
     },
     "metadata": {},
     "output_type": "display_data"
    }
   ],
   "source": [
    "plt.figure(figsize=(30, 28)) \n",
    "sns.heatmap(data.corr(),annot=True) "
   ]
  },
  {
   "cell_type": "code",
   "execution_count": 307,
   "id": "d163e898",
   "metadata": {},
   "outputs": [
    {
     "data": {
      "text/plain": [
       "<Axes: xlabel='montant_transaction'>"
      ]
     },
     "execution_count": 307,
     "metadata": {},
     "output_type": "execute_result"
    },
    {
     "data": {
      "image/png": "[encoded data removed]",
      "text/plain": [
       "<Figure size 2000x1800 with 9 Axes>"
      ]
     },
     "metadata": {},
     "output_type": "display_data"
    }
   ],
   "source": [
    "fig, axes = plt.subplots(3, 3, figsize=(20, 18))\n",
    "sns.boxplot(x=\"age\",data=df,ax=axes[0, 0], palette=\"pastel\")\n",
    "sns.boxplot(x=\"salaire\",data=df,ax=axes[0, 1], palette=\"muted\")\n",
    "sns.boxplot(x=\"score_credit\",data=df, ax=axes[0, 2],palette=\"Set2\")\n",
    "sns.boxplot(x=\"anciennete_compte\",data=df,ax=axes[1, 0],palette=\"Set1\")\n",
    "sns.boxplot(x=\"montant_transaction\",data=df,ax=axes[1, 1],palette=\"Accent\")\n"
   ]
  },
  {
   "cell_type": "code",
   "execution_count": 308,
   "id": "14d1c0a1",
   "metadata": {},
   "outputs": [
    {
     "data": {
      "application/vnd.microsoft.datawrangler.viewer.v0+json": {
       "columns": [
        {
         "name": "index",
         "rawType": "int64",
         "type": "integer"
        },
        {
         "name": "age",
         "rawType": "float64",
         "type": "float"
        },
        {
         "name": "salaire",
         "rawType": "float64",
         "type": "float"
        },
        {
         "name": "score_credit",
         "rawType": "float64",
         "type": "float"
        },
        {
         "name": "montant_transaction",
         "rawType": "float64",
         "type": "float"
        },
        {
         "name": "anciennete_compte",
         "rawType": "float64",
         "type": "float"
        },
        {
         "name": "type_carte",
         "rawType": "float64",
         "type": "float"
        },
        {
         "name": "region",
         "rawType": "float64",
         "type": "float"
        },
        {
         "name": "genre",
         "rawType": "float64",
         "type": "float"
        },
        {
         "name": "fraude",
         "rawType": "float64",
         "type": "float"
        }
       ],
       "ref": "0eb25534-aadc-4ed3-914b-7fa82934fa4f",
       "rows": [
        [
         "0",
         "49.54889404138071",
         "183659.04578435957",
         "48.2285786546242",
         "9649455.81898502",
         "14.0",
         "0.0",
         "0.39504950495049507",
         "0.0",
         "0.0"
        ],
        [
         "1",
         "44.95266535510408",
         "329732.599158123",
         "67.57309700360759",
         "25000.0",
         "9.655655655655655",
         "0.0",
         "0.39504950495049507",
         "0.0",
         "0.0"
        ],
        [
         "2",
         "41.65991038281746",
         "75000.0",
         "77.55948667850828",
         "2724004.395371683",
         "9.0",
         "1.0",
         "0.39504950495049507",
         "1.0",
         "0.0"
        ],
        [
         "3",
         "42.377280190465775",
         "75000.0",
         "54.28221964572267",
         "4755632.036666362",
         "9.0",
         "0.0",
         "0.31683168316831684",
         "0.0",
         "0.0"
        ],
        [
         "4",
         "48.125023071955766",
         "359999.48294154095",
         "71.14854574228272",
         "25000.0",
         "8.0",
         "0.0",
         "0.31683168316831684",
         "0.0",
         "0.0"
        ],
        [
         "5",
         "34.90494088848834",
         "397644.8518169162",
         "49.93038302853597",
         "7176256.481473299",
         "11.0",
         "1.0",
         "0.2881188118811881",
         "1.0",
         "0.0"
        ],
        [
         "6",
         "39.231994706129136",
         "428573.7582634933",
         "53.6356246517432",
         "11531961.143126665",
         "10.0",
         "1.0",
         "0.31683168316831684",
         "0.0",
         "1.0"
        ],
        [
         "7",
         "47.84919772456283",
         "245523.6661900776",
         "19.711718752037587",
         "4595029.316068816",
         "7.0",
         "1.0",
         "0.39504950495049507",
         "1.0",
         "0.0"
        ],
        [
         "8",
         "36.53889986933177",
         "380458.3828271364",
         "23.3510043800359",
         "25000.0",
         "6.0",
         "0.0",
         "0.39504950495049507",
         "1.0",
         "0.0"
        ],
        [
         "9",
         "45.67679583506853",
         "215836.6303528504",
         "92.3758701204564",
         "1514746.0994707665",
         "9.0",
         "0.0",
         "0.39504950495049507",
         "1.0",
         "0.0"
        ],
        [
         "10",
         "44.18659026182871",
         "230620.0550529932",
         "41.75159860300186",
         "5899384.622489492",
         "12.0",
         "1.0",
         "0.2881188118811881",
         "1.0",
         "0.0"
        ],
        [
         "11",
         "26.78205858117208",
         "292086.73379988514",
         "83.71403508069943",
         "8850063.731864616",
         "1.0",
         "1.0",
         "0.39504950495049507",
         "1.0",
         "0.0"
        ],
        [
         "12",
         "29.07041329864866",
         "458193.09427309775",
         "45.8567662181192",
         "25000.0",
         "11.0",
         "0.0",
         "0.31683168316831684",
         "0.0",
         "0.0"
        ],
        [
         "13",
         "31.55110744650331",
         "524056.4638508301",
         "42.19181627156733",
         "3990365.236372667",
         "3.0",
         "1.0",
         "0.2881188118811881",
         "0.0",
         "0.0"
        ],
        [
         "14",
         "37.587789633845226",
         "134332.22582175056",
         "75.4206019886228",
         "1866000.4081062705",
         "9.0",
         "1.0",
         "0.31683168316831684",
         "1.0",
         "0.0"
        ],
        [
         "15",
         "52.342454190157454",
         "326351.0568737669",
         "49.56780992159034",
         "1497497.528357857",
         "6.0",
         "1.0",
         "0.31683168316831684",
         "0.0",
         "0.0"
        ],
        [
         "16",
         "38.62803519689409",
         "209866.9236219281",
         "74.45615844266817",
         "7608717.555960263",
         "16.0",
         "1.0",
         "0.39504950495049507",
         "0.0",
         "0.0"
        ],
        [
         "17",
         "42.65897866579188",
         "269787.01498845394",
         "68.98592996750631",
         "1322323.2096801624",
         "14.0",
         "1.0",
         "0.31683168316831684",
         "1.0",
         "0.0"
        ],
        [
         "18",
         "56.43611911523808",
         "389863.4638895714",
         "38.05442128307504",
         "6391169.172671343",
         "21.70369435271163",
         "1.0",
         "0.39504950495049507",
         "0.0",
         "0.0"
        ],
        [
         "19",
         "38.84106595883125",
         "472423.1046015553",
         "56.72150825010693",
         "3367176.7012263853",
         "10.0",
         "1.0",
         "0.2881188118811881",
         "0.0",
         "0.0"
        ],
        [
         "20",
         "40.15996388965135",
         "174619.46165725414",
         "41.46800727427926",
         "10667847.362750756",
         "11.0",
         "1.0",
         "0.39504950495049507",
         "0.0",
         "0.0"
        ],
        [
         "21",
         "43.378598379599",
         "320973.2037777316",
         "36.04916115049771",
         "8776658.617228465",
         "7.0",
         "0.0",
         "0.2881188118811881",
         "1.0",
         "0.0"
        ],
        [
         "22",
         "38.82815463417471",
         "343822.3263178198",
         "41.55008209135132",
         "4941408.8315986935",
         "9.0",
         "1.0",
         "0.31683168316831684",
         "0.0",
         "0.0"
        ],
        [
         "23",
         "59.57438128049485",
         "75000.0",
         "41.774791390330336",
         "1345471.7995780432",
         "5.0",
         "1.0",
         "0.39504950495049507",
         "0.0",
         "0.0"
        ],
        [
         "24",
         "43.3880629921763",
         "297279.86347378773",
         "60.4243158237745",
         "8379180.349166197",
         "19.0",
         "1.0",
         "0.2881188118811881",
         "1.0",
         "0.0"
        ],
        [
         "25",
         "43.48169222631682",
         "214597.28646282936",
         "48.99838802287066",
         "3930718.638424764",
         "10.0",
         "0.0",
         "0.31683168316831684",
         "0.0",
         "0.0"
        ],
        [
         "26",
         "44.676983619893925",
         "597370.5675253391",
         "39.47035290410154",
         "8332033.052162276",
         "2.0",
         "1.0",
         "0.31683168316831684",
         "1.0",
         "0.0"
        ],
        [
         "27",
         "29.637931034663037",
         "342568.204175712",
         "17.37864749610042",
         "9515587.99663712",
         "4.0",
         "1.0",
         "0.31683168316831684",
         "0.0",
         "0.0"
        ],
        [
         "28",
         "39.76518638307444",
         "175755.93594774016",
         "66.52906221717525",
         "7020286.4382610805",
         "10.0",
         "1.0",
         "0.2881188118811881",
         "1.0",
         "0.0"
        ],
        [
         "29",
         "48.46368571071034",
         "306894.1404073401",
         "51.65729683737992",
         "5088725.017080135",
         "10.0",
         "1.0",
         "0.39504950495049507",
         "0.0",
         "0.0"
        ],
        [
         "30",
         "50.19747079743589",
         "375285.0350551008",
         "78.68002007460922",
         "7528322.090297081",
         "13.0",
         "0.0",
         "0.31683168316831684",
         "1.0",
         "0.0"
        ],
        [
         "31",
         "37.703123961101255",
         "203726.7894083488",
         "43.4335811461888",
         "2416135.692842297",
         "10.0",
         "1.0",
         "0.39504950495049507",
         "0.0",
         "0.0"
        ],
        [
         "32",
         "36.29714971428496",
         "375163.50139631575",
         "60.20504444810037",
         "10766673.680808358",
         "2.0",
         "1.0",
         "0.39504950495049507",
         "1.0",
         "0.0"
        ],
        [
         "33",
         "37.6009802040271",
         "190741.4530137435",
         "57.64067411432021",
         "10136914.062312797",
         "3.0",
         "0.0",
         "0.2881188118811881",
         "1.0",
         "0.0"
        ],
        [
         "34",
         "39.24877145029562",
         "623452.4447593947",
         "49.56780992159034",
         "4077267.8313087686",
         "13.0",
         "0.0",
         "0.39504950495049507",
         "0.0",
         "0.0"
        ],
        [
         "35",
         "37.58184486333979",
         "440198.2061004936",
         "49.56780992159034",
         "7143649.2843905175",
         "6.0",
         "1.0",
         "0.2881188118811881",
         "0.0",
         "0.0"
        ],
        [
         "36",
         "36.51278824727654",
         "349655.835422582",
         "51.99976327531104",
         "25000.0",
         "13.0",
         "1.0",
         "0.39504950495049507",
         "0.0",
         "0.0"
        ],
        [
         "37",
         "28.14082570403385",
         "472852.2958442889",
         "31.93413778441781",
         "1751478.41339497",
         "9.655655655655655",
         "0.0",
         "0.39504950495049507",
         "0.0",
         "0.0"
        ],
        [
         "38",
         "41.85384753624314",
         "177091.9754251814",
         "25.73073279694154",
         "8888770.129244005",
         "2.0",
         "0.0",
         "0.2881188118811881",
         "1.0",
         "0.0"
        ],
        [
         "39",
         "50.27283756143118",
         "346357.0252536052",
         "85.29651767583472",
         "5170119.946517796",
         "9.0",
         "0.0",
         "0.31683168316831684",
         "0.0",
         "0.0"
        ],
        [
         "40",
         "45.034885067431134",
         "292273.6209369108",
         "38.49627100712967",
         "7669570.855356484",
         "10.0",
         "0.0",
         "0.2881188118811881",
         "0.0",
         "0.0"
        ],
        [
         "41",
         "49.2579563818482",
         "75000.0",
         "50.87420793983968",
         "8220099.747334917",
         "4.0",
         "1.0",
         "0.39504950495049507",
         "0.0",
         "0.0"
        ],
        [
         "42",
         "45.004676749400005",
         "152857.99094799458",
         "65.82280008711767",
         "3895825.153568958",
         "8.0",
         "0.0",
         "0.39504950495049507",
         "0.0",
         "0.0"
        ],
        [
         "43",
         "55.16118889687176",
         "446888.9616430444",
         "12.159328550286602",
         "3109303.7790606827",
         "8.0",
         "0.0",
         "0.39504950495049507",
         "1.0",
         "0.0"
        ],
        [
         "44",
         "29.21832615752477",
         "340327.6179601488",
         "52.70982744633524",
         "8184527.471527533",
         "9.0",
         "1.0",
         "0.31683168316831684",
         "0.0",
         "0.0"
        ],
        [
         "45",
         "56.1084343571896",
         "412933.6622240677",
         "41.81359570826629",
         "7115445.97681453",
         "15.0",
         "1.0",
         "0.39504950495049507",
         "1.0",
         "0.0"
        ],
        [
         "46",
         "35.086851750022525",
         "194202.4914126228",
         "35.26197295536402",
         "2817638.2258306453",
         "9.0",
         "1.0",
         "0.31683168316831684",
         "0.0",
         "0.0"
        ],
        [
         "47",
         "33.30095368254027",
         "393528.8698238788",
         "50.071652036655664",
         "1539552.4073340693",
         "6.0",
         "1.0",
         "0.2881188118811881",
         "1.0",
         "0.0"
        ],
        [
         "48",
         "41.26107646752755",
         "179966.58969001443",
         "39.36136983415816",
         "4022783.32045214",
         "8.0",
         "0.0",
         "0.31683168316831684",
         "0.0",
         "0.0"
        ],
        [
         "49",
         "44.08480552328251",
         "411018.8496157866",
         "83.5525088431227",
         "5368186.723116451",
         "1.0",
         "0.0",
         "0.31683168316831684",
         "1.0",
         "1.0"
        ]
       ],
       "shape": {
        "columns": 9,
        "rows": 1930
       }
      },
      "text/html": [
       "<div>\n",
       "<style scoped>\n",
       "    .dataframe tbody tr th:only-of-type {\n",
       "        vertical-align: middle;\n",
       "    }\n",
       "\n",
       "    .dataframe tbody tr th {\n",
       "        vertical-align: top;\n",
       "    }\n",
       "\n",
       "    .dataframe thead th {\n",
       "        text-align: right;\n",
       "    }\n",
       "</style>\n",
       "<table border=\"1\" class=\"dataframe\">\n",
       "  <thead>\n",
       "    <tr style=\"text-align: right;\">\n",
       "      <th></th>\n",
       "      <th>age</th>\n",
       "      <th>salaire</th>\n",
       "      <th>score_credit</th>\n",
       "      <th>montant_transaction</th>\n",
       "      <th>anciennete_compte</th>\n",
       "      <th>type_carte</th>\n",
       "      <th>region</th>\n",
       "      <th>genre</th>\n",
       "      <th>fraude</th>\n",
       "    </tr>\n",
       "  </thead>\n",
       "  <tbody>\n",
       "    <tr>\n",
       "      <th>0</th>\n",
       "      <td>49.548894</td>\n",
       "      <td>183659.045784</td>\n",
       "      <td>48.228579</td>\n",
       "      <td>9.649456e+06</td>\n",
       "      <td>14.000000</td>\n",
       "      <td>0.0</td>\n",
       "      <td>0.395050</td>\n",
       "      <td>0.0</td>\n",
       "      <td>0.0</td>\n",
       "    </tr>\n",
       "    <tr>\n",
       "      <th>1</th>\n",
       "      <td>44.952665</td>\n",
       "      <td>329732.599158</td>\n",
       "      <td>67.573097</td>\n",
       "      <td>2.500000e+04</td>\n",
       "      <td>9.655656</td>\n",
       "      <td>0.0</td>\n",
       "      <td>0.395050</td>\n",
       "      <td>0.0</td>\n",
       "      <td>0.0</td>\n",
       "    </tr>\n",
       "    <tr>\n",
       "      <th>2</th>\n",
       "      <td>41.659910</td>\n",
       "      <td>75000.000000</td>\n",
       "      <td>77.559487</td>\n",
       "      <td>2.724004e+06</td>\n",
       "      <td>9.000000</td>\n",
       "      <td>1.0</td>\n",
       "      <td>0.395050</td>\n",
       "      <td>1.0</td>\n",
       "      <td>0.0</td>\n",
       "    </tr>\n",
       "    <tr>\n",
       "      <th>3</th>\n",
       "      <td>42.377280</td>\n",
       "      <td>75000.000000</td>\n",
       "      <td>54.282220</td>\n",
       "      <td>4.755632e+06</td>\n",
       "      <td>9.000000</td>\n",
       "      <td>0.0</td>\n",
       "      <td>0.316832</td>\n",
       "      <td>0.0</td>\n",
       "      <td>0.0</td>\n",
       "    </tr>\n",
       "    <tr>\n",
       "      <th>4</th>\n",
       "      <td>48.125023</td>\n",
       "      <td>359999.482942</td>\n",
       "      <td>71.148546</td>\n",
       "      <td>2.500000e+04</td>\n",
       "      <td>8.000000</td>\n",
       "      <td>0.0</td>\n",
       "      <td>0.316832</td>\n",
       "      <td>0.0</td>\n",
       "      <td>0.0</td>\n",
       "    </tr>\n",
       "    <tr>\n",
       "      <th>...</th>\n",
       "      <td>...</td>\n",
       "      <td>...</td>\n",
       "      <td>...</td>\n",
       "      <td>...</td>\n",
       "      <td>...</td>\n",
       "      <td>...</td>\n",
       "      <td>...</td>\n",
       "      <td>...</td>\n",
       "      <td>...</td>\n",
       "    </tr>\n",
       "    <tr>\n",
       "      <th>1925</th>\n",
       "      <td>45.597241</td>\n",
       "      <td>298542.011574</td>\n",
       "      <td>85.246862</td>\n",
       "      <td>5.284009e+06</td>\n",
       "      <td>7.616324</td>\n",
       "      <td>0.0</td>\n",
       "      <td>0.368583</td>\n",
       "      <td>1.0</td>\n",
       "      <td>1.0</td>\n",
       "    </tr>\n",
       "    <tr>\n",
       "      <th>1926</th>\n",
       "      <td>43.876065</td>\n",
       "      <td>154884.988653</td>\n",
       "      <td>61.960407</td>\n",
       "      <td>4.682180e+06</td>\n",
       "      <td>13.085475</td>\n",
       "      <td>1.0</td>\n",
       "      <td>0.393378</td>\n",
       "      <td>1.0</td>\n",
       "      <td>1.0</td>\n",
       "    </tr>\n",
       "    <tr>\n",
       "      <th>1927</th>\n",
       "      <td>37.003946</td>\n",
       "      <td>356817.861161</td>\n",
       "      <td>64.005850</td>\n",
       "      <td>5.961519e+06</td>\n",
       "      <td>13.754219</td>\n",
       "      <td>1.0</td>\n",
       "      <td>0.316832</td>\n",
       "      <td>0.0</td>\n",
       "      <td>1.0</td>\n",
       "    </tr>\n",
       "    <tr>\n",
       "      <th>1928</th>\n",
       "      <td>49.699669</td>\n",
       "      <td>296987.130115</td>\n",
       "      <td>49.886796</td>\n",
       "      <td>5.745819e+06</td>\n",
       "      <td>13.929936</td>\n",
       "      <td>0.0</td>\n",
       "      <td>0.393679</td>\n",
       "      <td>1.0</td>\n",
       "      <td>1.0</td>\n",
       "    </tr>\n",
       "    <tr>\n",
       "      <th>1929</th>\n",
       "      <td>48.805776</td>\n",
       "      <td>428833.163391</td>\n",
       "      <td>47.203568</td>\n",
       "      <td>5.019270e+06</td>\n",
       "      <td>9.953178</td>\n",
       "      <td>0.0</td>\n",
       "      <td>0.295129</td>\n",
       "      <td>1.0</td>\n",
       "      <td>1.0</td>\n",
       "    </tr>\n",
       "  </tbody>\n",
       "</table>\n",
       "<p>1930 rows × 9 columns</p>\n",
       "</div>"
      ],
      "text/plain": [
       "            age        salaire  score_credit  montant_transaction  \\\n",
       "0     49.548894  183659.045784     48.228579         9.649456e+06   \n",
       "1     44.952665  329732.599158     67.573097         2.500000e+04   \n",
       "2     41.659910   75000.000000     77.559487         2.724004e+06   \n",
       "3     42.377280   75000.000000     54.282220         4.755632e+06   \n",
       "4     48.125023  359999.482942     71.148546         2.500000e+04   \n",
       "...         ...            ...           ...                  ...   \n",
       "1925  45.597241  298542.011574     85.246862         5.284009e+06   \n",
       "1926  43.876065  154884.988653     61.960407         4.682180e+06   \n",
       "1927  37.003946  356817.861161     64.005850         5.961519e+06   \n",
       "1928  49.699669  296987.130115     49.886796         5.745819e+06   \n",
       "1929  48.805776  428833.163391     47.203568         5.019270e+06   \n",
       "\n",
       "      anciennete_compte  type_carte    region  genre  fraude  \n",
       "0             14.000000         0.0  0.395050    0.0     0.0  \n",
       "1              9.655656         0.0  0.395050    0.0     0.0  \n",
       "2              9.000000         1.0  0.395050    1.0     0.0  \n",
       "3              9.000000         0.0  0.316832    0.0     0.0  \n",
       "4              8.000000         0.0  0.316832    0.0     0.0  \n",
       "...                 ...         ...       ...    ...     ...  \n",
       "1925           7.616324         0.0  0.368583    1.0     1.0  \n",
       "1926          13.085475         1.0  0.393378    1.0     1.0  \n",
       "1927          13.754219         1.0  0.316832    0.0     1.0  \n",
       "1928          13.929936         0.0  0.393679    1.0     1.0  \n",
       "1929           9.953178         0.0  0.295129    1.0     1.0  \n",
       "\n",
       "[1930 rows x 9 columns]"
      ]
     },
     "execution_count": 308,
     "metadata": {},
     "output_type": "execute_result"
    }
   ],
   "source": [
    "def replace_outliers(df):\n",
    "    for col in df.select_dtypes(include=['number']).columns:\n",
    "        Q1 = df[col].quantile(0.25)\n",
    "        Q3 = df[col].quantile(0.75)\n",
    "        IQR = Q3 - Q1\n",
    "        lower_bound = Q1 - 1.5 * IQR\n",
    "        upper_bound = Q3 + 1.5 * IQR\n",
    "        df[col] = np.where(df[col] < lower_bound, lower_bound, df[col])\n",
    "        df[col] = np.where(df[col] > upper_bound, upper_bound, df[col])\n",
    "    return df\n",
    "\n",
    "replace_outliers(df)"
   ]
  },
  {
   "cell_type": "code",
   "execution_count": 309,
   "id": "0a38c98b",
   "metadata": {},
   "outputs": [],
   "source": [
    "df['fraude'] = df['fraude'].astype(int)"
   ]
  },
  {
   "cell_type": "code",
   "execution_count": 310,
   "id": "3f3e7d1c",
   "metadata": {},
   "outputs": [
    {
     "data": {
      "application/vnd.microsoft.datawrangler.viewer.v0+json": {
       "columns": [
        {
         "name": "fraude",
         "rawType": "int32",
         "type": "integer"
        },
        {
         "name": "count",
         "rawType": "int64",
         "type": "integer"
        }
       ],
       "ref": "710a0b99-b2fa-4737-8d53-8b0dae0b3cfb",
       "rows": [
        [
         "0",
         "965"
        ],
        [
         "1",
         "965"
        ]
       ],
       "shape": {
        "columns": 1,
        "rows": 2
       }
      },
      "text/plain": [
       "fraude\n",
       "0    965\n",
       "1    965\n",
       "Name: count, dtype: int64"
      ]
     },
     "execution_count": 310,
     "metadata": {},
     "output_type": "execute_result"
    }
   ],
   "source": [
    "df.fraude.value_counts()"
   ]
  },
  {
   "cell_type": "markdown",
   "id": "feac6638",
   "metadata": {},
   "source": [
    "## FIN PETIT PREPROCESSING"
   ]
  },
  {
   "cell_type": "markdown",
   "id": "219a4ef5",
   "metadata": {},
   "source": [
    "## CLASSIFICATION"
   ]
  },
  {
   "cell_type": "code",
   "execution_count": 311,
   "id": "ae39751a",
   "metadata": {},
   "outputs": [
    {
     "data": {
      "text/html": [
       "<style type=\"text/css\">\n",
       "#T_574ed_row8_col1, #T_574ed_row12_col1 {\n",
       "  background-color: lightgreen;\n",
       "}\n",
       "</style>\n",
       "<table id=\"T_574ed\">\n",
       "  <thead>\n",
       "    <tr>\n",
       "      <th class=\"blank level0\" >&nbsp;</th>\n",
       "      <th id=\"T_574ed_level0_col0\" class=\"col_heading level0 col0\" >Description</th>\n",
       "      <th id=\"T_574ed_level0_col1\" class=\"col_heading level0 col1\" >Value</th>\n",
       "    </tr>\n",
       "  </thead>\n",
       "  <tbody>\n",
       "    <tr>\n",
       "      <th id=\"T_574ed_level0_row0\" class=\"row_heading level0 row0\" >0</th>\n",
       "      <td id=\"T_574ed_row0_col0\" class=\"data row0 col0\" >Session id</td>\n",
       "      <td id=\"T_574ed_row0_col1\" class=\"data row0 col1\" >123</td>\n",
       "    </tr>\n",
       "    <tr>\n",
       "      <th id=\"T_574ed_level0_row1\" class=\"row_heading level0 row1\" >1</th>\n",
       "      <td id=\"T_574ed_row1_col0\" class=\"data row1 col0\" >Target</td>\n",
       "      <td id=\"T_574ed_row1_col1\" class=\"data row1 col1\" >fraude</td>\n",
       "    </tr>\n",
       "    <tr>\n",
       "      <th id=\"T_574ed_level0_row2\" class=\"row_heading level0 row2\" >2</th>\n",
       "      <td id=\"T_574ed_row2_col0\" class=\"data row2 col0\" >Target type</td>\n",
       "      <td id=\"T_574ed_row2_col1\" class=\"data row2 col1\" >Binary</td>\n",
       "    </tr>\n",
       "    <tr>\n",
       "      <th id=\"T_574ed_level0_row3\" class=\"row_heading level0 row3\" >3</th>\n",
       "      <td id=\"T_574ed_row3_col0\" class=\"data row3 col0\" >Original data shape</td>\n",
       "      <td id=\"T_574ed_row3_col1\" class=\"data row3 col1\" >(1930, 9)</td>\n",
       "    </tr>\n",
       "    <tr>\n",
       "      <th id=\"T_574ed_level0_row4\" class=\"row_heading level0 row4\" >4</th>\n",
       "      <td id=\"T_574ed_row4_col0\" class=\"data row4 col0\" >Transformed data shape</td>\n",
       "      <td id=\"T_574ed_row4_col1\" class=\"data row4 col1\" >(1930, 9)</td>\n",
       "    </tr>\n",
       "    <tr>\n",
       "      <th id=\"T_574ed_level0_row5\" class=\"row_heading level0 row5\" >5</th>\n",
       "      <td id=\"T_574ed_row5_col0\" class=\"data row5 col0\" >Transformed train set shape</td>\n",
       "      <td id=\"T_574ed_row5_col1\" class=\"data row5 col1\" >(1544, 9)</td>\n",
       "    </tr>\n",
       "    <tr>\n",
       "      <th id=\"T_574ed_level0_row6\" class=\"row_heading level0 row6\" >6</th>\n",
       "      <td id=\"T_574ed_row6_col0\" class=\"data row6 col0\" >Transformed test set shape</td>\n",
       "      <td id=\"T_574ed_row6_col1\" class=\"data row6 col1\" >(386, 9)</td>\n",
       "    </tr>\n",
       "    <tr>\n",
       "      <th id=\"T_574ed_level0_row7\" class=\"row_heading level0 row7\" >7</th>\n",
       "      <td id=\"T_574ed_row7_col0\" class=\"data row7 col0\" >Numeric features</td>\n",
       "      <td id=\"T_574ed_row7_col1\" class=\"data row7 col1\" >8</td>\n",
       "    </tr>\n",
       "    <tr>\n",
       "      <th id=\"T_574ed_level0_row8\" class=\"row_heading level0 row8\" >8</th>\n",
       "      <td id=\"T_574ed_row8_col0\" class=\"data row8 col0\" >Preprocess</td>\n",
       "      <td id=\"T_574ed_row8_col1\" class=\"data row8 col1\" >True</td>\n",
       "    </tr>\n",
       "    <tr>\n",
       "      <th id=\"T_574ed_level0_row9\" class=\"row_heading level0 row9\" >9</th>\n",
       "      <td id=\"T_574ed_row9_col0\" class=\"data row9 col0\" >Imputation type</td>\n",
       "      <td id=\"T_574ed_row9_col1\" class=\"data row9 col1\" >simple</td>\n",
       "    </tr>\n",
       "    <tr>\n",
       "      <th id=\"T_574ed_level0_row10\" class=\"row_heading level0 row10\" >10</th>\n",
       "      <td id=\"T_574ed_row10_col0\" class=\"data row10 col0\" >Numeric imputation</td>\n",
       "      <td id=\"T_574ed_row10_col1\" class=\"data row10 col1\" >mean</td>\n",
       "    </tr>\n",
       "    <tr>\n",
       "      <th id=\"T_574ed_level0_row11\" class=\"row_heading level0 row11\" >11</th>\n",
       "      <td id=\"T_574ed_row11_col0\" class=\"data row11 col0\" >Categorical imputation</td>\n",
       "      <td id=\"T_574ed_row11_col1\" class=\"data row11 col1\" >mode</td>\n",
       "    </tr>\n",
       "    <tr>\n",
       "      <th id=\"T_574ed_level0_row12\" class=\"row_heading level0 row12\" >12</th>\n",
       "      <td id=\"T_574ed_row12_col0\" class=\"data row12 col0\" >Normalize</td>\n",
       "      <td id=\"T_574ed_row12_col1\" class=\"data row12 col1\" >True</td>\n",
       "    </tr>\n",
       "    <tr>\n",
       "      <th id=\"T_574ed_level0_row13\" class=\"row_heading level0 row13\" >13</th>\n",
       "      <td id=\"T_574ed_row13_col0\" class=\"data row13 col0\" >Normalize method</td>\n",
       "      <td id=\"T_574ed_row13_col1\" class=\"data row13 col1\" >minmax</td>\n",
       "    </tr>\n",
       "    <tr>\n",
       "      <th id=\"T_574ed_level0_row14\" class=\"row_heading level0 row14\" >14</th>\n",
       "      <td id=\"T_574ed_row14_col0\" class=\"data row14 col0\" >Fold Generator</td>\n",
       "      <td id=\"T_574ed_row14_col1\" class=\"data row14 col1\" >StratifiedKFold</td>\n",
       "    </tr>\n",
       "    <tr>\n",
       "      <th id=\"T_574ed_level0_row15\" class=\"row_heading level0 row15\" >15</th>\n",
       "      <td id=\"T_574ed_row15_col0\" class=\"data row15 col0\" >Fold Number</td>\n",
       "      <td id=\"T_574ed_row15_col1\" class=\"data row15 col1\" >10</td>\n",
       "    </tr>\n",
       "    <tr>\n",
       "      <th id=\"T_574ed_level0_row16\" class=\"row_heading level0 row16\" >16</th>\n",
       "      <td id=\"T_574ed_row16_col0\" class=\"data row16 col0\" >CPU Jobs</td>\n",
       "      <td id=\"T_574ed_row16_col1\" class=\"data row16 col1\" >-1</td>\n",
       "    </tr>\n",
       "    <tr>\n",
       "      <th id=\"T_574ed_level0_row17\" class=\"row_heading level0 row17\" >17</th>\n",
       "      <td id=\"T_574ed_row17_col0\" class=\"data row17 col0\" >Use GPU</td>\n",
       "      <td id=\"T_574ed_row17_col1\" class=\"data row17 col1\" >False</td>\n",
       "    </tr>\n",
       "    <tr>\n",
       "      <th id=\"T_574ed_level0_row18\" class=\"row_heading level0 row18\" >18</th>\n",
       "      <td id=\"T_574ed_row18_col0\" class=\"data row18 col0\" >Log Experiment</td>\n",
       "      <td id=\"T_574ed_row18_col1\" class=\"data row18 col1\" >False</td>\n",
       "    </tr>\n",
       "    <tr>\n",
       "      <th id=\"T_574ed_level0_row19\" class=\"row_heading level0 row19\" >19</th>\n",
       "      <td id=\"T_574ed_row19_col0\" class=\"data row19 col0\" >Experiment Name</td>\n",
       "      <td id=\"T_574ed_row19_col1\" class=\"data row19 col1\" >clf-default-name</td>\n",
       "    </tr>\n",
       "    <tr>\n",
       "      <th id=\"T_574ed_level0_row20\" class=\"row_heading level0 row20\" >20</th>\n",
       "      <td id=\"T_574ed_row20_col0\" class=\"data row20 col0\" >USI</td>\n",
       "      <td id=\"T_574ed_row20_col1\" class=\"data row20 col1\" >ce48</td>\n",
       "    </tr>\n",
       "  </tbody>\n",
       "</table>\n"
      ],
      "text/plain": [
       "<pandas.io.formats.style.Styler at 0x2484d9c7f10>"
      ]
     },
     "metadata": {},
     "output_type": "display_data"
    }
   ],
   "source": [
    "from pycaret.classification import *\n",
    "\n",
    "s = setup(df, target ='fraude', train_size=0.8, session_id=123, normalize =True, normalize_method = 'minmax')"
   ]
  },
  {
   "cell_type": "code",
   "execution_count": 315,
   "id": "f988246a",
   "metadata": {},
   "outputs": [
    {
     "data": {
      "application/vnd.microsoft.datawrangler.viewer.v0+json": {
       "columns": [
        {
         "name": "index",
         "rawType": "int64",
         "type": "integer"
        },
        {
         "name": "age",
         "rawType": "float32",
         "type": "float"
        },
        {
         "name": "salaire",
         "rawType": "float32",
         "type": "float"
        },
        {
         "name": "score_credit",
         "rawType": "float32",
         "type": "float"
        },
        {
         "name": "montant_transaction",
         "rawType": "float32",
         "type": "float"
        },
        {
         "name": "anciennete_compte",
         "rawType": "float32",
         "type": "float"
        },
        {
         "name": "type_carte",
         "rawType": "float32",
         "type": "float"
        },
        {
         "name": "region",
         "rawType": "float32",
         "type": "float"
        },
        {
         "name": "genre",
         "rawType": "float32",
         "type": "float"
        }
       ],
       "ref": "d960200a-ab0d-4795-a5fe-c6bbfe5c91e6",
       "rows": [
        [
         "1358",
         "0.45852858",
         "0.08836579",
         "0.4693726",
         "0.5517879",
         "0.6862169",
         "0.0",
         "1.0",
         "1.0"
        ],
        [
         "1442",
         "0.77420086",
         "0.62503046",
         "0.47891167",
         "0.43624282",
         "0.3617114",
         "0.0",
         "0.16292071",
         "1.0"
        ],
        [
         "1810",
         "0.54093343",
         "0.32141697",
         "0.51844406",
         "0.8150046",
         "0.70581853",
         "0.0",
         "0.093105316",
         "0.0"
        ],
        [
         "119",
         "0.3474024",
         "0.82719415",
         "0.7204131",
         "0.28398332",
         "0.418073",
         "0.0",
         "0.26851845",
         "0.0"
        ],
        [
         "1319",
         "0.1622343",
         "0.5772747",
         "0.42295122",
         "0.35012916",
         "0.7317185",
         "1.0",
         "0.4240904",
         "1.0"
        ],
        [
         "977",
         "0.27688098",
         "0.22830696",
         "0.9283092",
         "0.5816977",
         "0.72450835",
         "1.0",
         "0.0",
         "0.0"
        ],
        [
         "881",
         "0.39400166",
         "0.10793553",
         "0.21179649",
         "0.0",
         "0.19320223",
         "1.0",
         "0.0",
         "0.0"
        ],
        [
         "1749",
         "0.48280305",
         "0.30840635",
         "0.64925015",
         "0.32486162",
         "0.36566386",
         "0.0",
         "1.0",
         "0.0"
        ],
        [
         "541",
         "0.38496238",
         "0.78614163",
         "0.27728844",
         "1.0",
         "0.48300558",
         "0.0",
         "0.0",
         "0.0"
        ],
        [
         "613",
         "0.76913434",
         "0.17999776",
         "0.73862267",
         "0.5120045",
         "0.6279072",
         "1.0",
         "1.0",
         "1.0"
        ],
        [
         "1241",
         "0.76404124",
         "0.60207087",
         "0.51024306",
         "0.4369361",
         "0.37018916",
         "0.0",
         "0.22142816",
         "1.0"
        ],
        [
         "1874",
         "0.3474267",
         "0.5566194",
         "0.27788597",
         "0.48986736",
         "0.43470502",
         "0.0",
         "0.26851845",
         "0.0"
        ],
        [
         "1499",
         "0.48511475",
         "0.30165148",
         "0.6475557",
         "0.32311568",
         "0.3530885",
         "0.0",
         "1.0",
         "0.0"
        ],
        [
         "1131",
         "0.57215506",
         "0.31125748",
         "0.5898162",
         "0.45466053",
         "0.32327116",
         "0.0",
         "0.26851845",
         "1.0"
        ],
        [
         "1020",
         "0.55443805",
         "0.12445699",
         "0.65683115",
         "0.27295607",
         "0.1701566",
         "0.0",
         "1.0",
         "0.0"
        ],
        [
         "1600",
         "0.5620256",
         "0.5502496",
         "0.8029463",
         "0.45405483",
         "0.02855654",
         "0.0",
         "0.37663603",
         "1.0"
        ],
        [
         "1746",
         "0.21668363",
         "0.1378486",
         "0.6344708",
         "0.5660344",
         "0.43103898",
         "0.0",
         "0.28702497",
         "1.0"
        ],
        [
         "1290",
         "0.14365274",
         "0.65535694",
         "0.46947995",
         "0.34915602",
         "0.51330733",
         "0.0",
         "0.05003047",
         "0.0"
        ],
        [
         "609",
         "0.6122777",
         "0.258963",
         "0.2553545",
         "0.88162816",
         "0.5313061",
         "0.0",
         "0.0",
         "1.0"
        ],
        [
         "184",
         "0.5569019",
         "0.3488196",
         "0.58856404",
         "0.5243609",
         "0.5313061",
         "0.0",
         "1.0",
         "1.0"
        ],
        [
         "579",
         "0.19702303",
         "0.45485103",
         "0.53123903",
         "0.17076713",
         "0.3381039",
         "0.0",
         "0.26851845",
         "1.0"
        ],
        [
         "257",
         "0.48124117",
         "0.4947322",
         "0.5200887",
         "0.5737492",
         "0.5313061",
         "1.0",
         "0.26851845",
         "0.0"
        ],
        [
         "575",
         "0.23138851",
         "0.7562749",
         "0.5073104",
         "0.0",
         "0.28980333",
         "0.0",
         "1.0",
         "0.0"
        ],
        [
         "149",
         "0.44308537",
         "0.40237188",
         "0.57258165",
         "0.5137113",
         "0.14490166",
         "1.0",
         "0.0",
         "0.0"
        ],
        [
         "1540",
         "0.3329212",
         "0.42403865",
         "0.24768832",
         "0.123274244",
         "0.68686056",
         "0.0",
         "0.26851845",
         "0.0"
        ],
        [
         "1567",
         "0.5761488",
         "0.093861476",
         "0.34022665",
         "0.4517335",
         "0.55449563",
         "1.0",
         "0.31605482",
         "1.0"
        ],
        [
         "712",
         "0.5642927",
         "0.48627776",
         "0.6637131",
         "0.40050668",
         "0.6762078",
         "0.0",
         "1.0",
         "0.0"
        ],
        [
         "1415",
         "0.05239612",
         "0.49070936",
         "0.31190377",
         "0.09318908",
         "0.25552616",
         "1.0",
         "0.0",
         "1.0"
        ],
        [
         "932",
         "0.46512622",
         "0.15407719",
         "0.38405672",
         "0.34742257",
         "0.096601106",
         "0.0",
         "1.0",
         "1.0"
        ],
        [
         "198",
         "0.32249343",
         "0.6816099",
         "0.32730967",
         "0.3141718",
         "0.5313061",
         "1.0",
         "0.0",
         "1.0"
        ],
        [
         "1653",
         "0.8085756",
         "0.524145",
         "0.28599524",
         "0.7017331",
         "0.09791572",
         "0.0",
         "0.99092746",
         "1.0"
        ],
        [
         "647",
         "0.7594982",
         "0.09384328",
         "0.46472314",
         "0.14557335",
         "0.6762078",
         "0.0",
         "1.0",
         "1.0"
        ],
        [
         "297",
         "0.57602626",
         "0.4772691",
         "0.49326888",
         "0.35197395",
         "0.43470502",
         "0.0",
         "1.0",
         "1.0"
        ],
        [
         "1807",
         "0.34876722",
         "0.56601596",
         "0.27358004",
         "0.4887771",
         "0.41572505",
         "0.0",
         "0.26851845",
         "1.0"
        ],
        [
         "619",
         "0.40136832",
         "0.15148686",
         "0.54007554",
         "0.7667269",
         "0.48300558",
         "1.0",
         "1.0",
         "0.0"
        ],
        [
         "1820",
         "0.6083892",
         "0.099826336",
         "0.3284807",
         "0.45483524",
         "0.52912486",
         "0.0",
         "0.26851845",
         "0.0"
        ],
        [
         "1627",
         "0.4297642",
         "0.08463293",
         "0.46885732",
         "0.7916202",
         "0.28710064",
         "0.0",
         "0.0",
         "0.0"
        ],
        [
         "861",
         "0.34970194",
         "0.574537",
         "0.4889814",
         "0.48013896",
         "0.48300558",
         "0.0",
         "0.26851845",
         "0.0"
        ],
        [
         "560",
         "0.09907448",
         "0.47397482",
         "0.5274353",
         "0.43570468",
         "0.24150276",
         "1.0",
         "0.26851845",
         "1.0"
        ],
        [
         "1640",
         "0.52709824",
         "0.21945293",
         "0.46107933",
         "0.56081915",
         "0.5139128",
         "0.0",
         "0.048347473",
         "1.0"
        ],
        [
         "204",
         "0.20781386",
         "0.39077216",
         "0.6351949",
         "0.26858193",
         "0.38640445",
         "1.0",
         "0.0",
         "1.0"
        ],
        [
         "1039",
         "0.43831939",
         "0.52263725",
         "0.50824904",
         "0.97696793",
         "0.4252886",
         "0.0",
         "0.21616936",
         "0.0"
        ],
        [
         "1088",
         "0.09942496",
         "0.62466276",
         "0.62507975",
         "0.28518233",
         "0.41236168",
         "0.0",
         "0.08635092",
         "0.0"
        ],
        [
         "1598",
         "0.27256733",
         "0.38670778",
         "0.60510015",
         "0.67837185",
         "0.2785381",
         "1.0",
         "1.0",
         "0.0"
        ],
        [
         "639",
         "0.1511653",
         "0.0",
         "0.45623228",
         "0.19926411",
         "0.38640445",
         "1.0",
         "0.0",
         "0.0"
        ],
        [
         "616",
         "0.4058122",
         "0.0",
         "0.5802866",
         "0.109946065",
         "0.24150276",
         "0.0",
         "0.26851845",
         "0.0"
        ],
        [
         "285",
         "0.039206207",
         "0.1082851",
         "0.7414713",
         "0.039820824",
         "0.24150276",
         "1.0",
         "0.26851845",
         "1.0"
        ],
        [
         "1101",
         "0.5224597",
         "0.12805058",
         "0.6186328",
         "0.2709068",
         "0.036688253",
         "0.0",
         "0.92404175",
         "0.0"
        ],
        [
         "391",
         "0.8239606",
         "0.0",
         "0.68845105",
         "0.30516532",
         "0.24150276",
         "0.0",
         "1.0",
         "1.0"
        ],
        [
         "1056",
         "0.26894987",
         "0.3735631",
         "0.80847716",
         "0.21685115",
         "0.46012437",
         "0.0",
         "0.15790844",
         "0.0"
        ]
       ],
       "shape": {
        "columns": 8,
        "rows": 1930
       }
      },
      "text/html": [
       "<div>\n",
       "<style scoped>\n",
       "    .dataframe tbody tr th:only-of-type {\n",
       "        vertical-align: middle;\n",
       "    }\n",
       "\n",
       "    .dataframe tbody tr th {\n",
       "        vertical-align: top;\n",
       "    }\n",
       "\n",
       "    .dataframe thead th {\n",
       "        text-align: right;\n",
       "    }\n",
       "</style>\n",
       "<table border=\"1\" class=\"dataframe\">\n",
       "  <thead>\n",
       "    <tr style=\"text-align: right;\">\n",
       "      <th></th>\n",
       "      <th>age</th>\n",
       "      <th>salaire</th>\n",
       "      <th>score_credit</th>\n",
       "      <th>montant_transaction</th>\n",
       "      <th>anciennete_compte</th>\n",
       "      <th>type_carte</th>\n",
       "      <th>region</th>\n",
       "      <th>genre</th>\n",
       "    </tr>\n",
       "  </thead>\n",
       "  <tbody>\n",
       "    <tr>\n",
       "      <th>1358</th>\n",
       "      <td>0.458529</td>\n",
       "      <td>0.088366</td>\n",
       "      <td>0.469373</td>\n",
       "      <td>0.551788</td>\n",
       "      <td>0.686217</td>\n",
       "      <td>0.0</td>\n",
       "      <td>1.000000</td>\n",
       "      <td>1.0</td>\n",
       "    </tr>\n",
       "    <tr>\n",
       "      <th>1442</th>\n",
       "      <td>0.774201</td>\n",
       "      <td>0.625030</td>\n",
       "      <td>0.478912</td>\n",
       "      <td>0.436243</td>\n",
       "      <td>0.361711</td>\n",
       "      <td>0.0</td>\n",
       "      <td>0.162921</td>\n",
       "      <td>1.0</td>\n",
       "    </tr>\n",
       "    <tr>\n",
       "      <th>1810</th>\n",
       "      <td>0.540933</td>\n",
       "      <td>0.321417</td>\n",
       "      <td>0.518444</td>\n",
       "      <td>0.815005</td>\n",
       "      <td>0.705819</td>\n",
       "      <td>0.0</td>\n",
       "      <td>0.093105</td>\n",
       "      <td>0.0</td>\n",
       "    </tr>\n",
       "    <tr>\n",
       "      <th>119</th>\n",
       "      <td>0.347402</td>\n",
       "      <td>0.827194</td>\n",
       "      <td>0.720413</td>\n",
       "      <td>0.283983</td>\n",
       "      <td>0.418073</td>\n",
       "      <td>0.0</td>\n",
       "      <td>0.268518</td>\n",
       "      <td>0.0</td>\n",
       "    </tr>\n",
       "    <tr>\n",
       "      <th>1319</th>\n",
       "      <td>0.162234</td>\n",
       "      <td>0.577275</td>\n",
       "      <td>0.422951</td>\n",
       "      <td>0.350129</td>\n",
       "      <td>0.731718</td>\n",
       "      <td>1.0</td>\n",
       "      <td>0.424090</td>\n",
       "      <td>1.0</td>\n",
       "    </tr>\n",
       "    <tr>\n",
       "      <th>...</th>\n",
       "      <td>...</td>\n",
       "      <td>...</td>\n",
       "      <td>...</td>\n",
       "      <td>...</td>\n",
       "      <td>...</td>\n",
       "      <td>...</td>\n",
       "      <td>...</td>\n",
       "      <td>...</td>\n",
       "    </tr>\n",
       "    <tr>\n",
       "      <th>1869</th>\n",
       "      <td>0.342986</td>\n",
       "      <td>0.425196</td>\n",
       "      <td>0.465963</td>\n",
       "      <td>0.112284</td>\n",
       "      <td>0.124686</td>\n",
       "      <td>0.0</td>\n",
       "      <td>0.116290</td>\n",
       "      <td>0.0</td>\n",
       "    </tr>\n",
       "    <tr>\n",
       "      <th>1380</th>\n",
       "      <td>0.473827</td>\n",
       "      <td>0.141508</td>\n",
       "      <td>0.363772</td>\n",
       "      <td>0.951378</td>\n",
       "      <td>0.392335</td>\n",
       "      <td>0.0</td>\n",
       "      <td>0.032968</td>\n",
       "      <td>0.0</td>\n",
       "    </tr>\n",
       "    <tr>\n",
       "      <th>1675</th>\n",
       "      <td>0.510400</td>\n",
       "      <td>0.571195</td>\n",
       "      <td>0.758960</td>\n",
       "      <td>0.466997</td>\n",
       "      <td>0.140822</td>\n",
       "      <td>0.0</td>\n",
       "      <td>0.268518</td>\n",
       "      <td>0.0</td>\n",
       "    </tr>\n",
       "    <tr>\n",
       "      <th>1193</th>\n",
       "      <td>0.555966</td>\n",
       "      <td>0.265978</td>\n",
       "      <td>0.329711</td>\n",
       "      <td>0.437815</td>\n",
       "      <td>0.224124</td>\n",
       "      <td>1.0</td>\n",
       "      <td>1.000000</td>\n",
       "      <td>1.0</td>\n",
       "    </tr>\n",
       "    <tr>\n",
       "      <th>1376</th>\n",
       "      <td>0.392241</td>\n",
       "      <td>0.515365</td>\n",
       "      <td>0.450487</td>\n",
       "      <td>0.487980</td>\n",
       "      <td>0.434705</td>\n",
       "      <td>0.0</td>\n",
       "      <td>0.268518</td>\n",
       "      <td>0.0</td>\n",
       "    </tr>\n",
       "  </tbody>\n",
       "</table>\n",
       "<p>1930 rows × 8 columns</p>\n",
       "</div>"
      ],
      "text/plain": [
       "           age   salaire  score_credit  montant_transaction  \\\n",
       "1358  0.458529  0.088366      0.469373             0.551788   \n",
       "1442  0.774201  0.625030      0.478912             0.436243   \n",
       "1810  0.540933  0.321417      0.518444             0.815005   \n",
       "119   0.347402  0.827194      0.720413             0.283983   \n",
       "1319  0.162234  0.577275      0.422951             0.350129   \n",
       "...        ...       ...           ...                  ...   \n",
       "1869  0.342986  0.425196      0.465963             0.112284   \n",
       "1380  0.473827  0.141508      0.363772             0.951378   \n",
       "1675  0.510400  0.571195      0.758960             0.466997   \n",
       "1193  0.555966  0.265978      0.329711             0.437815   \n",
       "1376  0.392241  0.515365      0.450487             0.487980   \n",
       "\n",
       "      anciennete_compte  type_carte    region  genre  \n",
       "1358           0.686217         0.0  1.000000    1.0  \n",
       "1442           0.361711         0.0  0.162921    1.0  \n",
       "1810           0.705819         0.0  0.093105    0.0  \n",
       "119            0.418073         0.0  0.268518    0.0  \n",
       "1319           0.731718         1.0  0.424090    1.0  \n",
       "...                 ...         ...       ...    ...  \n",
       "1869           0.124686         0.0  0.116290    0.0  \n",
       "1380           0.392335         0.0  0.032968    0.0  \n",
       "1675           0.140822         0.0  0.268518    0.0  \n",
       "1193           0.224124         1.0  1.000000    1.0  \n",
       "1376           0.434705         0.0  0.268518    0.0  \n",
       "\n",
       "[1930 rows x 8 columns]"
      ]
     },
     "execution_count": 315,
     "metadata": {},
     "output_type": "execute_result"
    }
   ],
   "source": [
    "get_config(\"X_transformed\")"
   ]
  },
  {
   "cell_type": "code",
   "execution_count": 316,
   "id": "67bae34a",
   "metadata": {},
   "outputs": [
    {
     "data": {
      "text/html": [],
      "text/plain": [
       "<IPython.core.display.HTML object>"
      ]
     },
     "metadata": {},
     "output_type": "display_data"
    },
    {
     "data": {
      "text/html": [
       "<style type=\"text/css\">\n",
       "#T_5ef76 th {\n",
       "  text-align: left;\n",
       "}\n",
       "#T_5ef76_row0_col0, #T_5ef76_row0_col2, #T_5ef76_row0_col3, #T_5ef76_row1_col0, #T_5ef76_row1_col1, #T_5ef76_row1_col2, #T_5ef76_row1_col3, #T_5ef76_row1_col4, #T_5ef76_row1_col5, #T_5ef76_row1_col6, #T_5ef76_row1_col7, #T_5ef76_row2_col0, #T_5ef76_row2_col1, #T_5ef76_row2_col4, #T_5ef76_row2_col5, #T_5ef76_row2_col6, #T_5ef76_row2_col7, #T_5ef76_row3_col0, #T_5ef76_row3_col1, #T_5ef76_row3_col2, #T_5ef76_row3_col3, #T_5ef76_row3_col4, #T_5ef76_row3_col5, #T_5ef76_row3_col6, #T_5ef76_row3_col7, #T_5ef76_row4_col0, #T_5ef76_row4_col1, #T_5ef76_row4_col3, #T_5ef76_row4_col4, #T_5ef76_row4_col5, #T_5ef76_row4_col6, #T_5ef76_row4_col7, #T_5ef76_row5_col0, #T_5ef76_row5_col1, #T_5ef76_row5_col2, #T_5ef76_row5_col3, #T_5ef76_row5_col4, #T_5ef76_row5_col5, #T_5ef76_row5_col6, #T_5ef76_row5_col7, #T_5ef76_row6_col0, #T_5ef76_row6_col1, #T_5ef76_row6_col2, #T_5ef76_row6_col3, #T_5ef76_row6_col4, #T_5ef76_row6_col5, #T_5ef76_row6_col6, #T_5ef76_row6_col7, #T_5ef76_row7_col0, #T_5ef76_row7_col1, #T_5ef76_row7_col2, #T_5ef76_row7_col3, #T_5ef76_row7_col4, #T_5ef76_row7_col5, #T_5ef76_row7_col6, #T_5ef76_row7_col7, #T_5ef76_row8_col0, #T_5ef76_row8_col1, #T_5ef76_row8_col2, #T_5ef76_row8_col3, #T_5ef76_row8_col4, #T_5ef76_row8_col5, #T_5ef76_row8_col6, #T_5ef76_row8_col7, #T_5ef76_row9_col0, #T_5ef76_row9_col1, #T_5ef76_row9_col2, #T_5ef76_row9_col3, #T_5ef76_row9_col4, #T_5ef76_row9_col5, #T_5ef76_row9_col6, #T_5ef76_row9_col7, #T_5ef76_row10_col0, #T_5ef76_row10_col1, #T_5ef76_row10_col2, #T_5ef76_row10_col3, #T_5ef76_row10_col4, #T_5ef76_row10_col5, #T_5ef76_row10_col6, #T_5ef76_row10_col7, #T_5ef76_row11_col0, #T_5ef76_row11_col1, #T_5ef76_row11_col2, #T_5ef76_row11_col3, #T_5ef76_row11_col4, #T_5ef76_row11_col5, #T_5ef76_row11_col6, #T_5ef76_row11_col7, #T_5ef76_row12_col0, #T_5ef76_row12_col1, #T_5ef76_row12_col2, #T_5ef76_row12_col3, #T_5ef76_row12_col4, #T_5ef76_row12_col5, #T_5ef76_row12_col6, #T_5ef76_row12_col7, #T_5ef76_row13_col0, #T_5ef76_row13_col1, #T_5ef76_row13_col2, #T_5ef76_row13_col3, #T_5ef76_row13_col4, #T_5ef76_row13_col5, #T_5ef76_row13_col6, #T_5ef76_row13_col7, #T_5ef76_row14_col0, #T_5ef76_row14_col1, #T_5ef76_row14_col2, #T_5ef76_row14_col3, #T_5ef76_row14_col4, #T_5ef76_row14_col5, #T_5ef76_row14_col6, #T_5ef76_row14_col7, #T_5ef76_row15_col0, #T_5ef76_row15_col1, #T_5ef76_row15_col2, #T_5ef76_row15_col3, #T_5ef76_row15_col4, #T_5ef76_row15_col5, #T_5ef76_row15_col6, #T_5ef76_row15_col7 {\n",
       "  text-align: left;\n",
       "}\n",
       "#T_5ef76_row0_col1, #T_5ef76_row0_col4, #T_5ef76_row0_col5, #T_5ef76_row0_col6, #T_5ef76_row0_col7, #T_5ef76_row2_col2, #T_5ef76_row2_col3, #T_5ef76_row4_col2 {\n",
       "  text-align: left;\n",
       "  background-color: yellow;\n",
       "}\n",
       "#T_5ef76_row0_col8, #T_5ef76_row1_col8, #T_5ef76_row2_col8, #T_5ef76_row3_col8, #T_5ef76_row4_col8, #T_5ef76_row5_col8, #T_5ef76_row6_col8, #T_5ef76_row7_col8, #T_5ef76_row8_col8, #T_5ef76_row9_col8, #T_5ef76_row10_col8, #T_5ef76_row11_col8, #T_5ef76_row12_col8, #T_5ef76_row13_col8, #T_5ef76_row15_col8 {\n",
       "  text-align: left;\n",
       "  background-color: lightgrey;\n",
       "}\n",
       "#T_5ef76_row14_col8 {\n",
       "  text-align: left;\n",
       "  background-color: yellow;\n",
       "  background-color: lightgrey;\n",
       "}\n",
       "</style>\n",
       "<table id=\"T_5ef76\">\n",
       "  <thead>\n",
       "    <tr>\n",
       "      <th class=\"blank level0\" >&nbsp;</th>\n",
       "      <th id=\"T_5ef76_level0_col0\" class=\"col_heading level0 col0\" >Model</th>\n",
       "      <th id=\"T_5ef76_level0_col1\" class=\"col_heading level0 col1\" >Accuracy</th>\n",
       "      <th id=\"T_5ef76_level0_col2\" class=\"col_heading level0 col2\" >AUC</th>\n",
       "      <th id=\"T_5ef76_level0_col3\" class=\"col_heading level0 col3\" >Recall</th>\n",
       "      <th id=\"T_5ef76_level0_col4\" class=\"col_heading level0 col4\" >Prec.</th>\n",
       "      <th id=\"T_5ef76_level0_col5\" class=\"col_heading level0 col5\" >F1</th>\n",
       "      <th id=\"T_5ef76_level0_col6\" class=\"col_heading level0 col6\" >Kappa</th>\n",
       "      <th id=\"T_5ef76_level0_col7\" class=\"col_heading level0 col7\" >MCC</th>\n",
       "      <th id=\"T_5ef76_level0_col8\" class=\"col_heading level0 col8\" >TT (Sec)</th>\n",
       "    </tr>\n",
       "  </thead>\n",
       "  <tbody>\n",
       "    <tr>\n",
       "      <th id=\"T_5ef76_level0_row0\" class=\"row_heading level0 row0\" >lightgbm</th>\n",
       "      <td id=\"T_5ef76_row0_col0\" class=\"data row0 col0\" >Light Gradient Boosting Machine</td>\n",
       "      <td id=\"T_5ef76_row0_col1\" class=\"data row0 col1\" >0.9657</td>\n",
       "      <td id=\"T_5ef76_row0_col2\" class=\"data row0 col2\" >0.9938</td>\n",
       "      <td id=\"T_5ef76_row0_col3\" class=\"data row0 col3\" >0.9624</td>\n",
       "      <td id=\"T_5ef76_row0_col4\" class=\"data row0 col4\" >0.9692</td>\n",
       "      <td id=\"T_5ef76_row0_col5\" class=\"data row0 col5\" >0.9656</td>\n",
       "      <td id=\"T_5ef76_row0_col6\" class=\"data row0 col6\" >0.9313</td>\n",
       "      <td id=\"T_5ef76_row0_col7\" class=\"data row0 col7\" >0.9319</td>\n",
       "      <td id=\"T_5ef76_row0_col8\" class=\"data row0 col8\" >3.1400</td>\n",
       "    </tr>\n",
       "    <tr>\n",
       "      <th id=\"T_5ef76_level0_row1\" class=\"row_heading level0 row1\" >xgboost</th>\n",
       "      <td id=\"T_5ef76_row1_col0\" class=\"data row1 col0\" >Extreme Gradient Boosting</td>\n",
       "      <td id=\"T_5ef76_row1_col1\" class=\"data row1 col1\" >0.9631</td>\n",
       "      <td id=\"T_5ef76_row1_col2\" class=\"data row1 col2\" >0.9924</td>\n",
       "      <td id=\"T_5ef76_row1_col3\" class=\"data row1 col3\" >0.9638</td>\n",
       "      <td id=\"T_5ef76_row1_col4\" class=\"data row1 col4\" >0.9630</td>\n",
       "      <td id=\"T_5ef76_row1_col5\" class=\"data row1 col5\" >0.9632</td>\n",
       "      <td id=\"T_5ef76_row1_col6\" class=\"data row1 col6\" >0.9262</td>\n",
       "      <td id=\"T_5ef76_row1_col7\" class=\"data row1 col7\" >0.9266</td>\n",
       "      <td id=\"T_5ef76_row1_col8\" class=\"data row1 col8\" >0.3990</td>\n",
       "    </tr>\n",
       "    <tr>\n",
       "      <th id=\"T_5ef76_level0_row2\" class=\"row_heading level0 row2\" >et</th>\n",
       "      <td id=\"T_5ef76_row2_col0\" class=\"data row2 col0\" >Extra Trees Classifier</td>\n",
       "      <td id=\"T_5ef76_row2_col1\" class=\"data row2 col1\" >0.9612</td>\n",
       "      <td id=\"T_5ef76_row2_col2\" class=\"data row2 col2\" >0.9942</td>\n",
       "      <td id=\"T_5ef76_row2_col3\" class=\"data row2 col3\" >0.9702</td>\n",
       "      <td id=\"T_5ef76_row2_col4\" class=\"data row2 col4\" >0.9533</td>\n",
       "      <td id=\"T_5ef76_row2_col5\" class=\"data row2 col5\" >0.9614</td>\n",
       "      <td id=\"T_5ef76_row2_col6\" class=\"data row2 col6\" >0.9223</td>\n",
       "      <td id=\"T_5ef76_row2_col7\" class=\"data row2 col7\" >0.9230</td>\n",
       "      <td id=\"T_5ef76_row2_col8\" class=\"data row2 col8\" >0.2690</td>\n",
       "    </tr>\n",
       "    <tr>\n",
       "      <th id=\"T_5ef76_level0_row3\" class=\"row_heading level0 row3\" >rf</th>\n",
       "      <td id=\"T_5ef76_row3_col0\" class=\"data row3 col0\" >Random Forest Classifier</td>\n",
       "      <td id=\"T_5ef76_row3_col1\" class=\"data row3 col1\" >0.9566</td>\n",
       "      <td id=\"T_5ef76_row3_col2\" class=\"data row3 col2\" >0.9925</td>\n",
       "      <td id=\"T_5ef76_row3_col3\" class=\"data row3 col3\" >0.9495</td>\n",
       "      <td id=\"T_5ef76_row3_col4\" class=\"data row3 col4\" >0.9636</td>\n",
       "      <td id=\"T_5ef76_row3_col5\" class=\"data row3 col5\" >0.9561</td>\n",
       "      <td id=\"T_5ef76_row3_col6\" class=\"data row3 col6\" >0.9132</td>\n",
       "      <td id=\"T_5ef76_row3_col7\" class=\"data row3 col7\" >0.9141</td>\n",
       "      <td id=\"T_5ef76_row3_col8\" class=\"data row3 col8\" >0.4760</td>\n",
       "    </tr>\n",
       "    <tr>\n",
       "      <th id=\"T_5ef76_level0_row4\" class=\"row_heading level0 row4\" >catboost</th>\n",
       "      <td id=\"T_5ef76_row4_col0\" class=\"data row4 col0\" >CatBoost Classifier</td>\n",
       "      <td id=\"T_5ef76_row4_col1\" class=\"data row4 col1\" >0.9559</td>\n",
       "      <td id=\"T_5ef76_row4_col2\" class=\"data row4 col2\" >0.9942</td>\n",
       "      <td id=\"T_5ef76_row4_col3\" class=\"data row4 col3\" >0.9559</td>\n",
       "      <td id=\"T_5ef76_row4_col4\" class=\"data row4 col4\" >0.9566</td>\n",
       "      <td id=\"T_5ef76_row4_col5\" class=\"data row4 col5\" >0.9560</td>\n",
       "      <td id=\"T_5ef76_row4_col6\" class=\"data row4 col6\" >0.9119</td>\n",
       "      <td id=\"T_5ef76_row4_col7\" class=\"data row4 col7\" >0.9124</td>\n",
       "      <td id=\"T_5ef76_row4_col8\" class=\"data row4 col8\" >5.8760</td>\n",
       "    </tr>\n",
       "    <tr>\n",
       "      <th id=\"T_5ef76_level0_row5\" class=\"row_heading level0 row5\" >gbc</th>\n",
       "      <td id=\"T_5ef76_row5_col0\" class=\"data row5 col0\" >Gradient Boosting Classifier</td>\n",
       "      <td id=\"T_5ef76_row5_col1\" class=\"data row5 col1\" >0.9255</td>\n",
       "      <td id=\"T_5ef76_row5_col2\" class=\"data row5 col2\" >0.9787</td>\n",
       "      <td id=\"T_5ef76_row5_col3\" class=\"data row5 col3\" >0.9197</td>\n",
       "      <td id=\"T_5ef76_row5_col4\" class=\"data row5 col4\" >0.9310</td>\n",
       "      <td id=\"T_5ef76_row5_col5\" class=\"data row5 col5\" >0.9251</td>\n",
       "      <td id=\"T_5ef76_row5_col6\" class=\"data row5 col6\" >0.8510</td>\n",
       "      <td id=\"T_5ef76_row5_col7\" class=\"data row5 col7\" >0.8515</td>\n",
       "      <td id=\"T_5ef76_row5_col8\" class=\"data row5 col8\" >0.6870</td>\n",
       "    </tr>\n",
       "    <tr>\n",
       "      <th id=\"T_5ef76_level0_row6\" class=\"row_heading level0 row6\" >dt</th>\n",
       "      <td id=\"T_5ef76_row6_col0\" class=\"data row6 col0\" >Decision Tree Classifier</td>\n",
       "      <td id=\"T_5ef76_row6_col1\" class=\"data row6 col1\" >0.9197</td>\n",
       "      <td id=\"T_5ef76_row6_col2\" class=\"data row6 col2\" >0.9197</td>\n",
       "      <td id=\"T_5ef76_row6_col3\" class=\"data row6 col3\" >0.9404</td>\n",
       "      <td id=\"T_5ef76_row6_col4\" class=\"data row6 col4\" >0.9035</td>\n",
       "      <td id=\"T_5ef76_row6_col5\" class=\"data row6 col5\" >0.9214</td>\n",
       "      <td id=\"T_5ef76_row6_col6\" class=\"data row6 col6\" >0.8393</td>\n",
       "      <td id=\"T_5ef76_row6_col7\" class=\"data row6 col7\" >0.8405</td>\n",
       "      <td id=\"T_5ef76_row6_col8\" class=\"data row6 col8\" >0.0780</td>\n",
       "    </tr>\n",
       "    <tr>\n",
       "      <th id=\"T_5ef76_level0_row7\" class=\"row_heading level0 row7\" >ada</th>\n",
       "      <td id=\"T_5ef76_row7_col0\" class=\"data row7 col0\" >Ada Boost Classifier</td>\n",
       "      <td id=\"T_5ef76_row7_col1\" class=\"data row7 col1\" >0.8692</td>\n",
       "      <td id=\"T_5ef76_row7_col2\" class=\"data row7 col2\" >0.9389</td>\n",
       "      <td id=\"T_5ef76_row7_col3\" class=\"data row7 col3\" >0.8510</td>\n",
       "      <td id=\"T_5ef76_row7_col4\" class=\"data row7 col4\" >0.8837</td>\n",
       "      <td id=\"T_5ef76_row7_col5\" class=\"data row7 col5\" >0.8669</td>\n",
       "      <td id=\"T_5ef76_row7_col6\" class=\"data row7 col6\" >0.7384</td>\n",
       "      <td id=\"T_5ef76_row7_col7\" class=\"data row7 col7\" >0.7392</td>\n",
       "      <td id=\"T_5ef76_row7_col8\" class=\"data row7 col8\" >0.3670</td>\n",
       "    </tr>\n",
       "    <tr>\n",
       "      <th id=\"T_5ef76_level0_row8\" class=\"row_heading level0 row8\" >knn</th>\n",
       "      <td id=\"T_5ef76_row8_col0\" class=\"data row8 col0\" >K Neighbors Classifier</td>\n",
       "      <td id=\"T_5ef76_row8_col1\" class=\"data row8 col1\" >0.8400</td>\n",
       "      <td id=\"T_5ef76_row8_col2\" class=\"data row8 col2\" >0.9351</td>\n",
       "      <td id=\"T_5ef76_row8_col3\" class=\"data row8 col3\" >0.9676</td>\n",
       "      <td id=\"T_5ef76_row8_col4\" class=\"data row8 col4\" >0.7723</td>\n",
       "      <td id=\"T_5ef76_row8_col5\" class=\"data row8 col5\" >0.8584</td>\n",
       "      <td id=\"T_5ef76_row8_col6\" class=\"data row8 col6\" >0.6801</td>\n",
       "      <td id=\"T_5ef76_row8_col7\" class=\"data row8 col7\" >0.7047</td>\n",
       "      <td id=\"T_5ef76_row8_col8\" class=\"data row8 col8\" >0.2540</td>\n",
       "    </tr>\n",
       "    <tr>\n",
       "      <th id=\"T_5ef76_level0_row9\" class=\"row_heading level0 row9\" >qda</th>\n",
       "      <td id=\"T_5ef76_row9_col0\" class=\"data row9 col0\" >Quadratic Discriminant Analysis</td>\n",
       "      <td id=\"T_5ef76_row9_col1\" class=\"data row9 col1\" >0.7656</td>\n",
       "      <td id=\"T_5ef76_row9_col2\" class=\"data row9 col2\" >0.8283</td>\n",
       "      <td id=\"T_5ef76_row9_col3\" class=\"data row9 col3\" >0.7993</td>\n",
       "      <td id=\"T_5ef76_row9_col4\" class=\"data row9 col4\" >0.7497</td>\n",
       "      <td id=\"T_5ef76_row9_col5\" class=\"data row9 col5\" >0.7733</td>\n",
       "      <td id=\"T_5ef76_row9_col6\" class=\"data row9 col6\" >0.5311</td>\n",
       "      <td id=\"T_5ef76_row9_col7\" class=\"data row9 col7\" >0.5329</td>\n",
       "      <td id=\"T_5ef76_row9_col8\" class=\"data row9 col8\" >0.1040</td>\n",
       "    </tr>\n",
       "    <tr>\n",
       "      <th id=\"T_5ef76_level0_row10\" class=\"row_heading level0 row10\" >nb</th>\n",
       "      <td id=\"T_5ef76_row10_col0\" class=\"data row10 col0\" >Naive Bayes</td>\n",
       "      <td id=\"T_5ef76_row10_col1\" class=\"data row10 col1\" >0.6794</td>\n",
       "      <td id=\"T_5ef76_row10_col2\" class=\"data row10 col2\" >0.7647</td>\n",
       "      <td id=\"T_5ef76_row10_col3\" class=\"data row10 col3\" >0.6709</td>\n",
       "      <td id=\"T_5ef76_row10_col4\" class=\"data row10 col4\" >0.6826</td>\n",
       "      <td id=\"T_5ef76_row10_col5\" class=\"data row10 col5\" >0.6761</td>\n",
       "      <td id=\"T_5ef76_row10_col6\" class=\"data row10 col6\" >0.3588</td>\n",
       "      <td id=\"T_5ef76_row10_col7\" class=\"data row10 col7\" >0.3594</td>\n",
       "      <td id=\"T_5ef76_row10_col8\" class=\"data row10 col8\" >0.0860</td>\n",
       "    </tr>\n",
       "    <tr>\n",
       "      <th id=\"T_5ef76_level0_row11\" class=\"row_heading level0 row11\" >ridge</th>\n",
       "      <td id=\"T_5ef76_row11_col0\" class=\"data row11 col0\" >Ridge Classifier</td>\n",
       "      <td id=\"T_5ef76_row11_col1\" class=\"data row11 col1\" >0.6483</td>\n",
       "      <td id=\"T_5ef76_row11_col2\" class=\"data row11 col2\" >0.6739</td>\n",
       "      <td id=\"T_5ef76_row11_col3\" class=\"data row11 col3\" >0.7137</td>\n",
       "      <td id=\"T_5ef76_row11_col4\" class=\"data row11 col4\" >0.6314</td>\n",
       "      <td id=\"T_5ef76_row11_col5\" class=\"data row11 col5\" >0.6696</td>\n",
       "      <td id=\"T_5ef76_row11_col6\" class=\"data row11 col6\" >0.2967</td>\n",
       "      <td id=\"T_5ef76_row11_col7\" class=\"data row11 col7\" >0.3000</td>\n",
       "      <td id=\"T_5ef76_row11_col8\" class=\"data row11 col8\" >0.1120</td>\n",
       "    </tr>\n",
       "    <tr>\n",
       "      <th id=\"T_5ef76_level0_row12\" class=\"row_heading level0 row12\" >lda</th>\n",
       "      <td id=\"T_5ef76_row12_col0\" class=\"data row12 col0\" >Linear Discriminant Analysis</td>\n",
       "      <td id=\"T_5ef76_row12_col1\" class=\"data row12 col1\" >0.6477</td>\n",
       "      <td id=\"T_5ef76_row12_col2\" class=\"data row12 col2\" >0.6741</td>\n",
       "      <td id=\"T_5ef76_row12_col3\" class=\"data row12 col3\" >0.7124</td>\n",
       "      <td id=\"T_5ef76_row12_col4\" class=\"data row12 col4\" >0.6311</td>\n",
       "      <td id=\"T_5ef76_row12_col5\" class=\"data row12 col5\" >0.6689</td>\n",
       "      <td id=\"T_5ef76_row12_col6\" class=\"data row12 col6\" >0.2954</td>\n",
       "      <td id=\"T_5ef76_row12_col7\" class=\"data row12 col7\" >0.2985</td>\n",
       "      <td id=\"T_5ef76_row12_col8\" class=\"data row12 col8\" >0.0820</td>\n",
       "    </tr>\n",
       "    <tr>\n",
       "      <th id=\"T_5ef76_level0_row13\" class=\"row_heading level0 row13\" >lr</th>\n",
       "      <td id=\"T_5ef76_row13_col0\" class=\"data row13 col0\" >Logistic Regression</td>\n",
       "      <td id=\"T_5ef76_row13_col1\" class=\"data row13 col1\" >0.6464</td>\n",
       "      <td id=\"T_5ef76_row13_col2\" class=\"data row13 col2\" >0.6734</td>\n",
       "      <td id=\"T_5ef76_row13_col3\" class=\"data row13 col3\" >0.7098</td>\n",
       "      <td id=\"T_5ef76_row13_col4\" class=\"data row13 col4\" >0.6302</td>\n",
       "      <td id=\"T_5ef76_row13_col5\" class=\"data row13 col5\" >0.6672</td>\n",
       "      <td id=\"T_5ef76_row13_col6\" class=\"data row13 col6\" >0.2928</td>\n",
       "      <td id=\"T_5ef76_row13_col7\" class=\"data row13 col7\" >0.2958</td>\n",
       "      <td id=\"T_5ef76_row13_col8\" class=\"data row13 col8\" >3.2020</td>\n",
       "    </tr>\n",
       "    <tr>\n",
       "      <th id=\"T_5ef76_level0_row14\" class=\"row_heading level0 row14\" >svm</th>\n",
       "      <td id=\"T_5ef76_row14_col0\" class=\"data row14 col0\" >SVM - Linear Kernel</td>\n",
       "      <td id=\"T_5ef76_row14_col1\" class=\"data row14 col1\" >0.6406</td>\n",
       "      <td id=\"T_5ef76_row14_col2\" class=\"data row14 col2\" >0.6628</td>\n",
       "      <td id=\"T_5ef76_row14_col3\" class=\"data row14 col3\" >0.7150</td>\n",
       "      <td id=\"T_5ef76_row14_col4\" class=\"data row14 col4\" >0.6226</td>\n",
       "      <td id=\"T_5ef76_row14_col5\" class=\"data row14 col5\" >0.6651</td>\n",
       "      <td id=\"T_5ef76_row14_col6\" class=\"data row14 col6\" >0.2811</td>\n",
       "      <td id=\"T_5ef76_row14_col7\" class=\"data row14 col7\" >0.2851</td>\n",
       "      <td id=\"T_5ef76_row14_col8\" class=\"data row14 col8\" >0.0690</td>\n",
       "    </tr>\n",
       "    <tr>\n",
       "      <th id=\"T_5ef76_level0_row15\" class=\"row_heading level0 row15\" >dummy</th>\n",
       "      <td id=\"T_5ef76_row15_col0\" class=\"data row15 col0\" >Dummy Classifier</td>\n",
       "      <td id=\"T_5ef76_row15_col1\" class=\"data row15 col1\" >0.4987</td>\n",
       "      <td id=\"T_5ef76_row15_col2\" class=\"data row15 col2\" >0.5000</td>\n",
       "      <td id=\"T_5ef76_row15_col3\" class=\"data row15 col3\" >0.2000</td>\n",
       "      <td id=\"T_5ef76_row15_col4\" class=\"data row15 col4\" >0.0994</td>\n",
       "      <td id=\"T_5ef76_row15_col5\" class=\"data row15 col5\" >0.1328</td>\n",
       "      <td id=\"T_5ef76_row15_col6\" class=\"data row15 col6\" >0.0000</td>\n",
       "      <td id=\"T_5ef76_row15_col7\" class=\"data row15 col7\" >0.0000</td>\n",
       "      <td id=\"T_5ef76_row15_col8\" class=\"data row15 col8\" >0.0950</td>\n",
       "    </tr>\n",
       "  </tbody>\n",
       "</table>\n"
      ],
      "text/plain": [
       "<pandas.io.formats.style.Styler at 0x2484db09110>"
      ]
     },
     "metadata": {},
     "output_type": "display_data"
    },
    {
     "data": {
      "text/html": [],
      "text/plain": [
       "<IPython.core.display.HTML object>"
      ]
     },
     "metadata": {},
     "output_type": "display_data"
    },
    {
     "data": {
      "text/html": [
       "<style>#sk-container-id-9 {\n",
       "  /* Definition of color scheme common for light and dark mode */\n",
       "  --sklearn-color-text: black;\n",
       "  --sklearn-color-line: gray;\n",
       "  /* Definition of color scheme for unfitted estimators */\n",
       "  --sklearn-color-unfitted-level-0: #fff5e6;\n",
       "  --sklearn-color-unfitted-level-1: #f6e4d2;\n",
       "  --sklearn-color-unfitted-level-2: #ffe0b3;\n",
       "  --sklearn-color-unfitted-level-3: chocolate;\n",
       "  /* Definition of color scheme for fitted estimators */\n",
       "  --sklearn-color-fitted-level-0: #f0f8ff;\n",
       "  --sklearn-color-fitted-level-1: #d4ebff;\n",
       "  --sklearn-color-fitted-level-2: #b3dbfd;\n",
       "  --sklearn-color-fitted-level-3: cornflowerblue;\n",
       "\n",
       "  /* Specific color for light theme */\n",
       "  --sklearn-color-text-on-default-background: var(--sg-text-color, var(--theme-code-foreground, var(--jp-content-font-color1, black)));\n",
       "  --sklearn-color-background: var(--sg-background-color, var(--theme-background, var(--jp-layout-color0, white)));\n",
       "  --sklearn-color-border-box: var(--sg-text-color, var(--theme-code-foreground, var(--jp-content-font-color1, black)));\n",
       "  --sklearn-color-icon: #696969;\n",
       "\n",
       "  @media (prefers-color-scheme: dark) {\n",
       "    /* Redefinition of color scheme for dark theme */\n",
       "    --sklearn-color-text-on-default-background: var(--sg-text-color, var(--theme-code-foreground, var(--jp-content-font-color1, white)));\n",
       "    --sklearn-color-background: var(--sg-background-color, var(--theme-background, var(--jp-layout-color0, #111)));\n",
       "    --sklearn-color-border-box: var(--sg-text-color, var(--theme-code-foreground, var(--jp-content-font-color1, white)));\n",
       "    --sklearn-color-icon: #878787;\n",
       "  }\n",
       "}\n",
       "\n",
       "#sk-container-id-9 {\n",
       "  color: var(--sklearn-color-text);\n",
       "}\n",
       "\n",
       "#sk-container-id-9 pre {\n",
       "  padding: 0;\n",
       "}\n",
       "\n",
       "#sk-container-id-9 input.sk-hidden--visually {\n",
       "  border: 0;\n",
       "  clip: rect(1px 1px 1px 1px);\n",
       "  clip: rect(1px, 1px, 1px, 1px);\n",
       "  height: 1px;\n",
       "  margin: -1px;\n",
       "  overflow: hidden;\n",
       "  padding: 0;\n",
       "  position: absolute;\n",
       "  width: 1px;\n",
       "}\n",
       "\n",
       "#sk-container-id-9 div.sk-dashed-wrapped {\n",
       "  border: 1px dashed var(--sklearn-color-line);\n",
       "  margin: 0 0.4em 0.5em 0.4em;\n",
       "  box-sizing: border-box;\n",
       "  padding-bottom: 0.4em;\n",
       "  background-color: var(--sklearn-color-background);\n",
       "}\n",
       "\n",
       "#sk-container-id-9 div.sk-container {\n",
       "  /* jupyter's `normalize.less` sets `[hidden] { display: none; }`\n",
       "     but bootstrap.min.css set `[hidden] { display: none !important; }`\n",
       "     so we also need the `!important` here to be able to override the\n",
       "     default hidden behavior on the sphinx rendered scikit-learn.org.\n",
       "     See: https://github.com/scikit-learn/scikit-learn/issues/21755 */\n",
       "  display: inline-block !important;\n",
       "  position: relative;\n",
       "}\n",
       "\n",
       "#sk-container-id-9 div.sk-text-repr-fallback {\n",
       "  display: none;\n",
       "}\n",
       "\n",
       "div.sk-parallel-item,\n",
       "div.sk-serial,\n",
       "div.sk-item {\n",
       "  /* draw centered vertical line to link estimators */\n",
       "  background-image: linear-gradient(var(--sklearn-color-text-on-default-background), var(--sklearn-color-text-on-default-background));\n",
       "  background-size: 2px 100%;\n",
       "  background-repeat: no-repeat;\n",
       "  background-position: center center;\n",
       "}\n",
       "\n",
       "/* Parallel-specific style estimator block */\n",
       "\n",
       "#sk-container-id-9 div.sk-parallel-item::after {\n",
       "  content: \"\";\n",
       "  width: 100%;\n",
       "  border-bottom: 2px solid var(--sklearn-color-text-on-default-background);\n",
       "  flex-grow: 1;\n",
       "}\n",
       "\n",
       "#sk-container-id-9 div.sk-parallel {\n",
       "  display: flex;\n",
       "  align-items: stretch;\n",
       "  justify-content: center;\n",
       "  background-color: var(--sklearn-color-background);\n",
       "  position: relative;\n",
       "}\n",
       "\n",
       "#sk-container-id-9 div.sk-parallel-item {\n",
       "  display: flex;\n",
       "  flex-direction: column;\n",
       "}\n",
       "\n",
       "#sk-container-id-9 div.sk-parallel-item:first-child::after {\n",
       "  align-self: flex-end;\n",
       "  width: 50%;\n",
       "}\n",
       "\n",
       "#sk-container-id-9 div.sk-parallel-item:last-child::after {\n",
       "  align-self: flex-start;\n",
       "  width: 50%;\n",
       "}\n",
       "\n",
       "#sk-container-id-9 div.sk-parallel-item:only-child::after {\n",
       "  width: 0;\n",
       "}\n",
       "\n",
       "/* Serial-specific style estimator block */\n",
       "\n",
       "#sk-container-id-9 div.sk-serial {\n",
       "  display: flex;\n",
       "  flex-direction: column;\n",
       "  align-items: center;\n",
       "  background-color: var(--sklearn-color-background);\n",
       "  padding-right: 1em;\n",
       "  padding-left: 1em;\n",
       "}\n",
       "\n",
       "\n",
       "/* Toggleable style: style used for estimator/Pipeline/ColumnTransformer box that is\n",
       "clickable and can be expanded/collapsed.\n",
       "- Pipeline and ColumnTransformer use this feature and define the default style\n",
       "- Estimators will overwrite some part of the style using the `sk-estimator` class\n",
       "*/\n",
       "\n",
       "/* Pipeline and ColumnTransformer style (default) */\n",
       "\n",
       "#sk-container-id-9 div.sk-toggleable {\n",
       "  /* Default theme specific background. It is overwritten whether we have a\n",
       "  specific estimator or a Pipeline/ColumnTransformer */\n",
       "  background-color: var(--sklearn-color-background);\n",
       "}\n",
       "\n",
       "/* Toggleable label */\n",
       "#sk-container-id-9 label.sk-toggleable__label {\n",
       "  cursor: pointer;\n",
       "  display: block;\n",
       "  width: 100%;\n",
       "  margin-bottom: 0;\n",
       "  padding: 0.5em;\n",
       "  box-sizing: border-box;\n",
       "  text-align: center;\n",
       "}\n",
       "\n",
       "#sk-container-id-9 label.sk-toggleable__label-arrow:before {\n",
       "  /* Arrow on the left of the label */\n",
       "  content: \"▸\";\n",
       "  float: left;\n",
       "  margin-right: 0.25em;\n",
       "  color: var(--sklearn-color-icon);\n",
       "}\n",
       "\n",
       "#sk-container-id-9 label.sk-toggleable__label-arrow:hover:before {\n",
       "  color: var(--sklearn-color-text);\n",
       "}\n",
       "\n",
       "/* Toggleable content - dropdown */\n",
       "\n",
       "#sk-container-id-9 div.sk-toggleable__content {\n",
       "  max-height: 0;\n",
       "  max-width: 0;\n",
       "  overflow: hidden;\n",
       "  text-align: left;\n",
       "  /* unfitted */\n",
       "  background-color: var(--sklearn-color-unfitted-level-0);\n",
       "}\n",
       "\n",
       "#sk-container-id-9 div.sk-toggleable__content.fitted {\n",
       "  /* fitted */\n",
       "  background-color: var(--sklearn-color-fitted-level-0);\n",
       "}\n",
       "\n",
       "#sk-container-id-9 div.sk-toggleable__content pre {\n",
       "  margin: 0.2em;\n",
       "  border-radius: 0.25em;\n",
       "  color: var(--sklearn-color-text);\n",
       "  /* unfitted */\n",
       "  background-color: var(--sklearn-color-unfitted-level-0);\n",
       "}\n",
       "\n",
       "#sk-container-id-9 div.sk-toggleable__content.fitted pre {\n",
       "  /* unfitted */\n",
       "  background-color: var(--sklearn-color-fitted-level-0);\n",
       "}\n",
       "\n",
       "#sk-container-id-9 input.sk-toggleable__control:checked~div.sk-toggleable__content {\n",
       "  /* Expand drop-down */\n",
       "  max-height: 200px;\n",
       "  max-width: 100%;\n",
       "  overflow: auto;\n",
       "}\n",
       "\n",
       "#sk-container-id-9 input.sk-toggleable__control:checked~label.sk-toggleable__label-arrow:before {\n",
       "  content: \"▾\";\n",
       "}\n",
       "\n",
       "/* Pipeline/ColumnTransformer-specific style */\n",
       "\n",
       "#sk-container-id-9 div.sk-label input.sk-toggleable__control:checked~label.sk-toggleable__label {\n",
       "  color: var(--sklearn-color-text);\n",
       "  background-color: var(--sklearn-color-unfitted-level-2);\n",
       "}\n",
       "\n",
       "#sk-container-id-9 div.sk-label.fitted input.sk-toggleable__control:checked~label.sk-toggleable__label {\n",
       "  background-color: var(--sklearn-color-fitted-level-2);\n",
       "}\n",
       "\n",
       "/* Estimator-specific style */\n",
       "\n",
       "/* Colorize estimator box */\n",
       "#sk-container-id-9 div.sk-estimator input.sk-toggleable__control:checked~label.sk-toggleable__label {\n",
       "  /* unfitted */\n",
       "  background-color: var(--sklearn-color-unfitted-level-2);\n",
       "}\n",
       "\n",
       "#sk-container-id-9 div.sk-estimator.fitted input.sk-toggleable__control:checked~label.sk-toggleable__label {\n",
       "  /* fitted */\n",
       "  background-color: var(--sklearn-color-fitted-level-2);\n",
       "}\n",
       "\n",
       "#sk-container-id-9 div.sk-label label.sk-toggleable__label,\n",
       "#sk-container-id-9 div.sk-label label {\n",
       "  /* The background is the default theme color */\n",
       "  color: var(--sklearn-color-text-on-default-background);\n",
       "}\n",
       "\n",
       "/* On hover, darken the color of the background */\n",
       "#sk-container-id-9 div.sk-label:hover label.sk-toggleable__label {\n",
       "  color: var(--sklearn-color-text);\n",
       "  background-color: var(--sklearn-color-unfitted-level-2);\n",
       "}\n",
       "\n",
       "/* Label box, darken color on hover, fitted */\n",
       "#sk-container-id-9 div.sk-label.fitted:hover label.sk-toggleable__label.fitted {\n",
       "  color: var(--sklearn-color-text);\n",
       "  background-color: var(--sklearn-color-fitted-level-2);\n",
       "}\n",
       "\n",
       "/* Estimator label */\n",
       "\n",
       "#sk-container-id-9 div.sk-label label {\n",
       "  font-family: monospace;\n",
       "  font-weight: bold;\n",
       "  display: inline-block;\n",
       "  line-height: 1.2em;\n",
       "}\n",
       "\n",
       "#sk-container-id-9 div.sk-label-container {\n",
       "  text-align: center;\n",
       "}\n",
       "\n",
       "/* Estimator-specific */\n",
       "#sk-container-id-9 div.sk-estimator {\n",
       "  font-family: monospace;\n",
       "  border: 1px dotted var(--sklearn-color-border-box);\n",
       "  border-radius: 0.25em;\n",
       "  box-sizing: border-box;\n",
       "  margin-bottom: 0.5em;\n",
       "  /* unfitted */\n",
       "  background-color: var(--sklearn-color-unfitted-level-0);\n",
       "}\n",
       "\n",
       "#sk-container-id-9 div.sk-estimator.fitted {\n",
       "  /* fitted */\n",
       "  background-color: var(--sklearn-color-fitted-level-0);\n",
       "}\n",
       "\n",
       "/* on hover */\n",
       "#sk-container-id-9 div.sk-estimator:hover {\n",
       "  /* unfitted */\n",
       "  background-color: var(--sklearn-color-unfitted-level-2);\n",
       "}\n",
       "\n",
       "#sk-container-id-9 div.sk-estimator.fitted:hover {\n",
       "  /* fitted */\n",
       "  background-color: var(--sklearn-color-fitted-level-2);\n",
       "}\n",
       "\n",
       "/* Specification for estimator info (e.g. \"i\" and \"?\") */\n",
       "\n",
       "/* Common style for \"i\" and \"?\" */\n",
       "\n",
       ".sk-estimator-doc-link,\n",
       "a:link.sk-estimator-doc-link,\n",
       "a:visited.sk-estimator-doc-link {\n",
       "  float: right;\n",
       "  font-size: smaller;\n",
       "  line-height: 1em;\n",
       "  font-family: monospace;\n",
       "  background-color: var(--sklearn-color-background);\n",
       "  border-radius: 1em;\n",
       "  height: 1em;\n",
       "  width: 1em;\n",
       "  text-decoration: none !important;\n",
       "  margin-left: 1ex;\n",
       "  /* unfitted */\n",
       "  border: var(--sklearn-color-unfitted-level-1) 1pt solid;\n",
       "  color: var(--sklearn-color-unfitted-level-1);\n",
       "}\n",
       "\n",
       ".sk-estimator-doc-link.fitted,\n",
       "a:link.sk-estimator-doc-link.fitted,\n",
       "a:visited.sk-estimator-doc-link.fitted {\n",
       "  /* fitted */\n",
       "  border: var(--sklearn-color-fitted-level-1) 1pt solid;\n",
       "  color: var(--sklearn-color-fitted-level-1);\n",
       "}\n",
       "\n",
       "/* On hover */\n",
       "div.sk-estimator:hover .sk-estimator-doc-link:hover,\n",
       ".sk-estimator-doc-link:hover,\n",
       "div.sk-label-container:hover .sk-estimator-doc-link:hover,\n",
       ".sk-estimator-doc-link:hover {\n",
       "  /* unfitted */\n",
       "  background-color: var(--sklearn-color-unfitted-level-3);\n",
       "  color: var(--sklearn-color-background);\n",
       "  text-decoration: none;\n",
       "}\n",
       "\n",
       "div.sk-estimator.fitted:hover .sk-estimator-doc-link.fitted:hover,\n",
       ".sk-estimator-doc-link.fitted:hover,\n",
       "div.sk-label-container:hover .sk-estimator-doc-link.fitted:hover,\n",
       ".sk-estimator-doc-link.fitted:hover {\n",
       "  /* fitted */\n",
       "  background-color: var(--sklearn-color-fitted-level-3);\n",
       "  color: var(--sklearn-color-background);\n",
       "  text-decoration: none;\n",
       "}\n",
       "\n",
       "/* Span, style for the box shown on hovering the info icon */\n",
       ".sk-estimator-doc-link span {\n",
       "  display: none;\n",
       "  z-index: 9999;\n",
       "  position: relative;\n",
       "  font-weight: normal;\n",
       "  right: .2ex;\n",
       "  padding: .5ex;\n",
       "  margin: .5ex;\n",
       "  width: min-content;\n",
       "  min-width: 20ex;\n",
       "  max-width: 50ex;\n",
       "  color: var(--sklearn-color-text);\n",
       "  box-shadow: 2pt 2pt 4pt #999;\n",
       "  /* unfitted */\n",
       "  background: var(--sklearn-color-unfitted-level-0);\n",
       "  border: .5pt solid var(--sklearn-color-unfitted-level-3);\n",
       "}\n",
       "\n",
       ".sk-estimator-doc-link.fitted span {\n",
       "  /* fitted */\n",
       "  background: var(--sklearn-color-fitted-level-0);\n",
       "  border: var(--sklearn-color-fitted-level-3);\n",
       "}\n",
       "\n",
       ".sk-estimator-doc-link:hover span {\n",
       "  display: block;\n",
       "}\n",
       "\n",
       "/* \"?\"-specific style due to the `<a>` HTML tag */\n",
       "\n",
       "#sk-container-id-9 a.estimator_doc_link {\n",
       "  float: right;\n",
       "  font-size: 1rem;\n",
       "  line-height: 1em;\n",
       "  font-family: monospace;\n",
       "  background-color: var(--sklearn-color-background);\n",
       "  border-radius: 1rem;\n",
       "  height: 1rem;\n",
       "  width: 1rem;\n",
       "  text-decoration: none;\n",
       "  /* unfitted */\n",
       "  color: var(--sklearn-color-unfitted-level-1);\n",
       "  border: var(--sklearn-color-unfitted-level-1) 1pt solid;\n",
       "}\n",
       "\n",
       "#sk-container-id-9 a.estimator_doc_link.fitted {\n",
       "  /* fitted */\n",
       "  border: var(--sklearn-color-fitted-level-1) 1pt solid;\n",
       "  color: var(--sklearn-color-fitted-level-1);\n",
       "}\n",
       "\n",
       "/* On hover */\n",
       "#sk-container-id-9 a.estimator_doc_link:hover {\n",
       "  /* unfitted */\n",
       "  background-color: var(--sklearn-color-unfitted-level-3);\n",
       "  color: var(--sklearn-color-background);\n",
       "  text-decoration: none;\n",
       "}\n",
       "\n",
       "#sk-container-id-9 a.estimator_doc_link.fitted:hover {\n",
       "  /* fitted */\n",
       "  background-color: var(--sklearn-color-fitted-level-3);\n",
       "}\n",
       "</style><div id=\"sk-container-id-9\" class=\"sk-top-container\"><div class=\"sk-text-repr-fallback\"><pre>LGBMClassifier(boosting_type=&#x27;gbdt&#x27;, class_weight=None, colsample_bytree=1.0,\n",
       "               importance_type=&#x27;split&#x27;, learning_rate=0.1, max_depth=-1,\n",
       "               min_child_samples=20, min_child_weight=0.001, min_split_gain=0.0,\n",
       "               n_estimators=100, n_jobs=-1, num_leaves=31, objective=None,\n",
       "               random_state=123, reg_alpha=0.0, reg_lambda=0.0, subsample=1.0,\n",
       "               subsample_for_bin=200000, subsample_freq=0)</pre><b>In a Jupyter environment, please rerun this cell to show the HTML representation or trust the notebook. <br />On GitHub, the HTML representation is unable to render, please try loading this page with nbviewer.org.</b></div><div class=\"sk-container\" hidden><div class=\"sk-item\"><div class=\"sk-estimator fitted sk-toggleable\"><input class=\"sk-toggleable__control sk-hidden--visually\" id=\"sk-estimator-id-9\" type=\"checkbox\" checked><label for=\"sk-estimator-id-9\" class=\"sk-toggleable__label fitted sk-toggleable__label-arrow fitted\">&nbsp;LGBMClassifier<span class=\"sk-estimator-doc-link fitted\">i<span>Fitted</span></span></label><div class=\"sk-toggleable__content fitted\"><pre>LGBMClassifier(boosting_type=&#x27;gbdt&#x27;, class_weight=None, colsample_bytree=1.0,\n",
       "               importance_type=&#x27;split&#x27;, learning_rate=0.1, max_depth=-1,\n",
       "               min_child_samples=20, min_child_weight=0.001, min_split_gain=0.0,\n",
       "               n_estimators=100, n_jobs=-1, num_leaves=31, objective=None,\n",
       "               random_state=123, reg_alpha=0.0, reg_lambda=0.0, subsample=1.0,\n",
       "               subsample_for_bin=200000, subsample_freq=0)</pre></div> </div></div></div></div>"
      ],
      "text/plain": [
       "LGBMClassifier(boosting_type='gbdt', class_weight=None, colsample_bytree=1.0,\n",
       "               importance_type='split', learning_rate=0.1, max_depth=-1,\n",
       "               min_child_samples=20, min_child_weight=0.001, min_split_gain=0.0,\n",
       "               n_estimators=100, n_jobs=-1, num_leaves=31, objective=None,\n",
       "               random_state=123, reg_alpha=0.0, reg_lambda=0.0, subsample=1.0,\n",
       "               subsample_for_bin=200000, subsample_freq=0)"
      ]
     },
     "execution_count": 316,
     "metadata": {},
     "output_type": "execute_result"
    }
   ],
   "source": [
    "compare_models()"
   ]
  },
  {
   "cell_type": "markdown",
   "id": "6a2db688",
   "metadata": {},
   "source": [
    "je choisis random forest car je ne suis pas très à l'aise avec les 3 premiers meilleurs modèle et random forest a un très bon résultat"
   ]
  },
  {
   "cell_type": "code",
   "execution_count": 317,
   "id": "adc2e1fd",
   "metadata": {},
   "outputs": [
    {
     "data": {
      "text/html": [],
      "text/plain": [
       "<IPython.core.display.HTML object>"
      ]
     },
     "metadata": {},
     "output_type": "display_data"
    },
    {
     "data": {
      "text/html": [
       "<style type=\"text/css\">\n",
       "#T_51d0e_row10_col0, #T_51d0e_row10_col1, #T_51d0e_row10_col2, #T_51d0e_row10_col3, #T_51d0e_row10_col4, #T_51d0e_row10_col5, #T_51d0e_row10_col6 {\n",
       "  background: yellow;\n",
       "}\n",
       "</style>\n",
       "<table id=\"T_51d0e\">\n",
       "  <thead>\n",
       "    <tr>\n",
       "      <th class=\"blank level0\" >&nbsp;</th>\n",
       "      <th id=\"T_51d0e_level0_col0\" class=\"col_heading level0 col0\" >Accuracy</th>\n",
       "      <th id=\"T_51d0e_level0_col1\" class=\"col_heading level0 col1\" >AUC</th>\n",
       "      <th id=\"T_51d0e_level0_col2\" class=\"col_heading level0 col2\" >Recall</th>\n",
       "      <th id=\"T_51d0e_level0_col3\" class=\"col_heading level0 col3\" >Prec.</th>\n",
       "      <th id=\"T_51d0e_level0_col4\" class=\"col_heading level0 col4\" >F1</th>\n",
       "      <th id=\"T_51d0e_level0_col5\" class=\"col_heading level0 col5\" >Kappa</th>\n",
       "      <th id=\"T_51d0e_level0_col6\" class=\"col_heading level0 col6\" >MCC</th>\n",
       "    </tr>\n",
       "    <tr>\n",
       "      <th class=\"index_name level0\" >Fold</th>\n",
       "      <th class=\"blank col0\" >&nbsp;</th>\n",
       "      <th class=\"blank col1\" >&nbsp;</th>\n",
       "      <th class=\"blank col2\" >&nbsp;</th>\n",
       "      <th class=\"blank col3\" >&nbsp;</th>\n",
       "      <th class=\"blank col4\" >&nbsp;</th>\n",
       "      <th class=\"blank col5\" >&nbsp;</th>\n",
       "      <th class=\"blank col6\" >&nbsp;</th>\n",
       "    </tr>\n",
       "  </thead>\n",
       "  <tbody>\n",
       "    <tr>\n",
       "      <th id=\"T_51d0e_level0_row0\" class=\"row_heading level0 row0\" >0</th>\n",
       "      <td id=\"T_51d0e_row0_col0\" class=\"data row0 col0\" >0.9613</td>\n",
       "      <td id=\"T_51d0e_row0_col1\" class=\"data row0 col1\" >0.9937</td>\n",
       "      <td id=\"T_51d0e_row0_col2\" class=\"data row0 col2\" >0.9615</td>\n",
       "      <td id=\"T_51d0e_row0_col3\" class=\"data row0 col3\" >0.9615</td>\n",
       "      <td id=\"T_51d0e_row0_col4\" class=\"data row0 col4\" >0.9615</td>\n",
       "      <td id=\"T_51d0e_row0_col5\" class=\"data row0 col5\" >0.9226</td>\n",
       "      <td id=\"T_51d0e_row0_col6\" class=\"data row0 col6\" >0.9226</td>\n",
       "    </tr>\n",
       "    <tr>\n",
       "      <th id=\"T_51d0e_level0_row1\" class=\"row_heading level0 row1\" >1</th>\n",
       "      <td id=\"T_51d0e_row1_col0\" class=\"data row1 col0\" >0.9484</td>\n",
       "      <td id=\"T_51d0e_row1_col1\" class=\"data row1 col1\" >0.9930</td>\n",
       "      <td id=\"T_51d0e_row1_col2\" class=\"data row1 col2\" >0.9231</td>\n",
       "      <td id=\"T_51d0e_row1_col3\" class=\"data row1 col3\" >0.9730</td>\n",
       "      <td id=\"T_51d0e_row1_col4\" class=\"data row1 col4\" >0.9474</td>\n",
       "      <td id=\"T_51d0e_row1_col5\" class=\"data row1 col5\" >0.8968</td>\n",
       "      <td id=\"T_51d0e_row1_col6\" class=\"data row1 col6\" >0.8980</td>\n",
       "    </tr>\n",
       "    <tr>\n",
       "      <th id=\"T_51d0e_level0_row2\" class=\"row_heading level0 row2\" >2</th>\n",
       "      <td id=\"T_51d0e_row2_col0\" class=\"data row2 col0\" >0.9226</td>\n",
       "      <td id=\"T_51d0e_row2_col1\" class=\"data row2 col1\" >0.9795</td>\n",
       "      <td id=\"T_51d0e_row2_col2\" class=\"data row2 col2\" >0.8831</td>\n",
       "      <td id=\"T_51d0e_row2_col3\" class=\"data row2 col3\" >0.9577</td>\n",
       "      <td id=\"T_51d0e_row2_col4\" class=\"data row2 col4\" >0.9189</td>\n",
       "      <td id=\"T_51d0e_row2_col5\" class=\"data row2 col5\" >0.8451</td>\n",
       "      <td id=\"T_51d0e_row2_col6\" class=\"data row2 col6\" >0.8476</td>\n",
       "    </tr>\n",
       "    <tr>\n",
       "      <th id=\"T_51d0e_level0_row3\" class=\"row_heading level0 row3\" >3</th>\n",
       "      <td id=\"T_51d0e_row3_col0\" class=\"data row3 col0\" >0.9742</td>\n",
       "      <td id=\"T_51d0e_row3_col1\" class=\"data row3 col1\" >0.9979</td>\n",
       "      <td id=\"T_51d0e_row3_col2\" class=\"data row3 col2\" >1.0000</td>\n",
       "      <td id=\"T_51d0e_row3_col3\" class=\"data row3 col3\" >0.9506</td>\n",
       "      <td id=\"T_51d0e_row3_col4\" class=\"data row3 col4\" >0.9747</td>\n",
       "      <td id=\"T_51d0e_row3_col5\" class=\"data row3 col5\" >0.9484</td>\n",
       "      <td id=\"T_51d0e_row3_col6\" class=\"data row3 col6\" >0.9497</td>\n",
       "    </tr>\n",
       "    <tr>\n",
       "      <th id=\"T_51d0e_level0_row4\" class=\"row_heading level0 row4\" >4</th>\n",
       "      <td id=\"T_51d0e_row4_col0\" class=\"data row4 col0\" >0.9610</td>\n",
       "      <td id=\"T_51d0e_row4_col1\" class=\"data row4 col1\" >0.9974</td>\n",
       "      <td id=\"T_51d0e_row4_col2\" class=\"data row4 col2\" >0.9481</td>\n",
       "      <td id=\"T_51d0e_row4_col3\" class=\"data row4 col3\" >0.9733</td>\n",
       "      <td id=\"T_51d0e_row4_col4\" class=\"data row4 col4\" >0.9605</td>\n",
       "      <td id=\"T_51d0e_row4_col5\" class=\"data row4 col5\" >0.9221</td>\n",
       "      <td id=\"T_51d0e_row4_col6\" class=\"data row4 col6\" >0.9224</td>\n",
       "    </tr>\n",
       "    <tr>\n",
       "      <th id=\"T_51d0e_level0_row5\" class=\"row_heading level0 row5\" >5</th>\n",
       "      <td id=\"T_51d0e_row5_col0\" class=\"data row5 col0\" >0.9610</td>\n",
       "      <td id=\"T_51d0e_row5_col1\" class=\"data row5 col1\" >0.9960</td>\n",
       "      <td id=\"T_51d0e_row5_col2\" class=\"data row5 col2\" >0.9481</td>\n",
       "      <td id=\"T_51d0e_row5_col3\" class=\"data row5 col3\" >0.9733</td>\n",
       "      <td id=\"T_51d0e_row5_col4\" class=\"data row5 col4\" >0.9605</td>\n",
       "      <td id=\"T_51d0e_row5_col5\" class=\"data row5 col5\" >0.9221</td>\n",
       "      <td id=\"T_51d0e_row5_col6\" class=\"data row5 col6\" >0.9224</td>\n",
       "    </tr>\n",
       "    <tr>\n",
       "      <th id=\"T_51d0e_level0_row6\" class=\"row_heading level0 row6\" >6</th>\n",
       "      <td id=\"T_51d0e_row6_col0\" class=\"data row6 col0\" >0.9675</td>\n",
       "      <td id=\"T_51d0e_row6_col1\" class=\"data row6 col1\" >0.9949</td>\n",
       "      <td id=\"T_51d0e_row6_col2\" class=\"data row6 col2\" >0.9740</td>\n",
       "      <td id=\"T_51d0e_row6_col3\" class=\"data row6 col3\" >0.9615</td>\n",
       "      <td id=\"T_51d0e_row6_col4\" class=\"data row6 col4\" >0.9677</td>\n",
       "      <td id=\"T_51d0e_row6_col5\" class=\"data row6 col5\" >0.9351</td>\n",
       "      <td id=\"T_51d0e_row6_col6\" class=\"data row6 col6\" >0.9351</td>\n",
       "    </tr>\n",
       "    <tr>\n",
       "      <th id=\"T_51d0e_level0_row7\" class=\"row_heading level0 row7\" >7</th>\n",
       "      <td id=\"T_51d0e_row7_col0\" class=\"data row7 col0\" >0.9740</td>\n",
       "      <td id=\"T_51d0e_row7_col1\" class=\"data row7 col1\" >0.9965</td>\n",
       "      <td id=\"T_51d0e_row7_col2\" class=\"data row7 col2\" >0.9481</td>\n",
       "      <td id=\"T_51d0e_row7_col3\" class=\"data row7 col3\" >1.0000</td>\n",
       "      <td id=\"T_51d0e_row7_col4\" class=\"data row7 col4\" >0.9733</td>\n",
       "      <td id=\"T_51d0e_row7_col5\" class=\"data row7 col5\" >0.9481</td>\n",
       "      <td id=\"T_51d0e_row7_col6\" class=\"data row7 col6\" >0.9493</td>\n",
       "    </tr>\n",
       "    <tr>\n",
       "      <th id=\"T_51d0e_level0_row8\" class=\"row_heading level0 row8\" >8</th>\n",
       "      <td id=\"T_51d0e_row8_col0\" class=\"data row8 col0\" >0.9610</td>\n",
       "      <td id=\"T_51d0e_row8_col1\" class=\"data row8 col1\" >0.9914</td>\n",
       "      <td id=\"T_51d0e_row8_col2\" class=\"data row8 col2\" >0.9870</td>\n",
       "      <td id=\"T_51d0e_row8_col3\" class=\"data row8 col3\" >0.9383</td>\n",
       "      <td id=\"T_51d0e_row8_col4\" class=\"data row8 col4\" >0.9620</td>\n",
       "      <td id=\"T_51d0e_row8_col5\" class=\"data row8 col5\" >0.9221</td>\n",
       "      <td id=\"T_51d0e_row8_col6\" class=\"data row8 col6\" >0.9233</td>\n",
       "    </tr>\n",
       "    <tr>\n",
       "      <th id=\"T_51d0e_level0_row9\" class=\"row_heading level0 row9\" >9</th>\n",
       "      <td id=\"T_51d0e_row9_col0\" class=\"data row9 col0\" >0.9351</td>\n",
       "      <td id=\"T_51d0e_row9_col1\" class=\"data row9 col1\" >0.9852</td>\n",
       "      <td id=\"T_51d0e_row9_col2\" class=\"data row9 col2\" >0.9221</td>\n",
       "      <td id=\"T_51d0e_row9_col3\" class=\"data row9 col3\" >0.9467</td>\n",
       "      <td id=\"T_51d0e_row9_col4\" class=\"data row9 col4\" >0.9342</td>\n",
       "      <td id=\"T_51d0e_row9_col5\" class=\"data row9 col5\" >0.8701</td>\n",
       "      <td id=\"T_51d0e_row9_col6\" class=\"data row9 col6\" >0.8704</td>\n",
       "    </tr>\n",
       "    <tr>\n",
       "      <th id=\"T_51d0e_level0_row10\" class=\"row_heading level0 row10\" >Mean</th>\n",
       "      <td id=\"T_51d0e_row10_col0\" class=\"data row10 col0\" >0.9566</td>\n",
       "      <td id=\"T_51d0e_row10_col1\" class=\"data row10 col1\" >0.9925</td>\n",
       "      <td id=\"T_51d0e_row10_col2\" class=\"data row10 col2\" >0.9495</td>\n",
       "      <td id=\"T_51d0e_row10_col3\" class=\"data row10 col3\" >0.9636</td>\n",
       "      <td id=\"T_51d0e_row10_col4\" class=\"data row10 col4\" >0.9561</td>\n",
       "      <td id=\"T_51d0e_row10_col5\" class=\"data row10 col5\" >0.9132</td>\n",
       "      <td id=\"T_51d0e_row10_col6\" class=\"data row10 col6\" >0.9141</td>\n",
       "    </tr>\n",
       "    <tr>\n",
       "      <th id=\"T_51d0e_level0_row11\" class=\"row_heading level0 row11\" >Std</th>\n",
       "      <td id=\"T_51d0e_row11_col0\" class=\"data row11 col0\" >0.0158</td>\n",
       "      <td id=\"T_51d0e_row11_col1\" class=\"data row11 col1\" >0.0056</td>\n",
       "      <td id=\"T_51d0e_row11_col2\" class=\"data row11 col2\" >0.0325</td>\n",
       "      <td id=\"T_51d0e_row11_col3\" class=\"data row11 col3\" >0.0166</td>\n",
       "      <td id=\"T_51d0e_row11_col4\" class=\"data row11 col4\" >0.0168</td>\n",
       "      <td id=\"T_51d0e_row11_col5\" class=\"data row11 col5\" >0.0317</td>\n",
       "      <td id=\"T_51d0e_row11_col6\" class=\"data row11 col6\" >0.0314</td>\n",
       "    </tr>\n",
       "  </tbody>\n",
       "</table>\n"
      ],
      "text/plain": [
       "<pandas.io.formats.style.Styler at 0x2484db937d0>"
      ]
     },
     "metadata": {},
     "output_type": "display_data"
    },
    {
     "data": {
      "text/html": [],
      "text/plain": [
       "<IPython.core.display.HTML object>"
      ]
     },
     "metadata": {},
     "output_type": "display_data"
    }
   ],
   "source": [
    "modele = create_model('rf')"
   ]
  },
  {
   "cell_type": "code",
   "execution_count": null,
   "id": "c5e61353",
   "metadata": {},
   "outputs": [
    {
     "data": {
      "application/vnd.jupyter.widget-view+json": {
       "model_id": "a476bd565765410ea43216fbc5f09c6d",
       "version_major": 2,
       "version_minor": 0
      },
      "text/plain": [
       "interactive(children=(ToggleButtons(description='Plot Type:', icons=('',), options=(('Pipeline Plot', 'pipelin…"
      ]
     },
     "metadata": {},
     "output_type": "display_data"
    }
   ],
   "source": [
    "evaluate_model(modele)"
   ]
  },
  {
   "cell_type": "code",
   "execution_count": 319,
   "id": "e39a0323",
   "metadata": {},
   "outputs": [
    {
     "data": {
      "text/html": [
       "<style type=\"text/css\">\n",
       "</style>\n",
       "<table id=\"T_2e04a\">\n",
       "  <thead>\n",
       "    <tr>\n",
       "      <th class=\"blank level0\" >&nbsp;</th>\n",
       "      <th id=\"T_2e04a_level0_col0\" class=\"col_heading level0 col0\" >Model</th>\n",
       "      <th id=\"T_2e04a_level0_col1\" class=\"col_heading level0 col1\" >Accuracy</th>\n",
       "      <th id=\"T_2e04a_level0_col2\" class=\"col_heading level0 col2\" >AUC</th>\n",
       "      <th id=\"T_2e04a_level0_col3\" class=\"col_heading level0 col3\" >Recall</th>\n",
       "      <th id=\"T_2e04a_level0_col4\" class=\"col_heading level0 col4\" >Prec.</th>\n",
       "      <th id=\"T_2e04a_level0_col5\" class=\"col_heading level0 col5\" >F1</th>\n",
       "      <th id=\"T_2e04a_level0_col6\" class=\"col_heading level0 col6\" >Kappa</th>\n",
       "      <th id=\"T_2e04a_level0_col7\" class=\"col_heading level0 col7\" >MCC</th>\n",
       "    </tr>\n",
       "  </thead>\n",
       "  <tbody>\n",
       "    <tr>\n",
       "      <th id=\"T_2e04a_level0_row0\" class=\"row_heading level0 row0\" >0</th>\n",
       "      <td id=\"T_2e04a_row0_col0\" class=\"data row0 col0\" >Random Forest Classifier</td>\n",
       "      <td id=\"T_2e04a_row0_col1\" class=\"data row0 col1\" >0.9637</td>\n",
       "      <td id=\"T_2e04a_row0_col2\" class=\"data row0 col2\" >0.9925</td>\n",
       "      <td id=\"T_2e04a_row0_col3\" class=\"data row0 col3\" >0.9793</td>\n",
       "      <td id=\"T_2e04a_row0_col4\" class=\"data row0 col4\" >0.9497</td>\n",
       "      <td id=\"T_2e04a_row0_col5\" class=\"data row0 col5\" >0.9643</td>\n",
       "      <td id=\"T_2e04a_row0_col6\" class=\"data row0 col6\" >0.9275</td>\n",
       "      <td id=\"T_2e04a_row0_col7\" class=\"data row0 col7\" >0.9279</td>\n",
       "    </tr>\n",
       "  </tbody>\n",
       "</table>\n"
      ],
      "text/plain": [
       "<pandas.io.formats.style.Styler at 0x2484dc02790>"
      ]
     },
     "metadata": {},
     "output_type": "display_data"
    },
    {
     "data": {
      "application/vnd.microsoft.datawrangler.viewer.v0+json": {
       "columns": [
        {
         "name": "index",
         "rawType": "int64",
         "type": "integer"
        },
        {
         "name": "age",
         "rawType": "float32",
         "type": "float"
        },
        {
         "name": "salaire",
         "rawType": "float32",
         "type": "float"
        },
        {
         "name": "score_credit",
         "rawType": "float32",
         "type": "float"
        },
        {
         "name": "montant_transaction",
         "rawType": "float32",
         "type": "float"
        },
        {
         "name": "anciennete_compte",
         "rawType": "float32",
         "type": "float"
        },
        {
         "name": "type_carte",
         "rawType": "float32",
         "type": "float"
        },
        {
         "name": "region",
         "rawType": "float32",
         "type": "float"
        },
        {
         "name": "genre",
         "rawType": "float32",
         "type": "float"
        },
        {
         "name": "fraude",
         "rawType": "int8",
         "type": "integer"
        },
        {
         "name": "prediction_label",
         "rawType": "int32",
         "type": "integer"
        },
        {
         "name": "prediction_score",
         "rawType": "float64",
         "type": "float"
        }
       ],
       "ref": "9c2b3060-9178-4dc1-80f1-bcaab63824e2",
       "rows": [
        [
         "1441",
         "42.527103",
         "155959.33",
         "58.85651",
         "3218705.5",
         "1.3412485",
         "0.0",
         "0.38775152",
         "0.0",
         "1",
         "1",
         "0.98"
        ],
        [
         "1537",
         "43.86502",
         "207053.22",
         "46.29334",
         "6641359.5",
         "7.318032",
         "0.0",
         "0.34374616",
         "1.0",
         "1",
         "1",
         "0.98"
        ],
        [
         "1684",
         "35.123196",
         "322923.0",
         "70.427765",
         "6208665.0",
         "13.727421",
         "0.0",
         "0.33658236",
         "0.0",
         "1",
         "1",
         "0.87"
        ],
        [
         "617",
         "47.647488",
         "350297.6",
         "60.250874",
         "1246316.2",
         "6.0",
         "1.0",
         "0.3950495",
         "0.0",
         "0",
         "0",
         "0.89"
        ],
        [
         "838",
         "32.095978",
         "297164.62",
         "55.786777",
         "3009985.0",
         "14.0",
         "1.0",
         "0.3950495",
         "0.0",
         "0",
         "0",
         "0.85"
        ],
        [
         "581",
         "45.327023",
         "287529.97",
         "35.146816",
         "3611250.8",
         "12.0",
         "0.0",
         "0.2881188",
         "1.0",
         "0",
         "0",
         "0.9"
        ],
        [
         "58",
         "34.694683",
         "295535.03",
         "11.008197",
         "7283522.0",
         "14.0",
         "0.0",
         "0.3950495",
         "0.0",
         "0",
         "0",
         "0.93"
        ],
        [
         "1048",
         "45.353813",
         "286058.25",
         "39.4849",
         "6415093.5",
         "8.693413",
         "0.0",
         "0.3950495",
         "1.0",
         "1",
         "1",
         "0.91"
        ],
        [
         "1356",
         "47.552887",
         "342517.88",
         "63.85865",
         "5591642.0",
         "8.696201",
         "0.0",
         "0.36313784",
         "1.0",
         "1",
         "1",
         "0.94"
        ],
        [
         "1572",
         "26.229702",
         "189518.95",
         "56.427876",
         "7979471.5",
         "10.796613",
         "1.0",
         "0.3950495",
         "0.0",
         "1",
         "1",
         "0.62"
        ],
        [
         "605",
         "41.55964",
         "217096.06",
         "92.37587",
         "5340003.5",
         "7.0",
         "1.0",
         "0.31683168",
         "1.0",
         "0",
         "0",
         "0.88"
        ],
        [
         "1140",
         "42.299183",
         "300421.7",
         "40.429043",
         "5637977.5",
         "9.008955",
         "0.0",
         "0.31683168",
         "0.0",
         "1",
         "1",
         "0.85"
        ],
        [
         "1432",
         "45.454964",
         "419065.34",
         "76.51121",
         "5325163.0",
         "2.1332512",
         "0.0",
         "0.31218326",
         "1.0",
         "1",
         "1",
         "1.0"
        ],
        [
         "272",
         "39.183174",
         "233864.67",
         "67.779755",
         "6764414.0",
         "11.0",
         "1.0",
         "0.3950495",
         "1.0",
         "0",
         "0",
         "0.72"
        ],
        [
         "1210",
         "40.15191",
         "134532.88",
         "45.91109",
         "9326592.0",
         "7.41415",
         "0.0",
         "0.2881188",
         "0.0",
         "1",
         "1",
         "0.95"
        ],
        [
         "1712",
         "35.810078",
         "355933.8",
         "66.25031",
         "4663722.0",
         "15.472491",
         "0.0",
         "0.3130451",
         "1.0",
         "1",
         "1",
         "0.6"
        ],
        [
         "951",
         "44.26956",
         "148097.17",
         "62.496357",
         "4697912.5",
         "13.0",
         "1.0",
         "0.3950495",
         "1.0",
         "1",
         "1",
         "0.74"
        ],
        [
         "909",
         "24.0",
         "504151.0",
         "16.646694",
         "4705997.0",
         "11.0",
         "1.0",
         "0.2881188",
         "0.0",
         "0",
         "0",
         "0.88"
        ],
        [
         "1327",
         "45.930206",
         "341223.62",
         "38.61974",
         "6402864.5",
         "6.0931306",
         "0.0",
         "0.3950495",
         "1.0",
         "1",
         "1",
         "0.95"
        ],
        [
         "17",
         "42.658978",
         "269787.0",
         "68.98593",
         "1322323.2",
         "14.0",
         "1.0",
         "0.31683168",
         "1.0",
         "0",
         "0",
         "0.77"
        ],
        [
         "1577",
         "47.27172",
         "229210.0",
         "37.750324",
         "10012208.0",
         "11.478617",
         "0.0",
         "0.2881188",
         "0.0",
         "1",
         "1",
         "0.92"
        ],
        [
         "507",
         "40.729",
         "257586.1",
         "47.757473",
         "25000.0",
         "9.0",
         "1.0",
         "0.31683168",
         "1.0",
         "0",
         "0",
         "0.93"
        ],
        [
         "60",
         "35.62874",
         "264823.88",
         "59.863914",
         "4097194.0",
         "1.0",
         "1.0",
         "0.31683168",
         "0.0",
         "0",
         "0",
         "0.91"
        ],
        [
         "715",
         "55.79263",
         "424524.22",
         "74.45424",
         "5400696.0",
         "8.0",
         "1.0",
         "0.2881188",
         "1.0",
         "0",
         "0",
         "0.94"
        ],
        [
         "335",
         "45.336525",
         "527297.7",
         "68.8843",
         "6354042.5",
         "9.0",
         "1.0",
         "0.31683168",
         "1.0",
         "0",
         "0",
         "0.98"
        ],
        [
         "133",
         "34.87068",
         "230421.83",
         "60.32326",
         "11715738.0",
         "6.0",
         "1.0",
         "0.3950495",
         "1.0",
         "0",
         "0",
         "0.71"
        ],
        [
         "1466",
         "37.286552",
         "256451.98",
         "44.33262",
         "8093888.5",
         "7.8628664",
         "0.0",
         "0.3950495",
         "1.0",
         "1",
         "1",
         "0.67"
        ],
        [
         "441",
         "44.131172",
         "150176.88",
         "44.357502",
         "3823856.8",
         "12.0",
         "0.0",
         "0.31683168",
         "1.0",
         "0",
         "0",
         "0.64"
        ],
        [
         "1815",
         "43.092854",
         "354524.44",
         "30.642006",
         "1303662.8",
         "15.160864",
         "0.0",
         "0.34837392",
         "0.0",
         "1",
         "1",
         "0.97"
        ],
        [
         "69",
         "33.72669",
         "350094.78",
         "49.642757",
         "4636773.5",
         "16.0",
         "1.0",
         "0.3950495",
         "0.0",
         "0",
         "0",
         "0.88"
        ],
        [
         "406",
         "40.40805",
         "246921.16",
         "61.83142",
         "6312118.0",
         "2.0",
         "0.0",
         "0.2881188",
         "0.0",
         "0",
         "0",
         "0.9"
        ],
        [
         "361",
         "43.02437",
         "75000.0",
         "44.57407",
         "3352284.0",
         "13.0",
         "1.0",
         "0.3950495",
         "1.0",
         "0",
         "0",
         "0.86"
        ],
        [
         "358",
         "46.409454",
         "422789.2",
         "76.15929",
         "7847789.5",
         "16.0",
         "0.0",
         "0.3950495",
         "1.0",
         "0",
         "0",
         "0.89"
        ],
        [
         "859",
         "39.98537",
         "392710.28",
         "59.78261",
         "7026472.5",
         "14.0",
         "1.0",
         "0.2881188",
         "0.0",
         "0",
         "0",
         "0.91"
        ],
        [
         "1777",
         "30.138319",
         "333553.38",
         "49.408188",
         "1903702.1",
         "7.87578",
         "0.0",
         "0.31326497",
         "1.0",
         "1",
         "1",
         "0.93"
        ],
        [
         "510",
         "49.84368",
         "75000.0",
         "66.52291",
         "89594.41",
         "11.0",
         "1.0",
         "0.2881188",
         "0.0",
         "0",
         "0",
         "0.99"
        ],
        [
         "462",
         "37.59897",
         "428740.56",
         "65.86525",
         "6189884.0",
         "9.655656",
         "1.0",
         "0.31683168",
         "1.0",
         "0",
         "0",
         "0.91"
        ],
        [
         "1449",
         "43.50528",
         "218479.11",
         "30.15017",
         "5111807.0",
         "5.3673043",
         "1.0",
         "0.3950495",
         "1.0",
         "1",
         "1",
         "0.72"
        ],
        [
         "1366",
         "37.77675",
         "299916.47",
         "20.82489",
         "1155487.1",
         "15.253822",
         "1.0",
         "0.30881542",
         "0.0",
         "1",
         "1",
         "0.91"
        ],
        [
         "987",
         "46.607388",
         "382160.84",
         "63.19699",
         "1397543.0",
         "3.0",
         "1.0",
         "0.31683168",
         "0.0",
         "0",
         "0",
         "0.83"
        ],
        [
         "1824",
         "29.238644",
         "327103.56",
         "62.665195",
         "3101704.8",
         "5.2575297",
         "0.0",
         "0.32781523",
         "0.0",
         "1",
         "1",
         "0.96"
        ],
        [
         "233",
         "39.845455",
         "479576.78",
         "68.83238",
         "7898441.0",
         "20.0",
         "0.0",
         "0.3950495",
         "0.0",
         "0",
         "0",
         "0.95"
        ],
        [
         "854",
         "30.204782",
         "249672.62",
         "36.244312",
         "25000.0",
         "8.0",
         "1.0",
         "0.3950495",
         "1.0",
         "0",
         "0",
         "0.92"
        ],
        [
         "265",
         "24.0",
         "297974.5",
         "60.56072",
         "4856042.5",
         "9.0",
         "0.0",
         "0.31683168",
         "0.0",
         "0",
         "0",
         "0.83"
        ],
        [
         "309",
         "38.05272",
         "268163.34",
         "49.56781",
         "6884309.0",
         "12.0",
         "1.0",
         "0.31683168",
         "1.0",
         "0",
         "0",
         "0.91"
        ],
        [
         "1496",
         "46.16768",
         "335260.9",
         "39.678165",
         "6468076.0",
         "6.2053113",
         "0.0",
         "0.3444488",
         "1.0",
         "1",
         "1",
         "0.97"
        ],
        [
         "1839",
         "34.07727",
         "321271.7",
         "74.73173",
         "3106302.0",
         "10.309813",
         "0.0",
         "0.32652307",
         "0.0",
         "1",
         "1",
         "0.98"
        ],
        [
         "1636",
         "44.662445",
         "245981.75",
         "51.00872",
         "9063876.0",
         "14.497099",
         "0.0",
         "0.2922554",
         "0.0",
         "1",
         "1",
         "0.96"
        ],
        [
         "540",
         "36.609333",
         "398158.22",
         "50.707428",
         "3872215.2",
         "4.0",
         "1.0",
         "0.31683168",
         "1.0",
         "0",
         "0",
         "1.0"
        ],
        [
         "1677",
         "37.402103",
         "371522.22",
         "39.98156",
         "5737483.5",
         "10.0",
         "0.0",
         "0.31683168",
         "0.0",
         "1",
         "1",
         "0.99"
        ]
       ],
       "shape": {
        "columns": 11,
        "rows": 386
       }
      },
      "text/html": [
       "<div>\n",
       "<style scoped>\n",
       "    .dataframe tbody tr th:only-of-type {\n",
       "        vertical-align: middle;\n",
       "    }\n",
       "\n",
       "    .dataframe tbody tr th {\n",
       "        vertical-align: top;\n",
       "    }\n",
       "\n",
       "    .dataframe thead th {\n",
       "        text-align: right;\n",
       "    }\n",
       "</style>\n",
       "<table border=\"1\" class=\"dataframe\">\n",
       "  <thead>\n",
       "    <tr style=\"text-align: right;\">\n",
       "      <th></th>\n",
       "      <th>age</th>\n",
       "      <th>salaire</th>\n",
       "      <th>score_credit</th>\n",
       "      <th>montant_transaction</th>\n",
       "      <th>anciennete_compte</th>\n",
       "      <th>type_carte</th>\n",
       "      <th>region</th>\n",
       "      <th>genre</th>\n",
       "      <th>fraude</th>\n",
       "      <th>prediction_label</th>\n",
       "      <th>prediction_score</th>\n",
       "    </tr>\n",
       "  </thead>\n",
       "  <tbody>\n",
       "    <tr>\n",
       "      <th>1441</th>\n",
       "      <td>42.527103</td>\n",
       "      <td>155959.328125</td>\n",
       "      <td>58.856510</td>\n",
       "      <td>3.218706e+06</td>\n",
       "      <td>1.341249</td>\n",
       "      <td>0.0</td>\n",
       "      <td>0.387752</td>\n",
       "      <td>0.0</td>\n",
       "      <td>1</td>\n",
       "      <td>1</td>\n",
       "      <td>0.98</td>\n",
       "    </tr>\n",
       "    <tr>\n",
       "      <th>1537</th>\n",
       "      <td>43.865021</td>\n",
       "      <td>207053.218750</td>\n",
       "      <td>46.293339</td>\n",
       "      <td>6.641360e+06</td>\n",
       "      <td>7.318032</td>\n",
       "      <td>0.0</td>\n",
       "      <td>0.343746</td>\n",
       "      <td>1.0</td>\n",
       "      <td>1</td>\n",
       "      <td>1</td>\n",
       "      <td>0.98</td>\n",
       "    </tr>\n",
       "    <tr>\n",
       "      <th>1684</th>\n",
       "      <td>35.123196</td>\n",
       "      <td>322923.000000</td>\n",
       "      <td>70.427765</td>\n",
       "      <td>6.208665e+06</td>\n",
       "      <td>13.727421</td>\n",
       "      <td>0.0</td>\n",
       "      <td>0.336582</td>\n",
       "      <td>0.0</td>\n",
       "      <td>1</td>\n",
       "      <td>1</td>\n",
       "      <td>0.87</td>\n",
       "    </tr>\n",
       "    <tr>\n",
       "      <th>617</th>\n",
       "      <td>47.647488</td>\n",
       "      <td>350297.593750</td>\n",
       "      <td>60.250874</td>\n",
       "      <td>1.246316e+06</td>\n",
       "      <td>6.000000</td>\n",
       "      <td>1.0</td>\n",
       "      <td>0.395050</td>\n",
       "      <td>0.0</td>\n",
       "      <td>0</td>\n",
       "      <td>0</td>\n",
       "      <td>0.89</td>\n",
       "    </tr>\n",
       "    <tr>\n",
       "      <th>838</th>\n",
       "      <td>32.095978</td>\n",
       "      <td>297164.625000</td>\n",
       "      <td>55.786777</td>\n",
       "      <td>3.009985e+06</td>\n",
       "      <td>14.000000</td>\n",
       "      <td>1.0</td>\n",
       "      <td>0.395050</td>\n",
       "      <td>0.0</td>\n",
       "      <td>0</td>\n",
       "      <td>0</td>\n",
       "      <td>0.85</td>\n",
       "    </tr>\n",
       "    <tr>\n",
       "      <th>...</th>\n",
       "      <td>...</td>\n",
       "      <td>...</td>\n",
       "      <td>...</td>\n",
       "      <td>...</td>\n",
       "      <td>...</td>\n",
       "      <td>...</td>\n",
       "      <td>...</td>\n",
       "      <td>...</td>\n",
       "      <td>...</td>\n",
       "      <td>...</td>\n",
       "      <td>...</td>\n",
       "    </tr>\n",
       "    <tr>\n",
       "      <th>1869</th>\n",
       "      <td>36.201515</td>\n",
       "      <td>313048.781250</td>\n",
       "      <td>46.448589</td>\n",
       "      <td>1.337679e+06</td>\n",
       "      <td>3.581452</td>\n",
       "      <td>0.0</td>\n",
       "      <td>0.300554</td>\n",
       "      <td>0.0</td>\n",
       "      <td>1</td>\n",
       "      <td>1</td>\n",
       "      <td>0.92</td>\n",
       "    </tr>\n",
       "    <tr>\n",
       "      <th>1380</th>\n",
       "      <td>40.856117</td>\n",
       "      <td>154223.953125</td>\n",
       "      <td>37.660137</td>\n",
       "      <td>1.114731e+07</td>\n",
       "      <td>9.122777</td>\n",
       "      <td>0.0</td>\n",
       "      <td>0.291644</td>\n",
       "      <td>0.0</td>\n",
       "      <td>1</td>\n",
       "      <td>1</td>\n",
       "      <td>0.96</td>\n",
       "    </tr>\n",
       "    <tr>\n",
       "      <th>1675</th>\n",
       "      <td>42.157162</td>\n",
       "      <td>394787.531250</td>\n",
       "      <td>71.646362</td>\n",
       "      <td>5.484537e+06</td>\n",
       "      <td>3.915530</td>\n",
       "      <td>0.0</td>\n",
       "      <td>0.316832</td>\n",
       "      <td>0.0</td>\n",
       "      <td>1</td>\n",
       "      <td>1</td>\n",
       "      <td>0.78</td>\n",
       "    </tr>\n",
       "    <tr>\n",
       "      <th>1193</th>\n",
       "      <td>43.778164</td>\n",
       "      <td>223909.765625</td>\n",
       "      <td>34.730907</td>\n",
       "      <td>5.143380e+06</td>\n",
       "      <td>5.640195</td>\n",
       "      <td>1.0</td>\n",
       "      <td>0.395050</td>\n",
       "      <td>1.0</td>\n",
       "      <td>1</td>\n",
       "      <td>1</td>\n",
       "      <td>0.69</td>\n",
       "    </tr>\n",
       "    <tr>\n",
       "      <th>1376</th>\n",
       "      <td>37.953732</td>\n",
       "      <td>363530.562500</td>\n",
       "      <td>45.117668</td>\n",
       "      <td>5.729850e+06</td>\n",
       "      <td>10.000000</td>\n",
       "      <td>0.0</td>\n",
       "      <td>0.316832</td>\n",
       "      <td>0.0</td>\n",
       "      <td>1</td>\n",
       "      <td>1</td>\n",
       "      <td>1.00</td>\n",
       "    </tr>\n",
       "  </tbody>\n",
       "</table>\n",
       "<p>386 rows × 11 columns</p>\n",
       "</div>"
      ],
      "text/plain": [
       "            age        salaire  score_credit  montant_transaction  \\\n",
       "1441  42.527103  155959.328125     58.856510         3.218706e+06   \n",
       "1537  43.865021  207053.218750     46.293339         6.641360e+06   \n",
       "1684  35.123196  322923.000000     70.427765         6.208665e+06   \n",
       "617   47.647488  350297.593750     60.250874         1.246316e+06   \n",
       "838   32.095978  297164.625000     55.786777         3.009985e+06   \n",
       "...         ...            ...           ...                  ...   \n",
       "1869  36.201515  313048.781250     46.448589         1.337679e+06   \n",
       "1380  40.856117  154223.953125     37.660137         1.114731e+07   \n",
       "1675  42.157162  394787.531250     71.646362         5.484537e+06   \n",
       "1193  43.778164  223909.765625     34.730907         5.143380e+06   \n",
       "1376  37.953732  363530.562500     45.117668         5.729850e+06   \n",
       "\n",
       "      anciennete_compte  type_carte    region  genre  fraude  \\\n",
       "1441           1.341249         0.0  0.387752    0.0       1   \n",
       "1537           7.318032         0.0  0.343746    1.0       1   \n",
       "1684          13.727421         0.0  0.336582    0.0       1   \n",
       "617            6.000000         1.0  0.395050    0.0       0   \n",
       "838           14.000000         1.0  0.395050    0.0       0   \n",
       "...                 ...         ...       ...    ...     ...   \n",
       "1869           3.581452         0.0  0.300554    0.0       1   \n",
       "1380           9.122777         0.0  0.291644    0.0       1   \n",
       "1675           3.915530         0.0  0.316832    0.0       1   \n",
       "1193           5.640195         1.0  0.395050    1.0       1   \n",
       "1376          10.000000         0.0  0.316832    0.0       1   \n",
       "\n",
       "      prediction_label  prediction_score  \n",
       "1441                 1              0.98  \n",
       "1537                 1              0.98  \n",
       "1684                 1              0.87  \n",
       "617                  0              0.89  \n",
       "838                  0              0.85  \n",
       "...                ...               ...  \n",
       "1869                 1              0.92  \n",
       "1380                 1              0.96  \n",
       "1675                 1              0.78  \n",
       "1193                 1              0.69  \n",
       "1376                 1              1.00  \n",
       "\n",
       "[386 rows x 11 columns]"
      ]
     },
     "execution_count": 319,
     "metadata": {},
     "output_type": "execute_result"
    }
   ],
   "source": [
    "predict_model(modele)"
   ]
  },
  {
   "cell_type": "markdown",
   "id": "5f1f6145",
   "metadata": {},
   "source": [
    "#### *optimisation avec GridSearch*"
   ]
  },
  {
   "cell_type": "code",
   "execution_count": 321,
   "id": "503cac3e",
   "metadata": {},
   "outputs": [
    {
     "data": {
      "text/html": [],
      "text/plain": [
       "<IPython.core.display.HTML object>"
      ]
     },
     "metadata": {},
     "output_type": "display_data"
    },
    {
     "data": {
      "text/html": [
       "<style type=\"text/css\">\n",
       "#T_ffd20_row10_col0, #T_ffd20_row10_col1, #T_ffd20_row10_col2, #T_ffd20_row10_col3, #T_ffd20_row10_col4, #T_ffd20_row10_col5, #T_ffd20_row10_col6 {\n",
       "  background: yellow;\n",
       "}\n",
       "</style>\n",
       "<table id=\"T_ffd20\">\n",
       "  <thead>\n",
       "    <tr>\n",
       "      <th class=\"blank level0\" >&nbsp;</th>\n",
       "      <th id=\"T_ffd20_level0_col0\" class=\"col_heading level0 col0\" >Accuracy</th>\n",
       "      <th id=\"T_ffd20_level0_col1\" class=\"col_heading level0 col1\" >AUC</th>\n",
       "      <th id=\"T_ffd20_level0_col2\" class=\"col_heading level0 col2\" >Recall</th>\n",
       "      <th id=\"T_ffd20_level0_col3\" class=\"col_heading level0 col3\" >Prec.</th>\n",
       "      <th id=\"T_ffd20_level0_col4\" class=\"col_heading level0 col4\" >F1</th>\n",
       "      <th id=\"T_ffd20_level0_col5\" class=\"col_heading level0 col5\" >Kappa</th>\n",
       "      <th id=\"T_ffd20_level0_col6\" class=\"col_heading level0 col6\" >MCC</th>\n",
       "    </tr>\n",
       "    <tr>\n",
       "      <th class=\"index_name level0\" >Fold</th>\n",
       "      <th class=\"blank col0\" >&nbsp;</th>\n",
       "      <th class=\"blank col1\" >&nbsp;</th>\n",
       "      <th class=\"blank col2\" >&nbsp;</th>\n",
       "      <th class=\"blank col3\" >&nbsp;</th>\n",
       "      <th class=\"blank col4\" >&nbsp;</th>\n",
       "      <th class=\"blank col5\" >&nbsp;</th>\n",
       "      <th class=\"blank col6\" >&nbsp;</th>\n",
       "    </tr>\n",
       "  </thead>\n",
       "  <tbody>\n",
       "    <tr>\n",
       "      <th id=\"T_ffd20_level0_row0\" class=\"row_heading level0 row0\" >0</th>\n",
       "      <td id=\"T_ffd20_row0_col0\" class=\"data row0 col0\" >0.9290</td>\n",
       "      <td id=\"T_ffd20_row0_col1\" class=\"data row0 col1\" >0.9802</td>\n",
       "      <td id=\"T_ffd20_row0_col2\" class=\"data row0 col2\" >0.9359</td>\n",
       "      <td id=\"T_ffd20_row0_col3\" class=\"data row0 col3\" >0.9241</td>\n",
       "      <td id=\"T_ffd20_row0_col4\" class=\"data row0 col4\" >0.9299</td>\n",
       "      <td id=\"T_ffd20_row0_col5\" class=\"data row0 col5\" >0.8580</td>\n",
       "      <td id=\"T_ffd20_row0_col6\" class=\"data row0 col6\" >0.8581</td>\n",
       "    </tr>\n",
       "    <tr>\n",
       "      <th id=\"T_ffd20_level0_row1\" class=\"row_heading level0 row1\" >1</th>\n",
       "      <td id=\"T_ffd20_row1_col0\" class=\"data row1 col0\" >0.9290</td>\n",
       "      <td id=\"T_ffd20_row1_col1\" class=\"data row1 col1\" >0.9805</td>\n",
       "      <td id=\"T_ffd20_row1_col2\" class=\"data row1 col2\" >0.8590</td>\n",
       "      <td id=\"T_ffd20_row1_col3\" class=\"data row1 col3\" >1.0000</td>\n",
       "      <td id=\"T_ffd20_row1_col4\" class=\"data row1 col4\" >0.9241</td>\n",
       "      <td id=\"T_ffd20_row1_col5\" class=\"data row1 col5\" >0.8582</td>\n",
       "      <td id=\"T_ffd20_row1_col6\" class=\"data row1 col6\" >0.8670</td>\n",
       "    </tr>\n",
       "    <tr>\n",
       "      <th id=\"T_ffd20_level0_row2\" class=\"row_heading level0 row2\" >2</th>\n",
       "      <td id=\"T_ffd20_row2_col0\" class=\"data row2 col0\" >0.8903</td>\n",
       "      <td id=\"T_ffd20_row2_col1\" class=\"data row2 col1\" >0.9535</td>\n",
       "      <td id=\"T_ffd20_row2_col2\" class=\"data row2 col2\" >0.8182</td>\n",
       "      <td id=\"T_ffd20_row2_col3\" class=\"data row2 col3\" >0.9545</td>\n",
       "      <td id=\"T_ffd20_row2_col4\" class=\"data row2 col4\" >0.8811</td>\n",
       "      <td id=\"T_ffd20_row2_col5\" class=\"data row2 col5\" >0.7804</td>\n",
       "      <td id=\"T_ffd20_row2_col6\" class=\"data row2 col6\" >0.7884</td>\n",
       "    </tr>\n",
       "    <tr>\n",
       "      <th id=\"T_ffd20_level0_row3\" class=\"row_heading level0 row3\" >3</th>\n",
       "      <td id=\"T_ffd20_row3_col0\" class=\"data row3 col0\" >0.9548</td>\n",
       "      <td id=\"T_ffd20_row3_col1\" class=\"data row3 col1\" >0.9918</td>\n",
       "      <td id=\"T_ffd20_row3_col2\" class=\"data row3 col2\" >0.9351</td>\n",
       "      <td id=\"T_ffd20_row3_col3\" class=\"data row3 col3\" >0.9730</td>\n",
       "      <td id=\"T_ffd20_row3_col4\" class=\"data row3 col4\" >0.9536</td>\n",
       "      <td id=\"T_ffd20_row3_col5\" class=\"data row3 col5\" >0.9097</td>\n",
       "      <td id=\"T_ffd20_row3_col6\" class=\"data row3 col6\" >0.9103</td>\n",
       "    </tr>\n",
       "    <tr>\n",
       "      <th id=\"T_ffd20_level0_row4\" class=\"row_heading level0 row4\" >4</th>\n",
       "      <td id=\"T_ffd20_row4_col0\" class=\"data row4 col0\" >0.9091</td>\n",
       "      <td id=\"T_ffd20_row4_col1\" class=\"data row4 col1\" >0.9801</td>\n",
       "      <td id=\"T_ffd20_row4_col2\" class=\"data row4 col2\" >0.8571</td>\n",
       "      <td id=\"T_ffd20_row4_col3\" class=\"data row4 col3\" >0.9565</td>\n",
       "      <td id=\"T_ffd20_row4_col4\" class=\"data row4 col4\" >0.9041</td>\n",
       "      <td id=\"T_ffd20_row4_col5\" class=\"data row4 col5\" >0.8182</td>\n",
       "      <td id=\"T_ffd20_row4_col6\" class=\"data row4 col6\" >0.8226</td>\n",
       "    </tr>\n",
       "    <tr>\n",
       "      <th id=\"T_ffd20_level0_row5\" class=\"row_heading level0 row5\" >5</th>\n",
       "      <td id=\"T_ffd20_row5_col0\" class=\"data row5 col0\" >0.9416</td>\n",
       "      <td id=\"T_ffd20_row5_col1\" class=\"data row5 col1\" >0.9882</td>\n",
       "      <td id=\"T_ffd20_row5_col2\" class=\"data row5 col2\" >0.9221</td>\n",
       "      <td id=\"T_ffd20_row5_col3\" class=\"data row5 col3\" >0.9595</td>\n",
       "      <td id=\"T_ffd20_row5_col4\" class=\"data row5 col4\" >0.9404</td>\n",
       "      <td id=\"T_ffd20_row5_col5\" class=\"data row5 col5\" >0.8831</td>\n",
       "      <td id=\"T_ffd20_row5_col6\" class=\"data row5 col6\" >0.8838</td>\n",
       "    </tr>\n",
       "    <tr>\n",
       "      <th id=\"T_ffd20_level0_row6\" class=\"row_heading level0 row6\" >6</th>\n",
       "      <td id=\"T_ffd20_row6_col0\" class=\"data row6 col0\" >0.9416</td>\n",
       "      <td id=\"T_ffd20_row6_col1\" class=\"data row6 col1\" >0.9845</td>\n",
       "      <td id=\"T_ffd20_row6_col2\" class=\"data row6 col2\" >0.9221</td>\n",
       "      <td id=\"T_ffd20_row6_col3\" class=\"data row6 col3\" >0.9595</td>\n",
       "      <td id=\"T_ffd20_row6_col4\" class=\"data row6 col4\" >0.9404</td>\n",
       "      <td id=\"T_ffd20_row6_col5\" class=\"data row6 col5\" >0.8831</td>\n",
       "      <td id=\"T_ffd20_row6_col6\" class=\"data row6 col6\" >0.8838</td>\n",
       "    </tr>\n",
       "    <tr>\n",
       "      <th id=\"T_ffd20_level0_row7\" class=\"row_heading level0 row7\" >7</th>\n",
       "      <td id=\"T_ffd20_row7_col0\" class=\"data row7 col0\" >0.9481</td>\n",
       "      <td id=\"T_ffd20_row7_col1\" class=\"data row7 col1\" >0.9855</td>\n",
       "      <td id=\"T_ffd20_row7_col2\" class=\"data row7 col2\" >0.9221</td>\n",
       "      <td id=\"T_ffd20_row7_col3\" class=\"data row7 col3\" >0.9726</td>\n",
       "      <td id=\"T_ffd20_row7_col4\" class=\"data row7 col4\" >0.9467</td>\n",
       "      <td id=\"T_ffd20_row7_col5\" class=\"data row7 col5\" >0.8961</td>\n",
       "      <td id=\"T_ffd20_row7_col6\" class=\"data row7 col6\" >0.8973</td>\n",
       "    </tr>\n",
       "    <tr>\n",
       "      <th id=\"T_ffd20_level0_row8\" class=\"row_heading level0 row8\" >8</th>\n",
       "      <td id=\"T_ffd20_row8_col0\" class=\"data row8 col0\" >0.9221</td>\n",
       "      <td id=\"T_ffd20_row8_col1\" class=\"data row8 col1\" >0.9749</td>\n",
       "      <td id=\"T_ffd20_row8_col2\" class=\"data row8 col2\" >0.9351</td>\n",
       "      <td id=\"T_ffd20_row8_col3\" class=\"data row8 col3\" >0.9114</td>\n",
       "      <td id=\"T_ffd20_row8_col4\" class=\"data row8 col4\" >0.9231</td>\n",
       "      <td id=\"T_ffd20_row8_col5\" class=\"data row8 col5\" >0.8442</td>\n",
       "      <td id=\"T_ffd20_row8_col6\" class=\"data row8 col6\" >0.8444</td>\n",
       "    </tr>\n",
       "    <tr>\n",
       "      <th id=\"T_ffd20_level0_row9\" class=\"row_heading level0 row9\" >9</th>\n",
       "      <td id=\"T_ffd20_row9_col0\" class=\"data row9 col0\" >0.9221</td>\n",
       "      <td id=\"T_ffd20_row9_col1\" class=\"data row9 col1\" >0.9710</td>\n",
       "      <td id=\"T_ffd20_row9_col2\" class=\"data row9 col2\" >0.9091</td>\n",
       "      <td id=\"T_ffd20_row9_col3\" class=\"data row9 col3\" >0.9333</td>\n",
       "      <td id=\"T_ffd20_row9_col4\" class=\"data row9 col4\" >0.9211</td>\n",
       "      <td id=\"T_ffd20_row9_col5\" class=\"data row9 col5\" >0.8442</td>\n",
       "      <td id=\"T_ffd20_row9_col6\" class=\"data row9 col6\" >0.8444</td>\n",
       "    </tr>\n",
       "    <tr>\n",
       "      <th id=\"T_ffd20_level0_row10\" class=\"row_heading level0 row10\" >Mean</th>\n",
       "      <td id=\"T_ffd20_row10_col0\" class=\"data row10 col0\" >0.9288</td>\n",
       "      <td id=\"T_ffd20_row10_col1\" class=\"data row10 col1\" >0.9790</td>\n",
       "      <td id=\"T_ffd20_row10_col2\" class=\"data row10 col2\" >0.9016</td>\n",
       "      <td id=\"T_ffd20_row10_col3\" class=\"data row10 col3\" >0.9544</td>\n",
       "      <td id=\"T_ffd20_row10_col4\" class=\"data row10 col4\" >0.9265</td>\n",
       "      <td id=\"T_ffd20_row10_col5\" class=\"data row10 col5\" >0.8575</td>\n",
       "      <td id=\"T_ffd20_row10_col6\" class=\"data row10 col6\" >0.8600</td>\n",
       "    </tr>\n",
       "    <tr>\n",
       "      <th id=\"T_ffd20_level0_row11\" class=\"row_heading level0 row11\" >Std</th>\n",
       "      <td id=\"T_ffd20_row11_col0\" class=\"data row11 col0\" >0.0183</td>\n",
       "      <td id=\"T_ffd20_row11_col1\" class=\"data row11 col1\" >0.0103</td>\n",
       "      <td id=\"T_ffd20_row11_col2\" class=\"data row11 col2\" >0.0393</td>\n",
       "      <td id=\"T_ffd20_row11_col3\" class=\"data row11 col3\" >0.0245</td>\n",
       "      <td id=\"T_ffd20_row11_col4\" class=\"data row11 col4\" >0.0204</td>\n",
       "      <td id=\"T_ffd20_row11_col5\" class=\"data row11 col5\" >0.0366</td>\n",
       "      <td id=\"T_ffd20_row11_col6\" class=\"data row11 col6\" >0.0348</td>\n",
       "    </tr>\n",
       "  </tbody>\n",
       "</table>\n"
      ],
      "text/plain": [
       "<pandas.io.formats.style.Styler at 0x2484d550990>"
      ]
     },
     "metadata": {},
     "output_type": "display_data"
    },
    {
     "data": {
      "text/html": [],
      "text/plain": [
       "<IPython.core.display.HTML object>"
      ]
     },
     "metadata": {},
     "output_type": "display_data"
    },
    {
     "name": "stdout",
     "output_type": "stream",
     "text": [
      "Original model was better than the tuned model, hence it will be returned. NOTE: The display metrics are for the tuned model (not the original one).\n"
     ]
    }
   ],
   "source": [
    "tuned_model = tune_model(modele, search_library='optuna') "
   ]
  },
  {
   "cell_type": "code",
   "execution_count": 322,
   "id": "beb26fb5",
   "metadata": {},
   "outputs": [],
   "source": [
    "import pickle\n",
    "pickle.dump(tuned_model, open('model.pkl', 'wb'))"
   ]
  }
 ],
 "metadata": {
  "kernelspec": {
   "display_name": "Machine_Learning (3.11.5)",
   "language": "python",
   "name": "python3"
  },
  "language_info": {
   "codemirror_mode": {
    "name": "ipython",
    "version": 3
   },
   "file_extension": ".py",
   "mimetype": "text/x-python",
   "name": "python",
   "nbconvert_exporter": "python",
   "pygments_lexer": "ipython3",
   "version": "3.11.5"
  }
 },
 "nbformat": 4,
 "nbformat_minor": 5
}
